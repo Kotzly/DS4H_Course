{
 "cells": [
  {
   "cell_type": "code",
   "execution_count": 1,
   "metadata": {},
   "outputs": [],
   "source": [
    "import shutil\n",
    "import urllib.request as request\n",
    "from contextlib import closing\n",
    "import zipfile\n",
    "import shutil\n",
    "import sys\n",
    "import os\n",
    "from pathlib import Path\n",
    "import pandas as pd\n",
    "from simpledbf import Dbf5\n",
    "import platform\n",
    "\n",
    "def download(url, save_filepath):\n",
    "    with requests.get(url, stream=True) as r:\n",
    "        r.raise_for_status()\n",
    "        with open(save_filepath, 'wb') as f:\n",
    "            for chunk in r.iter_content(chunk_size=8192): \n",
    "                # If you have chunk encoded response uncomment if\n",
    "                # and set chunk_size parameter to None.\n",
    "                #if chunk: \n",
    "                f.write(chunk)\n",
    "\n",
    "def download_ftp(url, savepath):\n",
    "    with closing(request.urlopen(url)) as r:\n",
    "        with open(savepath, 'wb') as f:\n",
    "            shutil.copyfileobj(r, f)\n",
    "\n",
    "root = Path(\"C://Users/Paulo Augusto/Documents/datasets/\")"
   ]
  },
  {
   "cell_type": "code",
   "execution_count": 2,
   "metadata": {},
   "outputs": [],
   "source": [
    "dbc_save_folder = root / \"SINASC_DBC\"\n",
    "dbf_save_folder = root / \"SINASC_DBF\"\n",
    "csv_save_folder = root / \"SINASC_CSV\"\n",
    "\n",
    "dbc_save_folder.mkdir(exist_ok=True)\n",
    "dbf_save_folder.mkdir(exist_ok=True)\n",
    "csv_save_folder.mkdir(exist_ok=True)\n"
   ]
  },
  {
   "cell_type": "code",
   "execution_count": 3,
   "metadata": {},
   "outputs": [
    {
     "name": "stdout",
     "output_type": "stream",
     "text": [
      "Downloading DNSP2010.dbc\n",
      "Downloading DNSP2011.dbc\n",
      "Downloading DNSP2012.dbc\n",
      "Downloading DNSP2013.dbc\n",
      "Downloading DNSP2014.dbc\n",
      "Downloading DNSP2015.dbc\n",
      "Downloading DNSP2016.dbc\n",
      "Downloading DNSP2017.dbc\n",
      "Downloading DNSP2018.dbc\n",
      "Downloading DNSP2019.dbc\n"
     ]
    }
   ],
   "source": [
    "SINASC_URLS = [\n",
    "    f\"ftp://ftp.datasus.gov.br/dissemin/publicos/SINASC/1996_/Dados/DNRES/DNSP{year}.dbc\"\n",
    "    for year in range(2010, 2019 + 1)\n",
    "]\n",
    "\n",
    "\n",
    "\n",
    "for url in SINASC_URLS:\n",
    "    print(\"Downloading\", url.split(\"/\")[-1])\n",
    "    save_path = dbc_save_folder / url.split(\"/\")[-1]\n",
    "    download_ftp(url, save_path)"
   ]
  },
  {
   "cell_type": "code",
   "execution_count": 4,
   "metadata": {},
   "outputs": [],
   "source": [
    "url = \"ftp://ftp.datasus.gov.br/tabwin/tabwin/TAB415.zip\"\n",
    "save_path = root / url.split(\"/\")[-1]\n",
    "download_ftp(url, save_path)\n",
    "\n",
    "extract_folder = save_path.parent / save_path.name.replace(\".zip\", \"\")\n",
    "extract_folder.mkdir(exist_ok=True)\n",
    "\n",
    "with zipfile.ZipFile(save_path, 'r') as zip_ref:\n",
    "    zip_ref.extractall(extract_folder)\n",
    "\n",
    "dec_tool_path = extract_folder / \"dbf2dbc.exe\""
   ]
  },
  {
   "cell_type": "code",
   "execution_count": 5,
   "metadata": {},
   "outputs": [
    {
     "data": {
      "text/plain": [
       "WindowsPath('C:/Users/Paulo Augusto/Documents/datasets/TAB415/dbf2dbc.exe')"
      ]
     },
     "execution_count": 5,
     "metadata": {},
     "output_type": "execute_result"
    }
   ],
   "source": [
    "dec_tool_path"
   ]
  },
  {
   "cell_type": "code",
   "execution_count": 6,
   "metadata": {},
   "outputs": [
    {
     "data": {
      "text/plain": [
       "[WindowsPath('C:/Users/Paulo Augusto/Documents/datasets/TAB415/dbf2dbc.exe'),\n",
       " WindowsPath('C:/Users/Paulo Augusto/Documents/datasets/SINASC_DBC/*.dbc'),\n",
       " WindowsPath('C:/Users/Paulo Augusto/Documents/datasets/SINASC_DBF')]"
      ]
     },
     "execution_count": 6,
     "metadata": {},
     "output_type": "execute_result"
    }
   ],
   "source": [
    "args = [\n",
    "    dec_tool_path,\n",
    "    dbc_save_folder / \"*.dbc\",\n",
    "    dbf_save_folder,\n",
    "]\n",
    "if not (platform.system() == \"Windows\"):\n",
    "    args = [\"wine\"] + args"
   ]
  },
  {
   "cell_type": "code",
   "execution_count": 7,
   "metadata": {},
   "outputs": [],
   "source": [
    "from subprocess import Popen, PIPE\n",
    "\n",
    "p = Popen(args, stdin=PIPE, stdout=PIPE, stderr=PIPE)\n",
    "output, err = p.communicate()\n",
    "rc = p.returncode"
   ]
  },
  {
   "cell_type": "code",
   "execution_count": 8,
   "metadata": {
    "scrolled": true
   },
   "outputs": [
    {
     "name": "stdout",
     "output_type": "stream",
     "text": [
      "DATASUS dbf2dbc 1.0: Comprime arquivos DBF e Expande arquivos DBC\r\n",
      "-----------------------------------------------------------------------\r\n",
      "                regs       bytes arquivo\r\n",
      "-----------------------------------------------------------------------\r\n",
      "DBC ==> DBF   598473    17668847 DNSP2009.dbc...\b\b\b  93.84% OK\r\n",
      "DBC ==> DBF   601352    20076605 DNSP2010.DBC...\b\b\b -41.78% OK\r\n",
      "DBC ==> DBF   610222    24782699 DNSP2011.DBC...\b\b\b   8.17% OK\r\n",
      "DBC ==> DBF   616608    36660643 DNSP2012.DBC...\b\b\b  12.48% OK\r\n",
      "DBC ==> DBF   610896    37016540 DNSP2013.dbc...\b\b\b  54.23% OK\r\n",
      "DBC ==> DBF   625687    44313801 DNSP2014.dbc...\b\b\b  -3.03% OK\r\n",
      "DBC ==> DBF   634026    42640365 DNSP2015.dbc...\b\b\b   7.54% OK\r\n",
      "DBC ==> DBF   601437    40690695 DNSP2016.dbc...\b\b\b -35.90% OK\r\n",
      "DBC ==> DBF   611803    42947030 DNSP2017.dbc...\b\b\b -20.81% OK\r\n",
      "DBC ==> DBF   606146    29673856 DNSP2018.DBC...\b\b\b  23.35% OK\r\n",
      "DBC ==> DBF   583191    28609376 DNSP2019.dbc...\b\b\b   6.25% OK\r\n",
      "\n"
     ]
    }
   ],
   "source": [
    "print(output.decode())"
   ]
  },
  {
   "cell_type": "code",
   "execution_count": 9,
   "metadata": {},
   "outputs": [
    {
     "name": "stdout",
     "output_type": "stream",
     "text": [
      "C:\\Users\\Paulo Augusto\\Documents\\datasets\\SINASC_DBF\\DNSP2009.dbf\n",
      "C:\\Users\\Paulo Augusto\\Documents\\datasets\\SINASC_DBF\\DNSP2010.dbf\n",
      "C:\\Users\\Paulo Augusto\\Documents\\datasets\\SINASC_DBF\\DNSP2011.dbf\n",
      "C:\\Users\\Paulo Augusto\\Documents\\datasets\\SINASC_DBF\\DNSP2012.dbf\n",
      "C:\\Users\\Paulo Augusto\\Documents\\datasets\\SINASC_DBF\\DNSP2013.dbf\n",
      "C:\\Users\\Paulo Augusto\\Documents\\datasets\\SINASC_DBF\\DNSP2014.dbf\n",
      "C:\\Users\\Paulo Augusto\\Documents\\datasets\\SINASC_DBF\\DNSP2015.dbf\n",
      "C:\\Users\\Paulo Augusto\\Documents\\datasets\\SINASC_DBF\\DNSP2016.dbf\n",
      "C:\\Users\\Paulo Augusto\\Documents\\datasets\\SINASC_DBF\\DNSP2017.dbf\n",
      "C:\\Users\\Paulo Augusto\\Documents\\datasets\\SINASC_DBF\\DNSP2018.dbf\n",
      "C:\\Users\\Paulo Augusto\\Documents\\datasets\\SINASC_DBF\\DNSP2019.dbf\n"
     ]
    }
   ],
   "source": [
    "\n",
    "for dbf_filepath in dbf_save_folder.glob(\"*.dbf\"):\n",
    "    print(dbf_filepath)\n",
    "    csv_filepath = csv_save_folder / dbf_filepath.name.replace(\".dbf\", \".csv\")\n",
    "    dbf = Dbf5(dbf_filepath)\n",
    "    dbf.to_csv(csv_filepath)\n",
    "    "
   ]
  },
  {
   "cell_type": "code",
   "execution_count": 10,
   "metadata": {
    "scrolled": true
   },
   "outputs": [
    {
     "name": "stdout",
     "output_type": "stream",
     "text": [
      "C:\\Users\\Paulo Augusto\\Documents\\datasets\\SINASC_CSV\\DNSP2009.csv 13\n",
      "C:\\Users\\Paulo Augusto\\Documents\\datasets\\SINASC_CSV\\DNSP2010.csv 13\n",
      "C:\\Users\\Paulo Augusto\\Documents\\datasets\\SINASC_CSV\\DNSP2011.csv 13\n",
      "C:\\Users\\Paulo Augusto\\Documents\\datasets\\SINASC_CSV\\DNSP2012.csv 13\n",
      "C:\\Users\\Paulo Augusto\\Documents\\datasets\\SINASC_CSV\\DNSP2013.csv 13\n",
      "C:\\Users\\Paulo Augusto\\Documents\\datasets\\SINASC_CSV\\DNSP2014.csv 13\n",
      "C:\\Users\\Paulo Augusto\\Documents\\datasets\\SINASC_CSV\\DNSP2015.csv 13\n",
      "C:\\Users\\Paulo Augusto\\Documents\\datasets\\SINASC_CSV\\DNSP2016.csv 13\n",
      "C:\\Users\\Paulo Augusto\\Documents\\datasets\\SINASC_CSV\\DNSP2017.csv 13\n",
      "C:\\Users\\Paulo Augusto\\Documents\\datasets\\SINASC_CSV\\DNSP2018.csv 13\n",
      "C:\\Users\\Paulo Augusto\\Documents\\datasets\\SINASC_CSV\\DNSP2019.csv 13\n"
     ]
    }
   ],
   "source": [
    "union_df = None\n",
    "dfs = []\n",
    "cols = [\"DTNASC\", \"QTDFILVIVO\", \"SEXO\", \"IDADEMAE\", \"PESO\", \"GRAVIDEZ\", \"CONSULTAS\", \"RACACOR\", \"CODMUNNASC\", \"ESTCIVMAE\", \"ESCMAE\", \"PARTO\", \"IDANOMAL\"]\n",
    "union_csv_filename = \"union.csv\"\n",
    "for csv_filepath in csv_save_folder.glob(\"*.csv\"):\n",
    "    if csv_filepath.name == union_csv_filename:\n",
    "        continue\n",
    "    df = pd.read_csv(csv_filepath, usecols=cols)\n",
    "    print(csv_filepath, len(df.columns))\n",
    "    sorted_cols = list(sorted(df.columns))\n",
    "    df = df[cols]\n",
    "    dfs += [df]\n",
    "    if union_df is None:\n",
    "        union_df = df\n",
    "    else:\n",
    "        union_df = pd.concat([union_df, df])\n",
    "union_df.to_csv(csv_save_folder / union_csv_filename)"
   ]
  },
  {
   "cell_type": "code",
   "execution_count": 11,
   "metadata": {},
   "outputs": [],
   "source": [
    "# cols = [\"DTNASC\", \"QTDFILVIVO\", \"SEXO\", \"IDADEMAE\", \"PESO\", \"GRAVIDEZ\", \"CONSULTAS\", \"RACACOR\", \"CODMUNNASC\", \"ESTCIVMAE\", \"ESCMAE\", \"PARTO\", \"IDANOMAL\"]\n"
   ]
  }
 ],
 "metadata": {
  "kernelspec": {
   "display_name": "Python 3",
   "language": "python",
   "name": "python3"
  },
  "language_info": {
   "codemirror_mode": {
    "name": "ipython",
    "version": 3
   },
   "file_extension": ".py",
   "mimetype": "text/x-python",
   "name": "python",
   "nbconvert_exporter": "python",
   "pygments_lexer": "ipython3",
   "version": "3.8.5"
  }
 },
 "nbformat": 4,
 "nbformat_minor": 5
}
