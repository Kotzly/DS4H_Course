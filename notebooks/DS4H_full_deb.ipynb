{
  "nbformat": 4,
  "nbformat_minor": 0,
  "metadata": {
    "colab": {
      "name": "DS4H_full_deb.ipynb",
      "provenance": [],
      "include_colab_link": true
    },
    "kernelspec": {
      "display_name": "Python 3",
      "language": "python",
      "name": "python3"
    },
    "language_info": {
      "codemirror_mode": {
        "name": "ipython",
        "version": 3
      },
      "file_extension": ".py",
      "mimetype": "text/x-python",
      "name": "python",
      "nbconvert_exporter": "python",
      "pygments_lexer": "ipython3",
      "version": "3.6.13"
    }
  },
  "cells": [
    {
      "cell_type": "markdown",
      "metadata": {
        "id": "view-in-github",
        "colab_type": "text"
      },
      "source": [
        "<a href=\"https://colab.research.google.com/github/Kotzly/DS4H_Course/blob/main/notebooks/DS4H_full_deb.ipynb\" target=\"_parent\"><img src=\"https://colab.research.google.com/assets/colab-badge.svg\" alt=\"Open In Colab\"/></a>"
      ]
    },
    {
      "cell_type": "code",
      "metadata": {
        "colab": {
          "base_uri": "https://localhost:8080/",
          "height": 690
        },
        "id": "aaJYBP6O9EGh",
        "outputId": "eb4c7d52-1225-42b1-fea4-19ffde07a204"
      },
      "source": [
        "!git clone https://github.com/Kotzly/DS4H_Course.git\n",
        "!pip install ./DS4H_Course"
      ],
      "execution_count": null,
      "outputs": [
        {
          "output_type": "stream",
          "text": [
            "Cloning into 'DS4H_Course'...\n",
            "remote: Enumerating objects: 270, done.\u001b[K\n",
            "remote: Counting objects: 100% (270/270), done.\u001b[K\n",
            "remote: Compressing objects: 100% (196/196), done.\u001b[K\n",
            "remote: Total 270 (delta 148), reused 148 (delta 61), pack-reused 0\u001b[K\n",
            "Receiving objects: 100% (270/270), 1.81 MiB | 8.36 MiB/s, done.\n",
            "Resolving deltas: 100% (148/148), done.\n",
            "Processing ./DS4H_Course\n",
            "Collecting zipfile38==0.0.3\n",
            "  Downloading https://files.pythonhosted.org/packages/a9/f0/719ee5a005ccdf17a49eea4890a0623fa693bce041af54c7f43320aaedab/zipfile38-0.0.3.tar.gz\n",
            "Collecting pandas==1.1.3\n",
            "\u001b[?25l  Downloading https://files.pythonhosted.org/packages/25/47/22fc373440e144e2111363adaa07abb09ec1f03fbc071b6d9fc0bbf65f68/pandas-1.1.3-cp37-cp37m-manylinux1_x86_64.whl (9.5MB)\n",
            "\u001b[K     |████████████████████████████████| 9.5MB 6.7MB/s \n",
            "\u001b[?25hCollecting simpledbf==0.2.6\n",
            "  Downloading https://files.pythonhosted.org/packages/8a/d3/e4c25cd8f739dd7ddd19c255cd5552e08cdd439ac51a36ae12640ce8a748/simpledbf-0.2.6.tar.gz\n",
            "Requirement already satisfied: numpy>=1.15.4 in /usr/local/lib/python3.7/dist-packages (from pandas==1.1.3->ds4h==0.1) (1.19.5)\n",
            "Requirement already satisfied: pytz>=2017.2 in /usr/local/lib/python3.7/dist-packages (from pandas==1.1.3->ds4h==0.1) (2018.9)\n",
            "Requirement already satisfied: python-dateutil>=2.7.3 in /usr/local/lib/python3.7/dist-packages (from pandas==1.1.3->ds4h==0.1) (2.8.1)\n",
            "Requirement already satisfied: six>=1.5 in /usr/local/lib/python3.7/dist-packages (from python-dateutil>=2.7.3->pandas==1.1.3->ds4h==0.1) (1.15.0)\n",
            "Building wheels for collected packages: ds4h, zipfile38, simpledbf\n",
            "  Building wheel for ds4h (setup.py) ... \u001b[?25l\u001b[?25hdone\n",
            "  Created wheel for ds4h: filename=ds4h-0.1-cp37-none-any.whl size=11720 sha256=0eea2170619b47e8f9c71be9763cdb31f7ae33add40c83fc5660c080bcffd065\n",
            "  Stored in directory: /tmp/pip-ephem-wheel-cache-2746d9nn/wheels/ec/ff/91/fc3664f800ce643b3917437b9c8d3b0b7298db38297e3d6ef4\n",
            "  Building wheel for zipfile38 (setup.py) ... \u001b[?25l\u001b[?25hdone\n",
            "  Created wheel for zipfile38: filename=zipfile38-0.0.3-cp37-none-any.whl size=22765 sha256=718754993eade021f961c1a350b09a47886e4e44305e7e31e43c81fa121ef0e5\n",
            "  Stored in directory: /root/.cache/pip/wheels/15/7a/ec/508d28bf3894e050aef4d0205cdf27a346e6e0891e979345d4\n",
            "  Building wheel for simpledbf (setup.py) ... \u001b[?25l\u001b[?25hdone\n",
            "  Created wheel for simpledbf: filename=simpledbf-0.2.6-cp37-none-any.whl size=13793 sha256=05cad75fb01de392aff1f4e419bcd4283c5ab982e0a6b6f7a63dfa73491386a1\n",
            "  Stored in directory: /root/.cache/pip/wheels/72/dd/df/cdfb970a508ef9750ebb4b6e035a3410c3d62b5a6a91d2aafc\n",
            "Successfully built ds4h zipfile38 simpledbf\n",
            "Installing collected packages: zipfile38, pandas, simpledbf, ds4h\n",
            "  Found existing installation: pandas 1.1.5\n",
            "    Uninstalling pandas-1.1.5:\n",
            "      Successfully uninstalled pandas-1.1.5\n",
            "Successfully installed ds4h-0.1 pandas-1.1.3 simpledbf-0.2.6 zipfile38-0.0.3\n"
          ],
          "name": "stdout"
        },
        {
          "output_type": "display_data",
          "data": {
            "application/vnd.colab-display-data+json": {
              "pip_warning": {
                "packages": [
                  "pandas"
                ]
              }
            }
          },
          "metadata": {
            "tags": []
          }
        }
      ]
    },
    {
      "cell_type": "code",
      "metadata": {
        "id": "Ykd9xywa-Zqk"
      },
      "source": [
        "import ds4h\n",
        "from ds4h.data.download_sinasc import download_dbc, download_dbf_2020\n",
        "from ds4h.processing.dbc import dbc_to_csv, dbf_to_csv\n",
        "from ds4h.processing.csv import join_sinasc_files\n",
        "from ds4h.processing.sinasc import process_sinasc\n",
        "\n",
        "from pathlib import Path\n",
        "from ds4h.data.city_ranking import get_ranking_dataframe, get_top_cities_from_df"
      ],
      "execution_count": null,
      "outputs": []
    },
    {
      "cell_type": "code",
      "metadata": {
        "id": "_jo232PqQ7pi"
      },
      "source": [
        "dataset_root = Path(\"/home/paulo/Documents/datasets/sinasc\")"
      ],
      "execution_count": null,
      "outputs": []
    },
    {
      "cell_type": "code",
      "metadata": {
        "id": "947gyIjgLZQ8"
      },
      "source": [
        "dbc_path = dataset_root / \"dbc\"\n",
        "\n",
        "dbc_path.mkdir(exist_ok=True, parents=True)"
      ],
      "execution_count": null,
      "outputs": []
    },
    {
      "cell_type": "code",
      "metadata": {
        "id": "aU0Cbw2uQ7pj",
        "colab": {
          "base_uri": "https://localhost:8080/"
        },
        "outputId": "d09a7df1-6b8b-4fed-fe7e-291119079f49"
      },
      "source": [
        "download_dbc(dbc_path)"
      ],
      "execution_count": null,
      "outputs": [
        {
          "output_type": "stream",
          "text": [
            "Downloading data from 10 years using 4 threadsDownload completed in 102.9s\n"
          ],
          "name": "stdout"
        }
      ]
    },
    {
      "cell_type": "code",
      "metadata": {
        "id": "MJ1YdoCWLU5q",
        "colab": {
          "base_uri": "https://localhost:8080/"
        },
        "outputId": "5f0947ed-afa7-4343-aede-ac9a14165144"
      },
      "source": [
        "csv_path = dataset_root / \"csv\"\n",
        "dbc_to_csv(dbc_path, csv_path);"
      ],
      "execution_count": null,
      "outputs": [
        {
          "output_type": "stream",
          "text": [
            "gcc -std=gnu99 -I\"/usr/share/R/include\" -DNDEBUG      -fpic  -g -O2 -fdebug-prefix-map=/build/r-base-wP4Uzq/r-base-4.0.5=. -fstack-protector-strong -Wformat -Werror=format-security -Wdate-time -D_FORTIFY_SOURCE=2 -g  -c blast.c -o blast.o\n",
            "gcc -std=gnu99 -I\"/usr/share/R/include\" -DNDEBUG      -fpic  -g -O2 -fdebug-prefix-map=/build/r-base-wP4Uzq/r-base-4.0.5=. -fstack-protector-strong -Wformat -Werror=format-security -Wdate-time -D_FORTIFY_SOURCE=2 -g  -c dbc2dbf.c -o dbc2dbf.o\n",
            "gcc -std=gnu99 -shared -L/usr/lib/R/lib -Wl,-Bsymbolic-functions -Wl,-z,relro -o read.dbc.so blast.o dbc2dbf.o -L/usr/lib/R/lib -lR\n",
            "[1] \"/home/paulo/Documents/datasets/sinasc/dbc//DNSP2010.dbc\"\n",
            "[1] \"/home/paulo/Documents/datasets/sinasc/dbc//DNSP2011.dbc\"\n",
            "[1] \"/home/paulo/Documents/datasets/sinasc/dbc//DNSP2012.dbc\"\n",
            "[1] \"/home/paulo/Documents/datasets/sinasc/dbc//DNSP2013.dbc\"\n",
            "[1] \"/home/paulo/Documents/datasets/sinasc/dbc//DNSP2014.dbc\"\n",
            "[1] \"/home/paulo/Documents/datasets/sinasc/dbc//DNSP2015.dbc\"\n",
            "[1] \"/home/paulo/Documents/datasets/sinasc/dbc//DNSP2016.dbc\"\n",
            "[1] \"/home/paulo/Documents/datasets/sinasc/dbc//DNSP2017.dbc\"\n",
            "[1] \"/home/paulo/Documents/datasets/sinasc/dbc//DNSP2018.dbc\"\n",
            "[1] \"/home/paulo/Documents/datasets/sinasc/dbc//DNSP2019.dbc\"\n",
            "\n",
            "trying URL 'https://cran.rstudio.com/src/contrib/read.dbc_1.0.5.tar.gz'\n",
            "Content type 'application/x-gzip' length 20988 bytes (20 KB)\n",
            "==================================================\n",
            "downloaded 20 KB\n",
            "\n",
            "* installing *source* package ‘read.dbc’ ...\n",
            "** package ‘read.dbc’ successfully unpacked and MD5 sums checked\n",
            "** using staged installation\n",
            "** libs\n",
            "installing to /content/.Rlocal/00LOCK-read.dbc/00new/read.dbc/libs\n",
            "** R\n",
            "** inst\n",
            "** byte-compile and prepare package for lazy loading\n",
            "** help\n",
            "*** installing help indices\n",
            "** building package indices\n",
            "** testing if installed package can be loaded from temporary location\n",
            "** checking absolute paths in shared objects and dynamic libraries\n",
            "** testing if installed package can be loaded from final location\n",
            "** testing if installed package keeps a record of temporary installation path\n",
            "* DONE (read.dbc)\n",
            "\n",
            "The downloaded source packages are in\n",
            "\t‘/tmp/Rtmpb6cM0Z/downloaded_packages’\n",
            "\n"
          ],
          "name": "stdout"
        }
      ]
    },
    {
      "cell_type": "code",
      "metadata": {
        "id": "KxGGwjj3Q7pl"
      },
      "source": [
        "dbf_folder = dataset_root / \"dbf\"\n",
        "dbf_folder.mkdir(exist_ok=True)\n",
        "\n",
        "download_dbf_2020(dbf_folder)\n",
        "\n",
        "dbf_filepath = list(dbf_folder.glob(\"*.DBF\"))[0]\n",
        "dbf_to_csv(dbf_filepath, csv_path)"
      ],
      "execution_count": null,
      "outputs": []
    },
    {
      "cell_type": "code",
      "metadata": {
        "id": "Rxd-4Kf7Q7pl",
        "colab": {
          "base_uri": "https://localhost:8080/",
          "height": 586
        },
        "outputId": "5537a512-e91e-4331-d72d-ab3dacf25934"
      },
      "source": [
        "union_df = join_sinasc_files(csv_path)\n",
        "union_df"
      ],
      "execution_count": null,
      "outputs": [
        {
          "output_type": "stream",
          "text": [
            "Loading DNSP2011.csv\n",
            "Loading DNSP2017.csv\n",
            "Loading DNSP2016.csv\n",
            "Loading DNSP2015.csv\n",
            "Loading DNSP2012.csv\n",
            "Loading DNSP2014.csv\n",
            "Loading DNSP2013.csv\n",
            "Loading DNSP2018.csv\n",
            "Loading DNSP2019.csv\n",
            "Loading DNSP2010.csv\n",
            "Loading DNBR20DA.csv\n"
          ],
          "name": "stdout"
        },
        {
          "output_type": "execute_result",
          "data": {
            "text/html": [
              "<div>\n",
              "<style scoped>\n",
              "    .dataframe tbody tr th:only-of-type {\n",
              "        vertical-align: middle;\n",
              "    }\n",
              "\n",
              "    .dataframe tbody tr th {\n",
              "        vertical-align: top;\n",
              "    }\n",
              "\n",
              "    .dataframe thead th {\n",
              "        text-align: right;\n",
              "    }\n",
              "</style>\n",
              "<table border=\"1\" class=\"dataframe\">\n",
              "  <thead>\n",
              "    <tr style=\"text-align: right;\">\n",
              "      <th></th>\n",
              "      <th>DTNASC</th>\n",
              "      <th>QTDFILVIVO</th>\n",
              "      <th>QTDFILMORT</th>\n",
              "      <th>IDADEMAE</th>\n",
              "      <th>RACACOR</th>\n",
              "      <th>CODMUNNASC</th>\n",
              "      <th>ESTCIVMAE</th>\n",
              "      <th>ESCMAE</th>\n",
              "      <th>PARTO</th>\n",
              "      <th>IDANOMAL</th>\n",
              "      <th>GESTACAO</th>\n",
              "    </tr>\n",
              "  </thead>\n",
              "  <tbody>\n",
              "    <tr>\n",
              "      <th>0</th>\n",
              "      <td>22032011</td>\n",
              "      <td>0.0</td>\n",
              "      <td>0.0</td>\n",
              "      <td>25.0</td>\n",
              "      <td>4.0</td>\n",
              "      <td>210900</td>\n",
              "      <td>NaN</td>\n",
              "      <td>4.0</td>\n",
              "      <td>1.0</td>\n",
              "      <td>2.0</td>\n",
              "      <td>5.0</td>\n",
              "    </tr>\n",
              "    <tr>\n",
              "      <th>1</th>\n",
              "      <td>23012011</td>\n",
              "      <td>NaN</td>\n",
              "      <td>NaN</td>\n",
              "      <td>15.0</td>\n",
              "      <td>4.0</td>\n",
              "      <td>211300</td>\n",
              "      <td>1.0</td>\n",
              "      <td>3.0</td>\n",
              "      <td>1.0</td>\n",
              "      <td>2.0</td>\n",
              "      <td>5.0</td>\n",
              "    </tr>\n",
              "    <tr>\n",
              "      <th>2</th>\n",
              "      <td>25032011</td>\n",
              "      <td>2.0</td>\n",
              "      <td>0.0</td>\n",
              "      <td>19.0</td>\n",
              "      <td>4.0</td>\n",
              "      <td>220830</td>\n",
              "      <td>1.0</td>\n",
              "      <td>3.0</td>\n",
              "      <td>1.0</td>\n",
              "      <td>2.0</td>\n",
              "      <td>6.0</td>\n",
              "    </tr>\n",
              "    <tr>\n",
              "      <th>3</th>\n",
              "      <td>11012011</td>\n",
              "      <td>NaN</td>\n",
              "      <td>NaN</td>\n",
              "      <td>32.0</td>\n",
              "      <td>1.0</td>\n",
              "      <td>230440</td>\n",
              "      <td>2.0</td>\n",
              "      <td>NaN</td>\n",
              "      <td>2.0</td>\n",
              "      <td>2.0</td>\n",
              "      <td>5.0</td>\n",
              "    </tr>\n",
              "    <tr>\n",
              "      <th>4</th>\n",
              "      <td>22022011</td>\n",
              "      <td>NaN</td>\n",
              "      <td>NaN</td>\n",
              "      <td>35.0</td>\n",
              "      <td>NaN</td>\n",
              "      <td>230440</td>\n",
              "      <td>2.0</td>\n",
              "      <td>NaN</td>\n",
              "      <td>2.0</td>\n",
              "      <td>NaN</td>\n",
              "      <td>5.0</td>\n",
              "    </tr>\n",
              "    <tr>\n",
              "      <th>...</th>\n",
              "      <td>...</td>\n",
              "      <td>...</td>\n",
              "      <td>...</td>\n",
              "      <td>...</td>\n",
              "      <td>...</td>\n",
              "      <td>...</td>\n",
              "      <td>...</td>\n",
              "      <td>...</td>\n",
              "      <td>...</td>\n",
              "      <td>...</td>\n",
              "      <td>...</td>\n",
              "    </tr>\n",
              "    <tr>\n",
              "      <th>2687646</th>\n",
              "      <td>28122020</td>\n",
              "      <td>1.0</td>\n",
              "      <td>0.0</td>\n",
              "      <td>32.0</td>\n",
              "      <td>4.0</td>\n",
              "      <td>530010</td>\n",
              "      <td>2.0</td>\n",
              "      <td>5.0</td>\n",
              "      <td>2.0</td>\n",
              "      <td>2.0</td>\n",
              "      <td>5.0</td>\n",
              "    </tr>\n",
              "    <tr>\n",
              "      <th>2687647</th>\n",
              "      <td>30122020</td>\n",
              "      <td>1.0</td>\n",
              "      <td>1.0</td>\n",
              "      <td>31.0</td>\n",
              "      <td>4.0</td>\n",
              "      <td>530010</td>\n",
              "      <td>2.0</td>\n",
              "      <td>5.0</td>\n",
              "      <td>2.0</td>\n",
              "      <td>2.0</td>\n",
              "      <td>5.0</td>\n",
              "    </tr>\n",
              "    <tr>\n",
              "      <th>2687648</th>\n",
              "      <td>30122020</td>\n",
              "      <td>0.0</td>\n",
              "      <td>0.0</td>\n",
              "      <td>34.0</td>\n",
              "      <td>4.0</td>\n",
              "      <td>530010</td>\n",
              "      <td>2.0</td>\n",
              "      <td>5.0</td>\n",
              "      <td>1.0</td>\n",
              "      <td>2.0</td>\n",
              "      <td>5.0</td>\n",
              "    </tr>\n",
              "    <tr>\n",
              "      <th>2687649</th>\n",
              "      <td>31122020</td>\n",
              "      <td>1.0</td>\n",
              "      <td>0.0</td>\n",
              "      <td>24.0</td>\n",
              "      <td>4.0</td>\n",
              "      <td>530010</td>\n",
              "      <td>9.0</td>\n",
              "      <td>4.0</td>\n",
              "      <td>1.0</td>\n",
              "      <td>2.0</td>\n",
              "      <td>5.0</td>\n",
              "    </tr>\n",
              "    <tr>\n",
              "      <th>2687650</th>\n",
              "      <td>19122020</td>\n",
              "      <td>0.0</td>\n",
              "      <td>0.0</td>\n",
              "      <td>17.0</td>\n",
              "      <td>NaN</td>\n",
              "      <td>530010</td>\n",
              "      <td>1.0</td>\n",
              "      <td>2.0</td>\n",
              "      <td>2.0</td>\n",
              "      <td>2.0</td>\n",
              "      <td>5.0</td>\n",
              "    </tr>\n",
              "  </tbody>\n",
              "</table>\n",
              "<p>8789019 rows × 11 columns</p>\n",
              "</div>"
            ],
            "text/plain": [
              "           DTNASC  QTDFILVIVO  QTDFILMORT  ...  PARTO  IDANOMAL  GESTACAO\n",
              "0        22032011         0.0         0.0  ...    1.0       2.0       5.0\n",
              "1        23012011         NaN         NaN  ...    1.0       2.0       5.0\n",
              "2        25032011         2.0         0.0  ...    1.0       2.0       6.0\n",
              "3        11012011         NaN         NaN  ...    2.0       2.0       5.0\n",
              "4        22022011         NaN         NaN  ...    2.0       NaN       5.0\n",
              "...           ...         ...         ...  ...    ...       ...       ...\n",
              "2687646  28122020         1.0         0.0  ...    2.0       2.0       5.0\n",
              "2687647  30122020         1.0         1.0  ...    2.0       2.0       5.0\n",
              "2687648  30122020         0.0         0.0  ...    1.0       2.0       5.0\n",
              "2687649  31122020         1.0         0.0  ...    1.0       2.0       5.0\n",
              "2687650  19122020         0.0         0.0  ...    2.0       2.0       5.0\n",
              "\n",
              "[8789019 rows x 11 columns]"
            ]
          },
          "metadata": {
            "tags": []
          },
          "execution_count": 8
        }
      ]
    },
    {
      "cell_type": "code",
      "metadata": {
        "id": "PCN1HbFfQ7pl",
        "colab": {
          "base_uri": "https://localhost:8080/"
        },
        "outputId": "46a2151b-e1f9-4be4-c117-9ec8c1d62f73"
      },
      "source": [
        "df = get_ranking_dataframe()\n",
        "cities_dict = get_top_cities_from_df(df)\n",
        "print(cities_dict)"
      ],
      "execution_count": null,
      "outputs": [
        {
          "output_type": "stream",
          "text": [
            "{354880: 'São Caetano do Sul', 351440: 'Dracena', 352480: 'Jales', 354680: 'Santa Isabel', 350210: 'Andradina', 354980: 'São Josã do Rio Preto', 354850: 'Santos', 350570: 'Barueri', 351740: 'Guaãra', 350280: 'Araãatuba', 355030: 'São Paulo'}\n"
          ],
          "name": "stdout"
        }
      ]
    },
    {
      "cell_type": "code",
      "metadata": {
        "id": "CHqPhqBUQ7pm",
        "colab": {
          "base_uri": "https://localhost:8080/"
        },
        "outputId": "2efd6374-9f5c-4a5b-c4c3-4dfe44853d85"
      },
      "source": [
        "df = process_sinasc(union_df)"
      ],
      "execution_count": null,
      "outputs": [
        {
          "output_type": "stream",
          "text": [
            "/usr/local/lib/python3.7/dist-packages/ds4h/processing/sinasc.py:24: SettingWithCopyWarning: \n",
            "A value is trying to be set on a copy of a slice from a DataFrame.\n",
            "Try using .loc[row_indexer,col_indexer] = value instead\n",
            "\n",
            "See the caveats in the documentation: https://pandas.pydata.org/pandas-docs/stable/user_guide/indexing.html#returning-a-view-versus-a-copy\n",
            "  df[\"MUNNAME\"] = df.CODMUNNASC.apply(lambda x: city_code_dict[x])\n"
          ],
          "name": "stderr"
        }
      ]
    }
  ]
}