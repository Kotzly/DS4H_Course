{
  "nbformat": 4,
  "nbformat_minor": 0,
  "metadata": {
    "colab": {
      "name": "DS4H_full_tratado.ipynb",
      "provenance": [],
      "collapsed_sections": []
    },
    "kernelspec": {
      "display_name": "Python 3",
      "language": "python",
      "name": "python3"
    },
    "language_info": {
      "codemirror_mode": {
        "name": "ipython",
        "version": 3
      },
      "file_extension": ".py",
      "mimetype": "text/x-python",
      "name": "python",
      "nbconvert_exporter": "python",
      "pygments_lexer": "ipython3",
      "version": "3.6.13"
    }
  },
  "cells": [
    {
      "cell_type": "code",
      "metadata": {
        "colab": {
          "base_uri": "https://localhost:8080/",
          "height": 717
        },
        "id": "aaJYBP6O9EGh",
        "outputId": "2df90cc4-711e-4610-bc11-56279c7ac82a"
      },
      "source": [
        "!git clone https://github.com/Kotzly/DS4H_Course.git\n",
        "!pip install ./DS4H_Course"
      ],
      "execution_count": 1,
      "outputs": [
        {
          "output_type": "stream",
          "text": [
            "Cloning into 'DS4H_Course'...\n",
            "remote: Enumerating objects: 444, done.\u001b[K\n",
            "remote: Counting objects: 100% (444/444), done.\u001b[K\n",
            "remote: Compressing objects: 100% (216/216), done.\u001b[K\n",
            "remote: Total 444 (delta 277), reused 369 (delta 215), pack-reused 0\u001b[K\n",
            "Receiving objects: 100% (444/444), 2.45 MiB | 6.49 MiB/s, done.\n",
            "Resolving deltas: 100% (277/277), done.\n",
            "Processing ./DS4H_Course\n",
            "Collecting zipfile38==0.0.3\n",
            "  Downloading https://files.pythonhosted.org/packages/a9/f0/719ee5a005ccdf17a49eea4890a0623fa693bce041af54c7f43320aaedab/zipfile38-0.0.3.tar.gz\n",
            "Collecting pandas==1.1.3\n",
            "\u001b[?25l  Downloading https://files.pythonhosted.org/packages/25/47/22fc373440e144e2111363adaa07abb09ec1f03fbc071b6d9fc0bbf65f68/pandas-1.1.3-cp37-cp37m-manylinux1_x86_64.whl (9.5MB)\n",
            "\u001b[K     |████████████████████████████████| 9.5MB 5.7MB/s \n",
            "\u001b[?25hCollecting simpledbf==0.2.6\n",
            "  Downloading https://files.pythonhosted.org/packages/8a/d3/e4c25cd8f739dd7ddd19c255cd5552e08cdd439ac51a36ae12640ce8a748/simpledbf-0.2.6.tar.gz\n",
            "Requirement already satisfied: python-dateutil>=2.7.3 in /usr/local/lib/python3.7/dist-packages (from pandas==1.1.3->ds4h==0.1) (2.8.1)\n",
            "Requirement already satisfied: numpy>=1.15.4 in /usr/local/lib/python3.7/dist-packages (from pandas==1.1.3->ds4h==0.1) (1.19.5)\n",
            "Requirement already satisfied: pytz>=2017.2 in /usr/local/lib/python3.7/dist-packages (from pandas==1.1.3->ds4h==0.1) (2018.9)\n",
            "Requirement already satisfied: six>=1.5 in /usr/local/lib/python3.7/dist-packages (from python-dateutil>=2.7.3->pandas==1.1.3->ds4h==0.1) (1.15.0)\n",
            "Building wheels for collected packages: ds4h, zipfile38, simpledbf\n",
            "  Building wheel for ds4h (setup.py) ... \u001b[?25l\u001b[?25hdone\n",
            "  Created wheel for ds4h: filename=ds4h-0.1-cp37-none-any.whl size=12691 sha256=63115e9cf68d274afa449a4c73ac89e19f9f728cb2c7274eee6ddb055dad83ca\n",
            "  Stored in directory: /tmp/pip-ephem-wheel-cache-s1r1t8pp/wheels/ec/ff/91/fc3664f800ce643b3917437b9c8d3b0b7298db38297e3d6ef4\n",
            "  Building wheel for zipfile38 (setup.py) ... \u001b[?25l\u001b[?25hdone\n",
            "  Created wheel for zipfile38: filename=zipfile38-0.0.3-cp37-none-any.whl size=22765 sha256=e1182c1a4b260a34373bf2469bcbea259e3b45d04286daf74993ce5a75c301b8\n",
            "  Stored in directory: /root/.cache/pip/wheels/15/7a/ec/508d28bf3894e050aef4d0205cdf27a346e6e0891e979345d4\n",
            "  Building wheel for simpledbf (setup.py) ... \u001b[?25l\u001b[?25hdone\n",
            "  Created wheel for simpledbf: filename=simpledbf-0.2.6-cp37-none-any.whl size=13793 sha256=4704299689a3b788c029c8a6e7651bc3d8e44a5cf992cb7869fb32c1c2674569\n",
            "  Stored in directory: /root/.cache/pip/wheels/72/dd/df/cdfb970a508ef9750ebb4b6e035a3410c3d62b5a6a91d2aafc\n",
            "Successfully built ds4h zipfile38 simpledbf\n",
            "Installing collected packages: zipfile38, pandas, simpledbf, ds4h\n",
            "  Found existing installation: pandas 1.1.5\n",
            "    Uninstalling pandas-1.1.5:\n",
            "      Successfully uninstalled pandas-1.1.5\n",
            "Successfully installed ds4h-0.1 pandas-1.1.3 simpledbf-0.2.6 zipfile38-0.0.3\n"
          ],
          "name": "stdout"
        },
        {
          "output_type": "display_data",
          "data": {
            "application/vnd.colab-display-data+json": {
              "pip_warning": {
                "packages": [
                  "pandas"
                ]
              }
            }
          },
          "metadata": {
            "tags": []
          }
        }
      ]
    },
    {
      "cell_type": "code",
      "metadata": {
        "id": "Ykd9xywa-Zqk"
      },
      "source": [
        "import ds4h\n",
        "from ds4h.data.download_sinasc import download_dbc, download_dbf_2020\n",
        "from ds4h.processing.dbc import dbc_to_csv, dbf_to_csv\n",
        "from ds4h.processing.csv import join_sinasc_files\n",
        "from ds4h.processing.sinasc import process_sinasc\n",
        "\n",
        "\n",
        "\n",
        "from pathlib import Path\n",
        "from ds4h.data.city_ranking import get_ranking_dataframe, get_top_cities_from_df"
      ],
      "execution_count": 2,
      "outputs": []
    },
    {
      "cell_type": "code",
      "metadata": {
        "id": "_jo232PqQ7pi"
      },
      "source": [
        "dataset_root = Path(\"/home/paulo/Documents/datasets/sinasc\")"
      ],
      "execution_count": 3,
      "outputs": []
    },
    {
      "cell_type": "code",
      "metadata": {
        "id": "947gyIjgLZQ8"
      },
      "source": [
        "dbc_path = dataset_root / \"dbc\"\n",
        "\n",
        "dbc_path.mkdir(exist_ok=True, parents=True)"
      ],
      "execution_count": 4,
      "outputs": []
    },
    {
      "cell_type": "code",
      "metadata": {
        "id": "aU0Cbw2uQ7pj",
        "colab": {
          "base_uri": "https://localhost:8080/"
        },
        "outputId": "e7a94dc9-b8d3-4858-d431-4fa59a39d9ec"
      },
      "source": [
        "download_dbc(dbc_path)"
      ],
      "execution_count": 5,
      "outputs": [
        {
          "output_type": "stream",
          "text": [
            "Downloading data from 10 years using 4 threadsDownload completed in 126.5s\n"
          ],
          "name": "stdout"
        }
      ]
    },
    {
      "cell_type": "code",
      "metadata": {
        "id": "MJ1YdoCWLU5q",
        "colab": {
          "base_uri": "https://localhost:8080/"
        },
        "outputId": "c3839e5f-7702-4103-bb2d-49de72137001"
      },
      "source": [
        "csv_path = dataset_root / \"csv\"\n",
        "dbc_to_csv(dbc_path, csv_path);"
      ],
      "execution_count": 6,
      "outputs": [
        {
          "output_type": "stream",
          "text": [
            "gcc -std=gnu99 -I\"/usr/share/R/include\" -DNDEBUG      -fpic  -g -O2 -fdebug-prefix-map=/build/r-base-wP4Uzq/r-base-4.0.5=. -fstack-protector-strong -Wformat -Werror=format-security -Wdate-time -D_FORTIFY_SOURCE=2 -g  -c blast.c -o blast.o\n",
            "gcc -std=gnu99 -I\"/usr/share/R/include\" -DNDEBUG      -fpic  -g -O2 -fdebug-prefix-map=/build/r-base-wP4Uzq/r-base-4.0.5=. -fstack-protector-strong -Wformat -Werror=format-security -Wdate-time -D_FORTIFY_SOURCE=2 -g  -c dbc2dbf.c -o dbc2dbf.o\n",
            "gcc -std=gnu99 -shared -L/usr/lib/R/lib -Wl,-Bsymbolic-functions -Wl,-z,relro -o read.dbc.so blast.o dbc2dbf.o -L/usr/lib/R/lib -lR\n",
            "[1] \"/home/paulo/Documents/datasets/sinasc/dbc//DNSP2010.dbc\"\n",
            "[1] \"/home/paulo/Documents/datasets/sinasc/dbc//DNSP2011.dbc\"\n",
            "[1] \"/home/paulo/Documents/datasets/sinasc/dbc//DNSP2012.dbc\"\n",
            "[1] \"/home/paulo/Documents/datasets/sinasc/dbc//DNSP2013.dbc\"\n",
            "[1] \"/home/paulo/Documents/datasets/sinasc/dbc//DNSP2014.dbc\"\n",
            "[1] \"/home/paulo/Documents/datasets/sinasc/dbc//DNSP2015.dbc\"\n",
            "[1] \"/home/paulo/Documents/datasets/sinasc/dbc//DNSP2016.dbc\"\n",
            "[1] \"/home/paulo/Documents/datasets/sinasc/dbc//DNSP2017.dbc\"\n",
            "[1] \"/home/paulo/Documents/datasets/sinasc/dbc//DNSP2018.dbc\"\n",
            "[1] \"/home/paulo/Documents/datasets/sinasc/dbc//DNSP2019.dbc\"\n",
            "\n",
            "trying URL 'https://cran.rstudio.com/src/contrib/read.dbc_1.0.5.tar.gz'\n",
            "Content type 'application/x-gzip' length 20988 bytes (20 KB)\n",
            "==================================================\n",
            "downloaded 20 KB\n",
            "\n",
            "* installing *source* package ‘read.dbc’ ...\n",
            "** package ‘read.dbc’ successfully unpacked and MD5 sums checked\n",
            "** using staged installation\n",
            "** libs\n",
            "installing to /content/.Rlocal/00LOCK-read.dbc/00new/read.dbc/libs\n",
            "** R\n",
            "** inst\n",
            "** byte-compile and prepare package for lazy loading\n",
            "** help\n",
            "*** installing help indices\n",
            "** building package indices\n",
            "** testing if installed package can be loaded from temporary location\n",
            "** checking absolute paths in shared objects and dynamic libraries\n",
            "** testing if installed package can be loaded from final location\n",
            "** testing if installed package keeps a record of temporary installation path\n",
            "* DONE (read.dbc)\n",
            "\n",
            "The downloaded source packages are in\n",
            "\t‘/tmp/Rtmpro8069/downloaded_packages’\n",
            "\n"
          ],
          "name": "stdout"
        }
      ]
    },
    {
      "cell_type": "code",
      "metadata": {
        "id": "KxGGwjj3Q7pl"
      },
      "source": [
        "dbf_folder = dataset_root / \"dbf\"\n",
        "dbf_folder.mkdir(exist_ok=True)\n",
        "\n",
        "download_dbf_2020(dbf_folder)\n",
        "\n",
        "dbf_filepath = list(dbf_folder.glob(\"*.DBF\"))[0]\n",
        "dbf_to_csv(dbf_filepath, csv_path)"
      ],
      "execution_count": 7,
      "outputs": []
    },
    {
      "cell_type": "code",
      "metadata": {
        "id": "Rxd-4Kf7Q7pl",
        "colab": {
          "base_uri": "https://localhost:8080/",
          "height": 606
        },
        "outputId": "00b289b3-2a69-4f38-99c6-71458c81b8ff"
      },
      "source": [
        "union_df = join_sinasc_files(csv_path)\n",
        "union_df"
      ],
      "execution_count": 8,
      "outputs": [
        {
          "output_type": "stream",
          "text": [
            "Loading DNSP2011.csv\n",
            "Loading DNSP2017.csv\n",
            "Loading DNSP2019.csv\n",
            "Loading DNSP2016.csv\n",
            "Loading DNSP2015.csv\n",
            "Loading DNSP2013.csv\n",
            "Loading DNSP2012.csv\n",
            "Loading DNBR20DA.csv\n",
            "Loading DNSP2014.csv\n",
            "Loading DNSP2018.csv\n",
            "Loading DNSP2010.csv\n"
          ],
          "name": "stdout"
        },
        {
          "output_type": "execute_result",
          "data": {
            "text/html": [
              "<div>\n",
              "<style scoped>\n",
              "    .dataframe tbody tr th:only-of-type {\n",
              "        vertical-align: middle;\n",
              "    }\n",
              "\n",
              "    .dataframe tbody tr th {\n",
              "        vertical-align: top;\n",
              "    }\n",
              "\n",
              "    .dataframe thead th {\n",
              "        text-align: right;\n",
              "    }\n",
              "</style>\n",
              "<table border=\"1\" class=\"dataframe\">\n",
              "  <thead>\n",
              "    <tr style=\"text-align: right;\">\n",
              "      <th></th>\n",
              "      <th>CODMUNNASC</th>\n",
              "      <th>IDADEMAE</th>\n",
              "      <th>ESTCIVMAE</th>\n",
              "      <th>ESCMAE</th>\n",
              "      <th>QTDFILVIVO</th>\n",
              "      <th>QTDFILMORT</th>\n",
              "      <th>GESTACAO</th>\n",
              "      <th>PARTO</th>\n",
              "      <th>DTNASC</th>\n",
              "      <th>RACACOR</th>\n",
              "      <th>IDANOMAL</th>\n",
              "      <th>RACACORMAE</th>\n",
              "    </tr>\n",
              "  </thead>\n",
              "  <tbody>\n",
              "    <tr>\n",
              "      <th>0</th>\n",
              "      <td>210900</td>\n",
              "      <td>25.0</td>\n",
              "      <td>NaN</td>\n",
              "      <td>4.0</td>\n",
              "      <td>0.0</td>\n",
              "      <td>0.0</td>\n",
              "      <td>5.0</td>\n",
              "      <td>1.0</td>\n",
              "      <td>22032011</td>\n",
              "      <td>4.0</td>\n",
              "      <td>2.0</td>\n",
              "      <td>NaN</td>\n",
              "    </tr>\n",
              "    <tr>\n",
              "      <th>1</th>\n",
              "      <td>211300</td>\n",
              "      <td>15.0</td>\n",
              "      <td>1.0</td>\n",
              "      <td>3.0</td>\n",
              "      <td>NaN</td>\n",
              "      <td>NaN</td>\n",
              "      <td>5.0</td>\n",
              "      <td>1.0</td>\n",
              "      <td>23012011</td>\n",
              "      <td>4.0</td>\n",
              "      <td>2.0</td>\n",
              "      <td>NaN</td>\n",
              "    </tr>\n",
              "    <tr>\n",
              "      <th>2</th>\n",
              "      <td>220830</td>\n",
              "      <td>19.0</td>\n",
              "      <td>1.0</td>\n",
              "      <td>3.0</td>\n",
              "      <td>2.0</td>\n",
              "      <td>0.0</td>\n",
              "      <td>6.0</td>\n",
              "      <td>1.0</td>\n",
              "      <td>25032011</td>\n",
              "      <td>4.0</td>\n",
              "      <td>2.0</td>\n",
              "      <td>4.0</td>\n",
              "    </tr>\n",
              "    <tr>\n",
              "      <th>3</th>\n",
              "      <td>230440</td>\n",
              "      <td>32.0</td>\n",
              "      <td>2.0</td>\n",
              "      <td>NaN</td>\n",
              "      <td>NaN</td>\n",
              "      <td>NaN</td>\n",
              "      <td>5.0</td>\n",
              "      <td>2.0</td>\n",
              "      <td>11012011</td>\n",
              "      <td>1.0</td>\n",
              "      <td>2.0</td>\n",
              "      <td>1.0</td>\n",
              "    </tr>\n",
              "    <tr>\n",
              "      <th>4</th>\n",
              "      <td>230440</td>\n",
              "      <td>35.0</td>\n",
              "      <td>2.0</td>\n",
              "      <td>NaN</td>\n",
              "      <td>NaN</td>\n",
              "      <td>NaN</td>\n",
              "      <td>5.0</td>\n",
              "      <td>2.0</td>\n",
              "      <td>22022011</td>\n",
              "      <td>NaN</td>\n",
              "      <td>NaN</td>\n",
              "      <td>NaN</td>\n",
              "    </tr>\n",
              "    <tr>\n",
              "      <th>...</th>\n",
              "      <td>...</td>\n",
              "      <td>...</td>\n",
              "      <td>...</td>\n",
              "      <td>...</td>\n",
              "      <td>...</td>\n",
              "      <td>...</td>\n",
              "      <td>...</td>\n",
              "      <td>...</td>\n",
              "      <td>...</td>\n",
              "      <td>...</td>\n",
              "      <td>...</td>\n",
              "      <td>...</td>\n",
              "    </tr>\n",
              "    <tr>\n",
              "      <th>601347</th>\n",
              "      <td>352310</td>\n",
              "      <td>39.0</td>\n",
              "      <td>NaN</td>\n",
              "      <td>NaN</td>\n",
              "      <td>99.0</td>\n",
              "      <td>99.0</td>\n",
              "      <td>5.0</td>\n",
              "      <td>1.0</td>\n",
              "      <td>31122010</td>\n",
              "      <td>4.0</td>\n",
              "      <td>2.0</td>\n",
              "      <td>NaN</td>\n",
              "    </tr>\n",
              "    <tr>\n",
              "      <th>601348</th>\n",
              "      <td>351870</td>\n",
              "      <td>16.0</td>\n",
              "      <td>NaN</td>\n",
              "      <td>NaN</td>\n",
              "      <td>99.0</td>\n",
              "      <td>99.0</td>\n",
              "      <td>5.0</td>\n",
              "      <td>1.0</td>\n",
              "      <td>29112010</td>\n",
              "      <td>4.0</td>\n",
              "      <td>2.0</td>\n",
              "      <td>NaN</td>\n",
              "    </tr>\n",
              "    <tr>\n",
              "      <th>601349</th>\n",
              "      <td>355280</td>\n",
              "      <td>17.0</td>\n",
              "      <td>1.0</td>\n",
              "      <td>3.0</td>\n",
              "      <td>2.0</td>\n",
              "      <td>99.0</td>\n",
              "      <td>5.0</td>\n",
              "      <td>1.0</td>\n",
              "      <td>21092010</td>\n",
              "      <td>1.0</td>\n",
              "      <td>2.0</td>\n",
              "      <td>NaN</td>\n",
              "    </tr>\n",
              "    <tr>\n",
              "      <th>601350</th>\n",
              "      <td>351880</td>\n",
              "      <td>33.0</td>\n",
              "      <td>1.0</td>\n",
              "      <td>4.0</td>\n",
              "      <td>3.0</td>\n",
              "      <td>0.0</td>\n",
              "      <td>5.0</td>\n",
              "      <td>2.0</td>\n",
              "      <td>3072010</td>\n",
              "      <td>4.0</td>\n",
              "      <td>2.0</td>\n",
              "      <td>NaN</td>\n",
              "    </tr>\n",
              "    <tr>\n",
              "      <th>601351</th>\n",
              "      <td>351870</td>\n",
              "      <td>23.0</td>\n",
              "      <td>1.0</td>\n",
              "      <td>4.0</td>\n",
              "      <td>1.0</td>\n",
              "      <td>99.0</td>\n",
              "      <td>4.0</td>\n",
              "      <td>1.0</td>\n",
              "      <td>28092010</td>\n",
              "      <td>1.0</td>\n",
              "      <td>2.0</td>\n",
              "      <td>NaN</td>\n",
              "    </tr>\n",
              "  </tbody>\n",
              "</table>\n",
              "<p>8789019 rows × 12 columns</p>\n",
              "</div>"
            ],
            "text/plain": [
              "        CODMUNNASC  IDADEMAE  ESTCIVMAE  ...  RACACOR  IDANOMAL  RACACORMAE\n",
              "0           210900      25.0        NaN  ...      4.0       2.0         NaN\n",
              "1           211300      15.0        1.0  ...      4.0       2.0         NaN\n",
              "2           220830      19.0        1.0  ...      4.0       2.0         4.0\n",
              "3           230440      32.0        2.0  ...      1.0       2.0         1.0\n",
              "4           230440      35.0        2.0  ...      NaN       NaN         NaN\n",
              "...            ...       ...        ...  ...      ...       ...         ...\n",
              "601347      352310      39.0        NaN  ...      4.0       2.0         NaN\n",
              "601348      351870      16.0        NaN  ...      4.0       2.0         NaN\n",
              "601349      355280      17.0        1.0  ...      1.0       2.0         NaN\n",
              "601350      351880      33.0        1.0  ...      4.0       2.0         NaN\n",
              "601351      351870      23.0        1.0  ...      1.0       2.0         NaN\n",
              "\n",
              "[8789019 rows x 12 columns]"
            ]
          },
          "metadata": {
            "tags": []
          },
          "execution_count": 8
        }
      ]
    },
    {
      "cell_type": "code",
      "metadata": {
        "id": "PCN1HbFfQ7pl",
        "colab": {
          "base_uri": "https://localhost:8080/"
        },
        "outputId": "65a5a5d7-d81b-4124-eca0-2df90b53b246"
      },
      "source": [
        "df = get_ranking_dataframe()\n",
        "cities_dict = get_top_cities_from_df(df)\n",
        "print(cities_dict)"
      ],
      "execution_count": 9,
      "outputs": [
        {
          "output_type": "stream",
          "text": [
            "{354880: 'São Caetano do Sul', 351440: 'Dracena', 352480: 'Jales', 354680: 'Santa Isabel', 350210: 'Andradina', 354980: 'São Josã do Rio Preto', 354850: 'Santos', 350570: 'Barueri', 351740: 'Guaãra', 350280: 'Araãatuba', 355030: 'São Paulo'}\n"
          ],
          "name": "stdout"
        }
      ]
    },
    {
      "cell_type": "code",
      "metadata": {
        "id": "CHqPhqBUQ7pm",
        "colab": {
          "base_uri": "https://localhost:8080/"
        },
        "outputId": "75fd46cd-ca3c-4cd2-f9b2-6376a0b34bd5"
      },
      "source": [
        "df = process_sinasc(union_df)"
      ],
      "execution_count": 10,
      "outputs": [
        {
          "output_type": "stream",
          "text": [
            "/usr/local/lib/python3.7/dist-packages/pandas/core/indexing.py:1596: SettingWithCopyWarning: \n",
            "A value is trying to be set on a copy of a slice from a DataFrame.\n",
            "Try using .loc[row_indexer,col_indexer] = value instead\n",
            "\n",
            "See the caveats in the documentation: https://pandas.pydata.org/pandas-docs/stable/user_guide/indexing.html#returning-a-view-versus-a-copy\n",
            "  self.obj[key] = _infer_fill_value(value)\n",
            "/usr/local/lib/python3.7/dist-packages/pandas/core/indexing.py:1743: SettingWithCopyWarning: \n",
            "A value is trying to be set on a copy of a slice from a DataFrame.\n",
            "Try using .loc[row_indexer,col_indexer] = value instead\n",
            "\n",
            "See the caveats in the documentation: https://pandas.pydata.org/pandas-docs/stable/user_guide/indexing.html#returning-a-view-versus-a-copy\n",
            "  # we have an equal len list/ndarray\n"
          ],
          "name": "stderr"
        }
      ]
    },
    {
      "cell_type": "code",
      "metadata": {
        "id": "d7deoNzBTInP"
      },
      "source": [
        "import numpy as np\n",
        "from scipy import stats\n",
        "from pathlib import Path\n",
        "import pandas as pd\n",
        "import seaborn as sns\n",
        "import matplotlib.pyplot as plt\n",
        "import shutil\n",
        "import urllib.request as request\n",
        "from contextlib import closing\n",
        "import zipfile\n",
        "import sys\n",
        "import os\n",
        "from simpledbf import Dbf5\n",
        "import platform\n",
        "\n"
      ],
      "execution_count": 11,
      "outputs": []
    },
    {
      "cell_type": "markdown",
      "metadata": {
        "id": "VddcKDqnmzXQ"
      },
      "source": [
        "#Verifica dados faltantes"
      ]
    },
    {
      "cell_type": "code",
      "metadata": {
        "id": "MN0AruTIEtxs",
        "colab": {
          "base_uri": "https://localhost:8080/"
        },
        "outputId": "7f7f46b4-4851-416a-938c-fe7958602eed"
      },
      "source": [
        "union_df.shape"
      ],
      "execution_count": 12,
      "outputs": [
        {
          "output_type": "execute_result",
          "data": {
            "text/plain": [
              "(8789019, 12)"
            ]
          },
          "metadata": {
            "tags": []
          },
          "execution_count": 12
        }
      ]
    },
    {
      "cell_type": "code",
      "metadata": {
        "id": "xyOJBQnUQ7pm",
        "colab": {
          "base_uri": "https://localhost:8080/"
        },
        "outputId": "d7aa8440-9d7d-497a-d05d-42ee9cf462c5"
      },
      "source": [
        "faltantes = union_df.isnull().sum()\n",
        "print(faltantes)"
      ],
      "execution_count": 13,
      "outputs": [
        {
          "output_type": "stream",
          "text": [
            "CODMUNNASC          0\n",
            "IDADEMAE           28\n",
            "ESTCIVMAE       34937\n",
            "ESCMAE          40534\n",
            "QTDFILVIVO     164317\n",
            "QTDFILMORT     265163\n",
            "GESTACAO        65825\n",
            "PARTO            6078\n",
            "DTNASC              0\n",
            "RACACOR        131232\n",
            "IDANOMAL        43348\n",
            "RACACORMAE    1311248\n",
            "dtype: int64\n"
          ],
          "name": "stdout"
        }
      ]
    },
    {
      "cell_type": "code",
      "metadata": {
        "id": "CMIOz7kfE_y0",
        "colab": {
          "base_uri": "https://localhost:8080/"
        },
        "outputId": "6bd5af69-57db-402c-8069-6eea317d9f7f"
      },
      "source": [
        "def missing_values(x):\n",
        "  missing_per = pd.isnull(x).mean()\n",
        "  return \"{:.2f}%\".format(missing_per * 100)\n",
        "\n",
        "union_df.apply(missing_values, axis=0)"
      ],
      "execution_count": 14,
      "outputs": [
        {
          "output_type": "execute_result",
          "data": {
            "text/plain": [
              "CODMUNNASC     0.00%\n",
              "IDADEMAE       0.00%\n",
              "ESTCIVMAE      0.40%\n",
              "ESCMAE         0.46%\n",
              "QTDFILVIVO     1.87%\n",
              "QTDFILMORT     3.02%\n",
              "GESTACAO       0.75%\n",
              "PARTO          0.07%\n",
              "DTNASC         0.00%\n",
              "RACACOR        1.49%\n",
              "IDANOMAL       0.49%\n",
              "RACACORMAE    14.92%\n",
              "dtype: object"
            ]
          },
          "metadata": {
            "tags": []
          },
          "execution_count": 14
        }
      ]
    },
    {
      "cell_type": "markdown",
      "metadata": {
        "id": "hUOvSHaRn2nd"
      },
      "source": [
        "### Considerando que os dados faltantes do dataset é menor que 5% optamos por dropar os dados"
      ]
    },
    {
      "cell_type": "code",
      "metadata": {
        "id": "5MN1-vahG8Pb"
      },
      "source": [
        "union_df = union_df.dropna()\n",
        "\n",
        "\n",
        "\n"
      ],
      "execution_count": 15,
      "outputs": []
    },
    {
      "cell_type": "markdown",
      "metadata": {
        "id": "OKm2bhvYsFHC"
      },
      "source": [
        "## Qualidade dos dados \n",
        "###Verifica erros de registro, valores discrepantes e Inconsistências"
      ]
    },
    {
      "cell_type": "code",
      "metadata": {
        "id": "01FTJpQjULtB",
        "colab": {
          "base_uri": "https://localhost:8080/"
        },
        "outputId": "9e63ba1d-c5e6-47e0-8667-796a3739bdca"
      },
      "source": [
        "union_df.dtypes"
      ],
      "execution_count": 16,
      "outputs": [
        {
          "output_type": "execute_result",
          "data": {
            "text/plain": [
              "CODMUNNASC      int64\n",
              "IDADEMAE      float64\n",
              "ESTCIVMAE     float64\n",
              "ESCMAE        float64\n",
              "QTDFILVIVO    float64\n",
              "QTDFILMORT    float64\n",
              "GESTACAO      float64\n",
              "PARTO         float64\n",
              "DTNASC          int64\n",
              "RACACOR       float64\n",
              "IDANOMAL      float64\n",
              "RACACORMAE    float64\n",
              "dtype: object"
            ]
          },
          "metadata": {
            "tags": []
          },
          "execution_count": 16
        }
      ]
    },
    {
      "cell_type": "code",
      "metadata": {
        "id": "Zf1fpUWOIHGY",
        "colab": {
          "base_uri": "https://localhost:8080/",
          "height": 421
        },
        "outputId": "fd15aed4-149f-429a-9895-232cd8246c90"
      },
      "source": [
        "union_df.describe().transpose()"
      ],
      "execution_count": 17,
      "outputs": [
        {
          "output_type": "execute_result",
          "data": {
            "text/html": [
              "<div>\n",
              "<style scoped>\n",
              "    .dataframe tbody tr th:only-of-type {\n",
              "        vertical-align: middle;\n",
              "    }\n",
              "\n",
              "    .dataframe tbody tr th {\n",
              "        vertical-align: top;\n",
              "    }\n",
              "\n",
              "    .dataframe thead th {\n",
              "        text-align: right;\n",
              "    }\n",
              "</style>\n",
              "<table border=\"1\" class=\"dataframe\">\n",
              "  <thead>\n",
              "    <tr style=\"text-align: right;\">\n",
              "      <th></th>\n",
              "      <th>count</th>\n",
              "      <th>mean</th>\n",
              "      <th>std</th>\n",
              "      <th>min</th>\n",
              "      <th>25%</th>\n",
              "      <th>50%</th>\n",
              "      <th>75%</th>\n",
              "      <th>max</th>\n",
              "    </tr>\n",
              "  </thead>\n",
              "  <tbody>\n",
              "    <tr>\n",
              "      <th>CODMUNNASC</th>\n",
              "      <td>7164004.0</td>\n",
              "      <td>3.435725e+05</td>\n",
              "      <td>5.903280e+04</td>\n",
              "      <td>110001.0</td>\n",
              "      <td>350850.0</td>\n",
              "      <td>353870.0</td>\n",
              "      <td>355030.0</td>\n",
              "      <td>530010.0</td>\n",
              "    </tr>\n",
              "    <tr>\n",
              "      <th>IDADEMAE</th>\n",
              "      <td>7164004.0</td>\n",
              "      <td>2.744346e+01</td>\n",
              "      <td>6.675762e+00</td>\n",
              "      <td>8.0</td>\n",
              "      <td>22.0</td>\n",
              "      <td>27.0</td>\n",
              "      <td>32.0</td>\n",
              "      <td>99.0</td>\n",
              "    </tr>\n",
              "    <tr>\n",
              "      <th>ESTCIVMAE</th>\n",
              "      <td>7164004.0</td>\n",
              "      <td>2.153924e+00</td>\n",
              "      <td>1.464204e+00</td>\n",
              "      <td>1.0</td>\n",
              "      <td>1.0</td>\n",
              "      <td>2.0</td>\n",
              "      <td>2.0</td>\n",
              "      <td>9.0</td>\n",
              "    </tr>\n",
              "    <tr>\n",
              "      <th>ESCMAE</th>\n",
              "      <td>7164004.0</td>\n",
              "      <td>4.100652e+00</td>\n",
              "      <td>6.757560e-01</td>\n",
              "      <td>0.0</td>\n",
              "      <td>4.0</td>\n",
              "      <td>4.0</td>\n",
              "      <td>4.0</td>\n",
              "      <td>9.0</td>\n",
              "    </tr>\n",
              "    <tr>\n",
              "      <th>QTDFILVIVO</th>\n",
              "      <td>7164004.0</td>\n",
              "      <td>9.358402e-01</td>\n",
              "      <td>1.237663e+00</td>\n",
              "      <td>0.0</td>\n",
              "      <td>0.0</td>\n",
              "      <td>1.0</td>\n",
              "      <td>1.0</td>\n",
              "      <td>99.0</td>\n",
              "    </tr>\n",
              "    <tr>\n",
              "      <th>QTDFILMORT</th>\n",
              "      <td>7164004.0</td>\n",
              "      <td>2.389897e-01</td>\n",
              "      <td>7.092180e-01</td>\n",
              "      <td>0.0</td>\n",
              "      <td>0.0</td>\n",
              "      <td>0.0</td>\n",
              "      <td>0.0</td>\n",
              "      <td>99.0</td>\n",
              "    </tr>\n",
              "    <tr>\n",
              "      <th>GESTACAO</th>\n",
              "      <td>7164004.0</td>\n",
              "      <td>4.881964e+00</td>\n",
              "      <td>4.445442e-01</td>\n",
              "      <td>1.0</td>\n",
              "      <td>5.0</td>\n",
              "      <td>5.0</td>\n",
              "      <td>5.0</td>\n",
              "      <td>9.0</td>\n",
              "    </tr>\n",
              "    <tr>\n",
              "      <th>PARTO</th>\n",
              "      <td>7164004.0</td>\n",
              "      <td>1.590165e+00</td>\n",
              "      <td>4.923114e-01</td>\n",
              "      <td>1.0</td>\n",
              "      <td>1.0</td>\n",
              "      <td>2.0</td>\n",
              "      <td>2.0</td>\n",
              "      <td>9.0</td>\n",
              "    </tr>\n",
              "    <tr>\n",
              "      <th>DTNASC</th>\n",
              "      <td>7164004.0</td>\n",
              "      <td>1.577507e+07</td>\n",
              "      <td>8.769887e+06</td>\n",
              "      <td>1012011.0</td>\n",
              "      <td>8082015.0</td>\n",
              "      <td>16032016.0</td>\n",
              "      <td>23092020.0</td>\n",
              "      <td>31122020.0</td>\n",
              "    </tr>\n",
              "    <tr>\n",
              "      <th>RACACOR</th>\n",
              "      <td>7164004.0</td>\n",
              "      <td>2.375145e+00</td>\n",
              "      <td>1.458072e+00</td>\n",
              "      <td>1.0</td>\n",
              "      <td>1.0</td>\n",
              "      <td>1.0</td>\n",
              "      <td>4.0</td>\n",
              "      <td>9.0</td>\n",
              "    </tr>\n",
              "    <tr>\n",
              "      <th>IDANOMAL</th>\n",
              "      <td>7164004.0</td>\n",
              "      <td>2.037955e+00</td>\n",
              "      <td>5.944828e-01</td>\n",
              "      <td>1.0</td>\n",
              "      <td>2.0</td>\n",
              "      <td>2.0</td>\n",
              "      <td>2.0</td>\n",
              "      <td>9.0</td>\n",
              "    </tr>\n",
              "    <tr>\n",
              "      <th>RACACORMAE</th>\n",
              "      <td>7164004.0</td>\n",
              "      <td>2.375144e+00</td>\n",
              "      <td>1.458072e+00</td>\n",
              "      <td>1.0</td>\n",
              "      <td>1.0</td>\n",
              "      <td>1.0</td>\n",
              "      <td>4.0</td>\n",
              "      <td>9.0</td>\n",
              "    </tr>\n",
              "  </tbody>\n",
              "</table>\n",
              "</div>"
            ],
            "text/plain": [
              "                count          mean  ...         75%         max\n",
              "CODMUNNASC  7164004.0  3.435725e+05  ...    355030.0    530010.0\n",
              "IDADEMAE    7164004.0  2.744346e+01  ...        32.0        99.0\n",
              "ESTCIVMAE   7164004.0  2.153924e+00  ...         2.0         9.0\n",
              "ESCMAE      7164004.0  4.100652e+00  ...         4.0         9.0\n",
              "QTDFILVIVO  7164004.0  9.358402e-01  ...         1.0        99.0\n",
              "QTDFILMORT  7164004.0  2.389897e-01  ...         0.0        99.0\n",
              "GESTACAO    7164004.0  4.881964e+00  ...         5.0         9.0\n",
              "PARTO       7164004.0  1.590165e+00  ...         2.0         9.0\n",
              "DTNASC      7164004.0  1.577507e+07  ...  23092020.0  31122020.0\n",
              "RACACOR     7164004.0  2.375145e+00  ...         4.0         9.0\n",
              "IDANOMAL    7164004.0  2.037955e+00  ...         2.0         9.0\n",
              "RACACORMAE  7164004.0  2.375144e+00  ...         4.0         9.0\n",
              "\n",
              "[12 rows x 8 columns]"
            ]
          },
          "metadata": {
            "tags": []
          },
          "execution_count": 17
        }
      ]
    },
    {
      "cell_type": "markdown",
      "metadata": {
        "id": "bskYArSjfU3Z"
      },
      "source": [
        "#Tratamento da Variavel DTNASC."
      ]
    },
    {
      "cell_type": "code",
      "metadata": {
        "id": "ZkSochmMP9L6",
        "colab": {
          "base_uri": "https://localhost:8080/"
        },
        "outputId": "63aea75e-c642-4c16-ed93-8563f4a77707"
      },
      "source": [
        "from datetime import datetime as dt\n",
        "def str_to_datetime(date):\n",
        "  string = str(date)\n",
        "  # 3022017 gives error (it reads the day as 30, but the month 22 does not exist), so we add a 0 to the start of the string\n",
        "  if (string[0] != \"0\") and len(string) < 8:\n",
        "    string = \"0\" + string\n",
        "  return dt.strptime(string, \"%d%m%Y\")\n",
        "\n",
        "union_df.loc[:, \"DTNASC\"] = union_df[\"DTNASC\"].apply(str_to_datetime).astype(\"datetime64\")"
      ],
      "execution_count": 18,
      "outputs": [
        {
          "output_type": "stream",
          "text": [
            "/usr/local/lib/python3.7/dist-packages/pandas/core/indexing.py:1743: SettingWithCopyWarning: \n",
            "A value is trying to be set on a copy of a slice from a DataFrame.\n",
            "Try using .loc[row_indexer,col_indexer] = value instead\n",
            "\n",
            "See the caveats in the documentation: https://pandas.pydata.org/pandas-docs/stable/user_guide/indexing.html#returning-a-view-versus-a-copy\n",
            "  # we have an equal len list/ndarray\n"
          ],
          "name": "stderr"
        }
      ]
    },
    {
      "cell_type": "markdown",
      "metadata": {
        "id": "2GQfcf_luG6C"
      },
      "source": [
        "Tratamento da variável QTDFILVIVO, QTDFILMORT, IDADEMAE.\n",
        "Essas variáveis precisam ser tratadas para remover os valores discrepantes."
      ]
    },
    {
      "cell_type": "code",
      "metadata": {
        "id": "7pYgFF35ujdZ",
        "colab": {
          "base_uri": "https://localhost:8080/"
        },
        "outputId": "1ba5b6c9-6b49-4751-ae0b-858e08938e1e"
      },
      "source": [
        "union_df.groupby(by=[\"QTDFILVIVO\"]).count()['DTNASC']"
      ],
      "execution_count": 19,
      "outputs": [
        {
          "output_type": "execute_result",
          "data": {
            "text/plain": [
              "QTDFILVIVO\n",
              "0.0     3212656\n",
              "1.0     2324178\n",
              "2.0      995938\n",
              "3.0      369693\n",
              "4.0      143893\n",
              "5.0       62394\n",
              "6.0       28771\n",
              "7.0       13544\n",
              "8.0        6715\n",
              "9.0        3252\n",
              "10.0       1607\n",
              "11.0        681\n",
              "12.0        308\n",
              "13.0        157\n",
              "14.0         65\n",
              "15.0         26\n",
              "16.0         13\n",
              "17.0          3\n",
              "18.0          4\n",
              "20.0          1\n",
              "21.0          1\n",
              "99.0        104\n",
              "Name: DTNASC, dtype: int64"
            ]
          },
          "metadata": {
            "tags": []
          },
          "execution_count": 19
        }
      ]
    },
    {
      "cell_type": "code",
      "metadata": {
        "id": "K9l8UC4OzaeT"
      },
      "source": [
        "union_df = union_df[union_df['QTDFILVIVO']<=30]\n"
      ],
      "execution_count": 20,
      "outputs": []
    },
    {
      "cell_type": "code",
      "metadata": {
        "id": "qvkmeAYz0Qat",
        "colab": {
          "base_uri": "https://localhost:8080/"
        },
        "outputId": "1c0c3881-89a3-482e-fa18-4def0600dde6"
      },
      "source": [
        "union_df.groupby(by=[\"QTDFILMORT\"]).count()['DTNASC']"
      ],
      "execution_count": 21,
      "outputs": [
        {
          "output_type": "execute_result",
          "data": {
            "text/plain": [
              "QTDFILMORT\n",
              "0.0     5821310\n",
              "1.0     1078620\n",
              "2.0      201800\n",
              "3.0       44613\n",
              "4.0       11175\n",
              "5.0        3566\n",
              "6.0        1345\n",
              "7.0         614\n",
              "8.0         300\n",
              "9.0         160\n",
              "10.0        187\n",
              "11.0         75\n",
              "12.0         35\n",
              "13.0         18\n",
              "14.0         11\n",
              "15.0          9\n",
              "16.0          3\n",
              "17.0          4\n",
              "18.0          2\n",
              "19.0          3\n",
              "20.0          8\n",
              "21.0          1\n",
              "22.0          2\n",
              "23.0          1\n",
              "24.0          1\n",
              "25.0          2\n",
              "26.0          1\n",
              "27.0          1\n",
              "29.0          1\n",
              "99.0         32\n",
              "Name: DTNASC, dtype: int64"
            ]
          },
          "metadata": {
            "tags": []
          },
          "execution_count": 21
        }
      ]
    },
    {
      "cell_type": "code",
      "metadata": {
        "id": "qGatNtx-0euF"
      },
      "source": [
        "union_df = union_df[union_df['QTDFILMORT']<=30]"
      ],
      "execution_count": 22,
      "outputs": []
    },
    {
      "cell_type": "code",
      "metadata": {
        "id": "jXFuN-aq0ofQ",
        "colab": {
          "base_uri": "https://localhost:8080/"
        },
        "outputId": "e1f6d160-ea51-49ff-8d89-aaf1599d9c55"
      },
      "source": [
        "union_df.groupby(by=[\"IDADEMAE\"]).count()['DTNASC']"
      ],
      "execution_count": 23,
      "outputs": [
        {
          "output_type": "execute_result",
          "data": {
            "text/plain": [
              "IDADEMAE\n",
              "8.0          7\n",
              "9.0          1\n",
              "10.0        44\n",
              "11.0       132\n",
              "12.0       797\n",
              "13.0      6532\n",
              "14.0     29471\n",
              "15.0     75695\n",
              "16.0    130866\n",
              "17.0    185225\n",
              "18.0    233033\n",
              "19.0    285279\n",
              "20.0    317365\n",
              "21.0    328760\n",
              "22.0    338316\n",
              "23.0    340165\n",
              "24.0    345524\n",
              "25.0    351593\n",
              "26.0    352466\n",
              "27.0    350188\n",
              "28.0    349350\n",
              "29.0    349173\n",
              "30.0    349773\n",
              "31.0    342400\n",
              "32.0    324706\n",
              "33.0    301831\n",
              "34.0    280689\n",
              "35.0    254621\n",
              "36.0    223020\n",
              "37.0    190901\n",
              "38.0    156315\n",
              "39.0    121461\n",
              "40.0     91320\n",
              "41.0     63591\n",
              "42.0     40926\n",
              "43.0     24490\n",
              "44.0     13509\n",
              "45.0      7199\n",
              "46.0      3394\n",
              "47.0      1629\n",
              "48.0       741\n",
              "49.0       434\n",
              "50.0       290\n",
              "51.0       222\n",
              "52.0       119\n",
              "53.0        91\n",
              "54.0        70\n",
              "55.0        21\n",
              "56.0        26\n",
              "57.0        11\n",
              "58.0        18\n",
              "59.0        12\n",
              "60.0         7\n",
              "61.0        11\n",
              "62.0        12\n",
              "63.0         6\n",
              "64.0         9\n",
              "65.0         3\n",
              "99.0         8\n",
              "Name: DTNASC, dtype: int64"
            ]
          },
          "metadata": {
            "tags": []
          },
          "execution_count": 23
        }
      ]
    },
    {
      "cell_type": "code",
      "metadata": {
        "id": "5XSmnIQa02ym"
      },
      "source": [
        "union_df = union_df[union_df['QTDFILMORT']<=65]"
      ],
      "execution_count": 24,
      "outputs": []
    },
    {
      "cell_type": "code",
      "metadata": {
        "id": "99CgIZr71bx3",
        "colab": {
          "base_uri": "https://localhost:8080/"
        },
        "outputId": "e2d81b94-87b7-4aed-d8ad-26535b689c8c"
      },
      "source": [
        "union_df.groupby(by=[\"RACACOR\"]).count()['DTNASC']"
      ],
      "execution_count": 25,
      "outputs": [
        {
          "output_type": "execute_result",
          "data": {
            "text/plain": [
              "RACACOR\n",
              "1.0    3583954\n",
              "2.0     443205\n",
              "3.0      40535\n",
              "4.0    3064916\n",
              "5.0      29435\n",
              "9.0       1823\n",
              "Name: DTNASC, dtype: int64"
            ]
          },
          "metadata": {
            "tags": []
          },
          "execution_count": 25
        }
      ]
    },
    {
      "cell_type": "markdown",
      "metadata": {
        "id": "TdqEQryV2ZQi"
      },
      "source": [
        "De acordo com o dicionário de dados essa variável deveria ser Tipo de raça e cor do nascido: 1– Branca; 2– Preta; 3– Amarela;4– Parda; 5– Indígena. Então esse 9 pode ser valores que não foram definidos. Vamos remover do dataset."
      ]
    },
    {
      "cell_type": "code",
      "metadata": {
        "id": "Td78w6cA3zb_"
      },
      "source": [
        "union_df = union_df[union_df['RACACOR']<=5]"
      ],
      "execution_count": 26,
      "outputs": []
    },
    {
      "cell_type": "code",
      "metadata": {
        "id": "9vlvaSmS38ad",
        "colab": {
          "base_uri": "https://localhost:8080/"
        },
        "outputId": "f2c71721-2f4b-44f8-b6f7-681daecc7848"
      },
      "source": [
        "union_df.groupby(by=[\"RACACOR\"]).count()['DTNASC']"
      ],
      "execution_count": 27,
      "outputs": [
        {
          "output_type": "execute_result",
          "data": {
            "text/plain": [
              "RACACOR\n",
              "1.0    3583954\n",
              "2.0     443205\n",
              "3.0      40535\n",
              "4.0    3064916\n",
              "5.0      29435\n",
              "Name: DTNASC, dtype: int64"
            ]
          },
          "metadata": {
            "tags": []
          },
          "execution_count": 27
        }
      ]
    },
    {
      "cell_type": "code",
      "metadata": {
        "id": "a_fg1-3h4Jhd",
        "colab": {
          "base_uri": "https://localhost:8080/"
        },
        "outputId": "7fee1e83-040e-4628-9ce6-ae6d18b7c514"
      },
      "source": [
        "union_df.groupby(by=[\"ESTCIVMAE\"]).count()['DTNASC']"
      ],
      "execution_count": 28,
      "outputs": [
        {
          "output_type": "execute_result",
          "data": {
            "text/plain": [
              "ESTCIVMAE\n",
              "1.0    3020926\n",
              "2.0    2737429\n",
              "3.0      12235\n",
              "4.0     120937\n",
              "5.0    1256417\n",
              "9.0      14101\n",
              "Name: DTNASC, dtype: int64"
            ]
          },
          "metadata": {
            "tags": []
          },
          "execution_count": 28
        }
      ]
    },
    {
      "cell_type": "markdown",
      "metadata": {
        "id": "NcpT1n684cf2"
      },
      "source": [
        "De acordo com o dicionário de dados essa variável deveria: 1– Solteira; 2– Casada; 3– Viúva; 4– Separada judicialmente/divorciada; 5– União estável; 9– Ignorada. Vamos filtrar os valores ignorados tb"
      ]
    },
    {
      "cell_type": "code",
      "metadata": {
        "id": "OAbT_Xpb5-Qj"
      },
      "source": [
        "union_df = union_df[union_df['ESTCIVMAE']<=5]"
      ],
      "execution_count": 29,
      "outputs": []
    },
    {
      "cell_type": "code",
      "metadata": {
        "id": "JBJ6CvqB6QyZ",
        "colab": {
          "base_uri": "https://localhost:8080/"
        },
        "outputId": "5bed8660-149b-445f-b1b3-4bc667dcdecc"
      },
      "source": [
        "union_df.groupby(by=[\"ESTCIVMAE\"]).count()['DTNASC']"
      ],
      "execution_count": 30,
      "outputs": [
        {
          "output_type": "execute_result",
          "data": {
            "text/plain": [
              "ESTCIVMAE\n",
              "1.0    3020926\n",
              "2.0    2737429\n",
              "3.0      12235\n",
              "4.0     120937\n",
              "5.0    1256417\n",
              "Name: DTNASC, dtype: int64"
            ]
          },
          "metadata": {
            "tags": []
          },
          "execution_count": 30
        }
      ]
    },
    {
      "cell_type": "code",
      "metadata": {
        "id": "3EPVh0pk6gcS",
        "colab": {
          "base_uri": "https://localhost:8080/"
        },
        "outputId": "c54ec3b5-701b-47d5-87f1-24975d7788a6"
      },
      "source": [
        "union_df.groupby(by=[\"PARTO\"]).count()['DTNASC']"
      ],
      "execution_count": 31,
      "outputs": [
        {
          "output_type": "execute_result",
          "data": {
            "text/plain": [
              "PARTO\n",
              "1.0    2929571\n",
              "2.0    4218310\n",
              "9.0         63\n",
              "Name: DTNASC, dtype: int64"
            ]
          },
          "metadata": {
            "tags": []
          },
          "execution_count": 31
        }
      ]
    },
    {
      "cell_type": "markdown",
      "metadata": {
        "id": "3F9CeydN6p8L"
      },
      "source": [
        "Apenas 66 mulheres tiveram o tipo de parto ignorado na hora de transcrever os dados. Vamos filtrar"
      ]
    },
    {
      "cell_type": "code",
      "metadata": {
        "id": "EuV4TLQz6360"
      },
      "source": [
        "union_df = union_df[union_df['PARTO'] <= 2.0]"
      ],
      "execution_count": 32,
      "outputs": []
    },
    {
      "cell_type": "code",
      "metadata": {
        "id": "_TngHE5_7BIs",
        "colab": {
          "base_uri": "https://localhost:8080/"
        },
        "outputId": "1627204a-3816-403c-91fc-6234fcf61343"
      },
      "source": [
        "union_df.groupby(by=[\"PARTO\"]).count()['DTNASC']"
      ],
      "execution_count": 33,
      "outputs": [
        {
          "output_type": "execute_result",
          "data": {
            "text/plain": [
              "PARTO\n",
              "1.0    2929571\n",
              "2.0    4218310\n",
              "Name: DTNASC, dtype: int64"
            ]
          },
          "metadata": {
            "tags": []
          },
          "execution_count": 33
        }
      ]
    },
    {
      "cell_type": "code",
      "metadata": {
        "id": "vL2UmP6O7hBf",
        "colab": {
          "base_uri": "https://localhost:8080/"
        },
        "outputId": "5451205b-0d3f-4a85-8096-a3815f320c63"
      },
      "source": [
        "union_df.groupby(by=[\"IDANOMAL\"]).count()['DTNASC']"
      ],
      "execution_count": 34,
      "outputs": [
        {
          "output_type": "execute_result",
          "data": {
            "text/plain": [
              "IDANOMAL\n",
              "1.0      79715\n",
              "2.0    7018344\n",
              "9.0      49822\n",
              "Name: DTNASC, dtype: int64"
            ]
          },
          "metadata": {
            "tags": []
          },
          "execution_count": 34
        }
      ]
    },
    {
      "cell_type": "code",
      "metadata": {
        "id": "Vm3dQDj07xKG"
      },
      "source": [
        "union_df = union_df[union_df['IDANOMAL'] <= 2.0]"
      ],
      "execution_count": 35,
      "outputs": []
    },
    {
      "cell_type": "code",
      "metadata": {
        "id": "e8Mzym8o7539",
        "colab": {
          "base_uri": "https://localhost:8080/"
        },
        "outputId": "59694a34-61c9-4ace-f0ae-597e6294e9bc"
      },
      "source": [
        "union_df.groupby(by=[\"IDANOMAL\"]).count()['DTNASC']"
      ],
      "execution_count": 36,
      "outputs": [
        {
          "output_type": "execute_result",
          "data": {
            "text/plain": [
              "IDANOMAL\n",
              "1.0      79715\n",
              "2.0    7018344\n",
              "Name: DTNASC, dtype: int64"
            ]
          },
          "metadata": {
            "tags": []
          },
          "execution_count": 36
        }
      ]
    },
    {
      "cell_type": "code",
      "metadata": {
        "id": "Mhd1AIGC8DrF",
        "colab": {
          "base_uri": "https://localhost:8080/"
        },
        "outputId": "922e6425-c7cf-4b1d-f412-8a785ad7610d"
      },
      "source": [
        "union_df.groupby(by=[\"GESTACAO\"]).count()['DTNASC']"
      ],
      "execution_count": 37,
      "outputs": [
        {
          "output_type": "execute_result",
          "data": {
            "text/plain": [
              "GESTACAO\n",
              "1.0       2897\n",
              "2.0      36290\n",
              "3.0      72830\n",
              "4.0     702146\n",
              "5.0    6153209\n",
              "6.0     130645\n",
              "9.0         42\n",
              "Name: DTNASC, dtype: int64"
            ]
          },
          "metadata": {
            "tags": []
          },
          "execution_count": 37
        }
      ]
    },
    {
      "cell_type": "markdown",
      "metadata": {
        "id": "hUdxyn9K8VjW"
      },
      "source": [
        "Semanas de gestação: 1– Menos de 22 semanas; 2– 22 a 27 semanas; 3– 28 a 31 semanas; 4– 32 a 36 semanas; 5– 37 a 41 semanas; 6– 42 semanas e mais; 9– Ignorado."
      ]
    },
    {
      "cell_type": "code",
      "metadata": {
        "id": "WQpdQLvL8D22"
      },
      "source": [
        "union_df = union_df[union_df['GESTACAO'] <= 6.0]"
      ],
      "execution_count": 44,
      "outputs": []
    },
    {
      "cell_type": "code",
      "metadata": {
        "id": "0TRBLRmR8D_W",
        "colab": {
          "base_uri": "https://localhost:8080/"
        },
        "outputId": "bf4f5907-f3d3-4ad8-e384-9355dabbfac0"
      },
      "source": [
        "union_df.groupby(by=[\"GESTACAO\"]).count()['DTNASC']"
      ],
      "execution_count": 43,
      "outputs": [
        {
          "output_type": "execute_result",
          "data": {
            "text/plain": [
              "GESTACAO\n",
              "1.0       2897\n",
              "2.0      36290\n",
              "3.0      72830\n",
              "4.0     702146\n",
              "5.0    6153209\n",
              "6.0     130645\n",
              "Name: DTNASC, dtype: int64"
            ]
          },
          "metadata": {
            "tags": []
          },
          "execution_count": 43
        }
      ]
    }
  ]
}