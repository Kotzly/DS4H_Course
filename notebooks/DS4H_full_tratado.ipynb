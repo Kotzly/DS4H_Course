{
  "nbformat": 4,
  "nbformat_minor": 0,
  "metadata": {
    "colab": {
      "name": "DS4H_full_tratado.ipynb",
      "provenance": [],
      "collapsed_sections": []
    },
    "kernelspec": {
      "display_name": "Python 3",
      "language": "python",
      "name": "python3"
    },
    "language_info": {
      "codemirror_mode": {
        "name": "ipython",
        "version": 3
      },
      "file_extension": ".py",
      "mimetype": "text/x-python",
      "name": "python",
      "nbconvert_exporter": "python",
      "pygments_lexer": "ipython3",
      "version": "3.6.13"
    }
  },
  "cells": [
    {
      "cell_type": "code",
      "metadata": {
        "colab": {
          "base_uri": "https://localhost:8080/"
        },
        "id": "aaJYBP6O9EGh",
        "outputId": "229d9b3d-5f5f-4142-e086-9e5b8cfc72d9"
      },
      "source": [
        "!git clone https://github.com/Kotzly/DS4H_Course.git\n",
        "!pip install ./DS4H_Course"
      ],
      "execution_count": 1,
      "outputs": [
        {
          "output_type": "stream",
          "text": [
            "fatal: destination path 'DS4H_Course' already exists and is not an empty directory.\n",
            "Processing ./DS4H_Course\n",
            "Requirement already satisfied: zipfile38==0.0.3 in /usr/local/lib/python3.7/dist-packages (from ds4h==0.1) (0.0.3)\n",
            "Requirement already satisfied: pandas==1.1.3 in /usr/local/lib/python3.7/dist-packages (from ds4h==0.1) (1.1.3)\n",
            "Requirement already satisfied: simpledbf==0.2.6 in /usr/local/lib/python3.7/dist-packages (from ds4h==0.1) (0.2.6)\n",
            "Requirement already satisfied: numpy>=1.15.4 in /usr/local/lib/python3.7/dist-packages (from pandas==1.1.3->ds4h==0.1) (1.19.5)\n",
            "Requirement already satisfied: python-dateutil>=2.7.3 in /usr/local/lib/python3.7/dist-packages (from pandas==1.1.3->ds4h==0.1) (2.8.1)\n",
            "Requirement already satisfied: pytz>=2017.2 in /usr/local/lib/python3.7/dist-packages (from pandas==1.1.3->ds4h==0.1) (2018.9)\n",
            "Requirement already satisfied: six>=1.5 in /usr/local/lib/python3.7/dist-packages (from python-dateutil>=2.7.3->pandas==1.1.3->ds4h==0.1) (1.15.0)\n",
            "Building wheels for collected packages: ds4h\n",
            "  Building wheel for ds4h (setup.py) ... \u001b[?25l\u001b[?25hdone\n",
            "  Created wheel for ds4h: filename=ds4h-0.1-cp37-none-any.whl size=11900 sha256=46798d6750475a4d770f12bb4945cfff67152e35af41cb91ed00d124f76e0579\n",
            "  Stored in directory: /tmp/pip-ephem-wheel-cache-78qojp08/wheels/ec/ff/91/fc3664f800ce643b3917437b9c8d3b0b7298db38297e3d6ef4\n",
            "Successfully built ds4h\n",
            "Installing collected packages: ds4h\n",
            "  Found existing installation: ds4h 0.1\n",
            "    Uninstalling ds4h-0.1:\n",
            "      Successfully uninstalled ds4h-0.1\n",
            "Successfully installed ds4h-0.1\n"
          ],
          "name": "stdout"
        }
      ]
    },
    {
      "cell_type": "code",
      "metadata": {
        "id": "Ykd9xywa-Zqk"
      },
      "source": [
        "import ds4h\n",
        "from ds4h.data.download_sinasc import download_dbc, download_dbf_2020\n",
        "from ds4h.processing.dbc import dbc_to_csv, dbf_to_csv\n",
        "from ds4h.processing.csv import join_sinasc_files\n",
        "from ds4h.processing.sinasc import process_sinasc\n",
        "\n",
        "\n",
        "\n",
        "from pathlib import Path\n",
        "from ds4h.data.city_ranking import get_ranking_dataframe, get_top_cities_from_df"
      ],
      "execution_count": 2,
      "outputs": []
    },
    {
      "cell_type": "code",
      "metadata": {
        "id": "_jo232PqQ7pi"
      },
      "source": [
        "dataset_root = Path(\"/home/paulo/Documents/datasets/sinasc\")"
      ],
      "execution_count": 3,
      "outputs": []
    },
    {
      "cell_type": "code",
      "metadata": {
        "id": "947gyIjgLZQ8"
      },
      "source": [
        "dbc_path = dataset_root / \"dbc\"\n",
        "\n",
        "dbc_path.mkdir(exist_ok=True, parents=True)"
      ],
      "execution_count": 4,
      "outputs": []
    },
    {
      "cell_type": "code",
      "metadata": {
        "id": "aU0Cbw2uQ7pj",
        "colab": {
          "base_uri": "https://localhost:8080/"
        },
        "outputId": "56b5dedc-36d9-4f2f-8959-2679664b4b55"
      },
      "source": [
        "download_dbc(dbc_path)"
      ],
      "execution_count": null,
      "outputs": [
        {
          "output_type": "stream",
          "text": [
            "Downloading data from 10 years using 4 threads"
          ],
          "name": "stdout"
        }
      ]
    },
    {
      "cell_type": "code",
      "metadata": {
        "id": "MJ1YdoCWLU5q"
      },
      "source": [
        "csv_path = dataset_root / \"csv\"\n",
        "dbc_to_csv(dbc_path, csv_path);"
      ],
      "execution_count": null,
      "outputs": []
    },
    {
      "cell_type": "code",
      "metadata": {
        "id": "KxGGwjj3Q7pl"
      },
      "source": [
        "dbf_folder = dataset_root / \"dbf\"\n",
        "dbf_folder.mkdir(exist_ok=True)\n",
        "\n",
        "download_dbf_2020(dbf_folder)\n",
        "\n",
        "dbf_filepath = list(dbf_folder.glob(\"*.DBF\"))[0]\n",
        "dbf_to_csv(dbf_filepath, csv_path)"
      ],
      "execution_count": null,
      "outputs": []
    },
    {
      "cell_type": "code",
      "metadata": {
        "id": "Rxd-4Kf7Q7pl"
      },
      "source": [
        "union_df = join_sinasc_files(csv_path)\n",
        "union_df"
      ],
      "execution_count": null,
      "outputs": []
    },
    {
      "cell_type": "code",
      "metadata": {
        "id": "PCN1HbFfQ7pl"
      },
      "source": [
        "df = get_ranking_dataframe()\n",
        "cities_dict = get_top_cities_from_df(df)\n",
        "print(cities_dict)"
      ],
      "execution_count": null,
      "outputs": []
    },
    {
      "cell_type": "code",
      "metadata": {
        "id": "CHqPhqBUQ7pm"
      },
      "source": [
        "df = process_sinasc(union_df)"
      ],
      "execution_count": null,
      "outputs": []
    },
    {
      "cell_type": "code",
      "metadata": {
        "id": "d7deoNzBTInP"
      },
      "source": [
        "import numpy as np\n",
        "from scipy import stats\n",
        "from pathlib import Path\n",
        "import pandas as pd\n",
        "import seaborn as sns\n",
        "import matplotlib.pyplot as plt\n",
        "import shutil\n",
        "import urllib.request as request\n",
        "from contextlib import closing\n",
        "import zipfile\n",
        "import sys\n",
        "import os\n",
        "from simpledbf import Dbf5\n",
        "import platform\n",
        "\n"
      ],
      "execution_count": null,
      "outputs": []
    },
    {
      "cell_type": "markdown",
      "metadata": {
        "id": "VddcKDqnmzXQ"
      },
      "source": [
        "#Verifica dados faltantes"
      ]
    },
    {
      "cell_type": "code",
      "metadata": {
        "id": "MN0AruTIEtxs"
      },
      "source": [
        "union_df.shape"
      ],
      "execution_count": null,
      "outputs": []
    },
    {
      "cell_type": "code",
      "metadata": {
        "id": "xyOJBQnUQ7pm"
      },
      "source": [
        "faltantes = union_df.isnull().sum()\n",
        "print(faltantes)"
      ],
      "execution_count": null,
      "outputs": []
    },
    {
      "cell_type": "code",
      "metadata": {
        "id": "CMIOz7kfE_y0"
      },
      "source": [
        "def missing_values(x):\n",
        "  missing_per = pd.isnull(x).mean()\n",
        "  return \"{:.2f}%\".format(missing_per * 100)\n",
        "\n",
        "union_df.apply(missing_values, axis=0)"
      ],
      "execution_count": null,
      "outputs": []
    },
    {
      "cell_type": "markdown",
      "metadata": {
        "id": "hUOvSHaRn2nd"
      },
      "source": [
        "### Considerando que os dados faltantes do dataset é menor que 5% optamos por dropar os dados"
      ]
    },
    {
      "cell_type": "code",
      "metadata": {
        "id": "5MN1-vahG8Pb"
      },
      "source": [
        "union_df = union_df.dropna()\n",
        "\n",
        "\n",
        "\n"
      ],
      "execution_count": null,
      "outputs": []
    },
    {
      "cell_type": "markdown",
      "metadata": {
        "id": "OKm2bhvYsFHC"
      },
      "source": [
        "## Qualidade dos dados \n",
        "###Verifica erros de registro, valores discrepantes e Inconsistências"
      ]
    },
    {
      "cell_type": "code",
      "metadata": {
        "id": "01FTJpQjULtB"
      },
      "source": [
        "union_df.dtypes"
      ],
      "execution_count": null,
      "outputs": []
    },
    {
      "cell_type": "code",
      "metadata": {
        "id": "Zf1fpUWOIHGY"
      },
      "source": [
        "union_df.describe().transpose()"
      ],
      "execution_count": null,
      "outputs": []
    },
    {
      "cell_type": "markdown",
      "metadata": {
        "id": "bskYArSjfU3Z"
      },
      "source": [
        "#Tratamento da Variavel DTNASC."
      ]
    },
    {
      "cell_type": "code",
      "metadata": {
        "id": "ZkSochmMP9L6"
      },
      "source": [
        "from datetime import datetime as dt\n",
        "def str_to_datetime(date):\n",
        "  string = str(date)\n",
        "  # 3022017 gives error (it reads the day as 30, but the month 22 does not exist), so we add a 0 to the start of the string\n",
        "  if (string[0] != \"0\") and len(string) < 8:\n",
        "    string = \"0\" + string\n",
        "  return dt.strptime(string, \"%d%m%Y\")\n",
        "\n",
        "union_df.loc[:, \"DTNASC\"] = union_df[\"DTNASC\"].apply(str_to_datetime).astype(\"datetime64\")"
      ],
      "execution_count": null,
      "outputs": []
    },
    {
      "cell_type": "markdown",
      "metadata": {
        "id": "2GQfcf_luG6C"
      },
      "source": [
        "Tratamento da variável QTDFILVIVO, QTDFILMORT, IDADEMAE.\n",
        "Essas variáveis precisam ser tratadas para remover os valores discrepantes."
      ]
    },
    {
      "cell_type": "code",
      "metadata": {
        "id": "7pYgFF35ujdZ"
      },
      "source": [
        "union_df.groupby(by=[\"QTDFILVIVO\"]).count()['DTNASC']"
      ],
      "execution_count": null,
      "outputs": []
    },
    {
      "cell_type": "code",
      "metadata": {
        "id": "K9l8UC4OzaeT"
      },
      "source": [
        "union_df = union_df[union_df['QTDFILVIVO']<=30]\n"
      ],
      "execution_count": null,
      "outputs": []
    },
    {
      "cell_type": "code",
      "metadata": {
        "id": "qvkmeAYz0Qat"
      },
      "source": [
        "union_df.groupby(by=[\"QTDFILMORT\"]).count()['DTNASC']"
      ],
      "execution_count": null,
      "outputs": []
    },
    {
      "cell_type": "code",
      "metadata": {
        "id": "qGatNtx-0euF"
      },
      "source": [
        "union_df = union_df[union_df['QTDFILMORT']<=30]"
      ],
      "execution_count": null,
      "outputs": []
    },
    {
      "cell_type": "code",
      "metadata": {
        "id": "jXFuN-aq0ofQ"
      },
      "source": [
        "union_df.groupby(by=[\"IDADEMAE\"]).count()['DTNASC']"
      ],
      "execution_count": null,
      "outputs": []
    },
    {
      "cell_type": "code",
      "metadata": {
        "id": "5XSmnIQa02ym"
      },
      "source": [
        "union_df = union_df[union_df['QTDFILMORT']<=65]"
      ],
      "execution_count": null,
      "outputs": []
    },
    {
      "cell_type": "code",
      "metadata": {
        "id": "99CgIZr71bx3"
      },
      "source": [
        "union_df.groupby(by=[\"RACACOR\"]).count()['DTNASC']"
      ],
      "execution_count": null,
      "outputs": []
    },
    {
      "cell_type": "markdown",
      "metadata": {
        "id": "TdqEQryV2ZQi"
      },
      "source": [
        "De acordo com o dicionário de dados essa variável deveria ser Tipo de raça e cor do nascido: 1– Branca; 2– Preta; 3– Amarela;4– Parda; 5– Indígena. Então esse 9 pode ser valores que não foram definidos. Vamos remover do dataset."
      ]
    },
    {
      "cell_type": "code",
      "metadata": {
        "id": "Td78w6cA3zb_"
      },
      "source": [
        "union_df = union_df[union_df['RACACOR']<=5]"
      ],
      "execution_count": null,
      "outputs": []
    },
    {
      "cell_type": "code",
      "metadata": {
        "id": "9vlvaSmS38ad"
      },
      "source": [
        "union_df.groupby(by=[\"RACACOR\"]).count()['DTNASC']"
      ],
      "execution_count": null,
      "outputs": []
    },
    {
      "cell_type": "code",
      "metadata": {
        "id": "a_fg1-3h4Jhd"
      },
      "source": [
        "union_df.groupby(by=[\"ESTCIVMAE\"]).count()['DTNASC']"
      ],
      "execution_count": null,
      "outputs": []
    },
    {
      "cell_type": "markdown",
      "metadata": {
        "id": "NcpT1n684cf2"
      },
      "source": [
        "De acordo com o dicionário de dados essa variável deveria: 1– Solteira; 2– Casada; 3– Viúva; 4– Separada judicialmente/divorciada; 5– União estável; 9– Ignorada. Vamos filtrar os valores ignorados tb"
      ]
    },
    {
      "cell_type": "code",
      "metadata": {
        "id": "OAbT_Xpb5-Qj"
      },
      "source": [
        "union_df = union_df[union_df['ESTCIVMAE']<=5]"
      ],
      "execution_count": null,
      "outputs": []
    },
    {
      "cell_type": "code",
      "metadata": {
        "id": "JBJ6CvqB6QyZ"
      },
      "source": [
        "union_df.groupby(by=[\"ESTCIVMAE\"]).count()['DTNASC']"
      ],
      "execution_count": null,
      "outputs": []
    },
    {
      "cell_type": "code",
      "metadata": {
        "id": "3EPVh0pk6gcS"
      },
      "source": [
        "union_df.groupby(by=[\"PARTO\"]).count()['DTNASC']"
      ],
      "execution_count": null,
      "outputs": []
    },
    {
      "cell_type": "markdown",
      "metadata": {
        "id": "3F9CeydN6p8L"
      },
      "source": [
        "Apenas 66 mulheres tiveram o tipo de parto ignorado na hora de transcrever os dados. Vamos filtrar"
      ]
    },
    {
      "cell_type": "code",
      "metadata": {
        "id": "EuV4TLQz6360"
      },
      "source": [
        "union_df = union_df[union_df['PARTO'] <= 2.0]"
      ],
      "execution_count": null,
      "outputs": []
    },
    {
      "cell_type": "code",
      "metadata": {
        "id": "_TngHE5_7BIs"
      },
      "source": [
        "union_df.groupby(by=[\"PARTO\"]).count()['DTNASC']"
      ],
      "execution_count": null,
      "outputs": []
    },
    {
      "cell_type": "code",
      "metadata": {
        "id": "vL2UmP6O7hBf"
      },
      "source": [
        "union_df.groupby(by=[\"IDANOMAL\"]).count()['DTNASC']"
      ],
      "execution_count": null,
      "outputs": []
    },
    {
      "cell_type": "code",
      "metadata": {
        "id": "Vm3dQDj07xKG"
      },
      "source": [
        "union_df = union_df[union_df['IDANOMAL'] <= 2.0]"
      ],
      "execution_count": null,
      "outputs": []
    },
    {
      "cell_type": "code",
      "metadata": {
        "id": "e8Mzym8o7539"
      },
      "source": [
        "union_df.groupby(by=[\"IDANOMAL\"]).count()['DTNASC']"
      ],
      "execution_count": null,
      "outputs": []
    },
    {
      "cell_type": "code",
      "metadata": {
        "id": "Mhd1AIGC8DrF"
      },
      "source": [
        "union_df.groupby(by=[\"GESTACAO\"]).count()['DTNASC']"
      ],
      "execution_count": null,
      "outputs": []
    },
    {
      "cell_type": "markdown",
      "metadata": {
        "id": "hUdxyn9K8VjW"
      },
      "source": [
        "Semanas de gestação: 1– Menos de 22 semanas; 2– 22 a 27 semanas; 3– 28 a 31 semanas; 4– 32 a 36 semanas; 5– 37 a 41 semanas; 6– 42 semanas e mais; 9– Ignorado."
      ]
    },
    {
      "cell_type": "code",
      "metadata": {
        "id": "WQpdQLvL8D22"
      },
      "source": [
        "union_df = union_df[union_df['GESTACAO'] <= 6.0]"
      ],
      "execution_count": null,
      "outputs": []
    },
    {
      "cell_type": "code",
      "metadata": {
        "id": "0TRBLRmR8D_W"
      },
      "source": [
        "union_df.groupby(by=[\"GESTACAO\"]).count()['DTNASC']"
      ],
      "execution_count": null,
      "outputs": []
    },
    {
      "cell_type": "code",
      "metadata": {
        "id": "l-7y-Ym58x6g"
      },
      "source": [
        "union_df.groupby(by=[\"ESCMAE2010\"]).count()['DTNASC']"
      ],
      "execution_count": null,
      "outputs": []
    },
    {
      "cell_type": "code",
      "metadata": {
        "id": "q2z8zpskBOBn"
      },
      "source": [
        "union_df = union_df[union_df['ESCMAE2010'] <= 5.0]"
      ],
      "execution_count": null,
      "outputs": []
    },
    {
      "cell_type": "code",
      "metadata": {
        "id": "bxTZ9beMBT8B"
      },
      "source": [
        "union_df.groupby(by=[\"ESCMAE2010\"]).count()['DTNASC']"
      ],
      "execution_count": null,
      "outputs": []
    }
  ]
}