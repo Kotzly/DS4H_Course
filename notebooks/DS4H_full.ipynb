{
  "nbformat": 4,
  "nbformat_minor": 0,
  "metadata": {
    "colab": {
      "name": "DS4H_full",
      "provenance": [],
      "include_colab_link": true
    },
    "kernelspec": {
      "display_name": "Python 3",
      "language": "python",
      "name": "python3"
    },
    "language_info": {
      "codemirror_mode": {
        "name": "ipython",
        "version": 3
      },
      "file_extension": ".py",
      "mimetype": "text/x-python",
      "name": "python",
      "nbconvert_exporter": "python",
      "pygments_lexer": "ipython3",
      "version": "3.6.13"
    }
  },
  "cells": [
    {
      "cell_type": "markdown",
      "metadata": {
        "id": "view-in-github",
        "colab_type": "text"
      },
      "source": [
        "<a href=\"https://colab.research.google.com/github/Kotzly/DS4H_Course/blob/dev_e2/notebooks/DS4H_full.ipynb\" target=\"_parent\"><img src=\"https://colab.research.google.com/assets/colab-badge.svg\" alt=\"Open In Colab\"/></a>"
      ]
    },
    {
      "cell_type": "code",
      "metadata": {
        "colab": {
          "base_uri": "https://localhost:8080/",
          "height": 710
        },
        "id": "aaJYBP6O9EGh",
        "outputId": "f26d3678-4722-465b-cdec-5f931b3a043c"
      },
      "source": [
        "!git clone https://github.com/Kotzly/DS4H_Course.git\n",
        "!pip install ./DS4H_Course"
      ],
      "execution_count": 1,
      "outputs": [
        {
          "output_type": "stream",
          "text": [
            "Cloning into 'DS4H_Course'...\n",
            "remote: Enumerating objects: 322, done.\u001b[K\n",
            "remote: Counting objects: 100% (322/322), done.\u001b[K\n",
            "remote: Compressing objects: 100% (238/238), done.\u001b[K\n",
            "remote: Total 322 (delta 182), reused 164 (delta 71), pack-reused 0\u001b[K\n",
            "Receiving objects: 100% (322/322), 1.86 MiB | 6.55 MiB/s, done.\n",
            "Resolving deltas: 100% (182/182), done.\n",
            "Processing ./DS4H_Course\n",
            "Collecting zipfile38==0.0.3\n",
            "  Downloading https://files.pythonhosted.org/packages/a9/f0/719ee5a005ccdf17a49eea4890a0623fa693bce041af54c7f43320aaedab/zipfile38-0.0.3.tar.gz\n",
            "Collecting pandas==1.1.3\n",
            "\u001b[?25l  Downloading https://files.pythonhosted.org/packages/25/47/22fc373440e144e2111363adaa07abb09ec1f03fbc071b6d9fc0bbf65f68/pandas-1.1.3-cp37-cp37m-manylinux1_x86_64.whl (9.5MB)\n",
            "\u001b[K     |████████████████████████████████| 9.5MB 12.9MB/s \n",
            "\u001b[?25hCollecting simpledbf==0.2.6\n",
            "  Downloading https://files.pythonhosted.org/packages/8a/d3/e4c25cd8f739dd7ddd19c255cd5552e08cdd439ac51a36ae12640ce8a748/simpledbf-0.2.6.tar.gz\n",
            "Requirement already satisfied: python-dateutil>=2.7.3 in /usr/local/lib/python3.7/dist-packages (from pandas==1.1.3->ds4h==0.1) (2.8.1)\n",
            "Requirement already satisfied: numpy>=1.15.4 in /usr/local/lib/python3.7/dist-packages (from pandas==1.1.3->ds4h==0.1) (1.19.5)\n",
            "Requirement already satisfied: pytz>=2017.2 in /usr/local/lib/python3.7/dist-packages (from pandas==1.1.3->ds4h==0.1) (2018.9)\n",
            "Requirement already satisfied: six>=1.5 in /usr/local/lib/python3.7/dist-packages (from python-dateutil>=2.7.3->pandas==1.1.3->ds4h==0.1) (1.15.0)\n",
            "Building wheels for collected packages: ds4h, zipfile38, simpledbf\n",
            "  Building wheel for ds4h (setup.py) ... \u001b[?25l\u001b[?25hdone\n",
            "  Created wheel for ds4h: filename=ds4h-0.1-cp37-none-any.whl size=12046 sha256=99719ab32265c82142da66977ec8867d4b82bbc9795b0c3e35dcb77003f02073\n",
            "  Stored in directory: /tmp/pip-ephem-wheel-cache-huh6cr8z/wheels/ec/ff/91/fc3664f800ce643b3917437b9c8d3b0b7298db38297e3d6ef4\n",
            "  Building wheel for zipfile38 (setup.py) ... \u001b[?25l\u001b[?25hdone\n",
            "  Created wheel for zipfile38: filename=zipfile38-0.0.3-cp37-none-any.whl size=22765 sha256=204fc7f6f6af462cd7a02e14a8ef41f702ccf236fc44a1ffd07bb25829e4826a\n",
            "  Stored in directory: /root/.cache/pip/wheels/15/7a/ec/508d28bf3894e050aef4d0205cdf27a346e6e0891e979345d4\n",
            "  Building wheel for simpledbf (setup.py) ... \u001b[?25l\u001b[?25hdone\n",
            "  Created wheel for simpledbf: filename=simpledbf-0.2.6-cp37-none-any.whl size=13793 sha256=16ba95d2837ad66500e5f57b612be5cf5fab44aae68fd8fdaef37bb7b42a5cab\n",
            "  Stored in directory: /root/.cache/pip/wheels/72/dd/df/cdfb970a508ef9750ebb4b6e035a3410c3d62b5a6a91d2aafc\n",
            "Successfully built ds4h zipfile38 simpledbf\n",
            "Installing collected packages: zipfile38, pandas, simpledbf, ds4h\n",
            "  Found existing installation: pandas 1.1.5\n",
            "    Uninstalling pandas-1.1.5:\n",
            "      Successfully uninstalled pandas-1.1.5\n",
            "Successfully installed ds4h-0.1 pandas-1.1.3 simpledbf-0.2.6 zipfile38-0.0.3\n"
          ],
          "name": "stdout"
        },
        {
          "output_type": "display_data",
          "data": {
            "application/vnd.colab-display-data+json": {
              "pip_warning": {
                "packages": [
                  "pandas"
                ]
              }
            }
          },
          "metadata": {
            "tags": []
          }
        }
      ]
    },
    {
      "cell_type": "code",
      "metadata": {
        "id": "Ykd9xywa-Zqk"
      },
      "source": [
        "import ds4h\n",
        "from ds4h.data.download_sinasc import download_dbc, download_dbf_2020\n",
        "from ds4h.processing.dbc import dbc_to_csv, dbf_to_csv\n",
        "from ds4h.processing.csv import join_sinasc_files\n",
        "from ds4h.processing.sinasc import process_sinasc\n",
        "\n",
        "from pathlib import Path\n",
        "from ds4h.data.city_ranking import get_ranking_dataframe, get_top_cities_from_df"
      ],
      "execution_count": 2,
      "outputs": []
    },
    {
      "cell_type": "code",
      "metadata": {
        "id": "_jo232PqQ7pi"
      },
      "source": [
        "dataset_root = Path(\"/home/paulo/Documents/datasets/sinasc\")"
      ],
      "execution_count": 3,
      "outputs": []
    },
    {
      "cell_type": "code",
      "metadata": {
        "id": "947gyIjgLZQ8"
      },
      "source": [
        "dbc_path = dataset_root / \"dbc\"\n",
        "\n",
        "dbc_path.mkdir(exist_ok=True, parents=True)"
      ],
      "execution_count": 4,
      "outputs": []
    },
    {
      "cell_type": "code",
      "metadata": {
        "id": "aU0Cbw2uQ7pj",
        "colab": {
          "base_uri": "https://localhost:8080/",
          "height": 1000
        },
        "outputId": "e71bdb6b-1af2-46ce-9f92-f84a520203ed"
      },
      "source": [
        "download_dbc(dbc_path, n_jobs=10, years=[2019])"
      ],
      "execution_count": 6,
      "outputs": [
        {
          "output_type": "stream",
          "text": [
            "Downloading data from 1 years using 4 threads"
          ],
          "name": "stdout"
        },
        {
          "output_type": "error",
          "ename": "URLError",
          "evalue": "ignored",
          "traceback": [
            "\u001b[0;31m---------------------------------------------------------------------------\u001b[0m",
            "\u001b[0;31mRemoteTraceback\u001b[0m                           Traceback (most recent call last)",
            "\u001b[0;31mRemoteTraceback\u001b[0m: \n\"\"\"\nTraceback (most recent call last):\n  File \"/usr/lib/python3.7/urllib/request.py\", line 1566, in ftp_open\n    fw = self.connect_ftp(user, passwd, host, port, dirs, req.timeout)\n  File \"/usr/lib/python3.7/urllib/request.py\", line 1588, in connect_ftp\n    persistent=False)\n  File \"/usr/lib/python3.7/urllib/request.py\", line 2408, in __init__\n    self.init()\n  File \"/usr/lib/python3.7/urllib/request.py\", line 2417, in init\n    self.ftp.connect(self.host, self.port, self.timeout)\n  File \"/usr/lib/python3.7/ftplib.py\", line 152, in connect\n    source_address=self.source_address)\n  File \"/usr/lib/python3.7/socket.py\", line 728, in create_connection\n    raise err\n  File \"/usr/lib/python3.7/socket.py\", line 716, in create_connection\n    sock.connect(sa)\nTimeoutError: [Errno 110] Connection timed out\n\nDuring handling of the above exception, another exception occurred:\n\nTraceback (most recent call last):\n  File \"/usr/lib/python3.7/multiprocessing/pool.py\", line 121, in worker\n    result = (True, func(*args, **kwds))\n  File \"/usr/lib/python3.7/multiprocessing/pool.py\", line 47, in starmapstar\n    return list(itertools.starmap(args[0], args[1]))\n  File \"/usr/local/lib/python3.7/dist-packages/ds4h/data/download.py\", line 15, in download_ftp\n    with closing(request.urlopen(url)) as r:\n  File \"/usr/lib/python3.7/urllib/request.py\", line 222, in urlopen\n    return opener.open(url, data, timeout)\n  File \"/usr/lib/python3.7/urllib/request.py\", line 525, in open\n    response = self._open(req, data)\n  File \"/usr/lib/python3.7/urllib/request.py\", line 543, in _open\n    '_open', req)\n  File \"/usr/lib/python3.7/urllib/request.py\", line 503, in _call_chain\n    result = func(*args)\n  File \"/usr/lib/python3.7/urllib/request.py\", line 1584, in ftp_open\n    raise exc.with_traceback(sys.exc_info()[2])\n  File \"/usr/lib/python3.7/urllib/request.py\", line 1566, in ftp_open\n    fw = self.connect_ftp(user, passwd, host, port, dirs, req.timeout)\n  File \"/usr/lib/python3.7/urllib/request.py\", line 1588, in connect_ftp\n    persistent=False)\n  File \"/usr/lib/python3.7/urllib/request.py\", line 2408, in __init__\n    self.init()\n  File \"/usr/lib/python3.7/urllib/request.py\", line 2417, in init\n    self.ftp.connect(self.host, self.port, self.timeout)\n  File \"/usr/lib/python3.7/ftplib.py\", line 152, in connect\n    source_address=self.source_address)\n  File \"/usr/lib/python3.7/socket.py\", line 728, in create_connection\n    raise err\n  File \"/usr/lib/python3.7/socket.py\", line 716, in create_connection\n    sock.connect(sa)\nurllib.error.URLError: <urlopen error ftp error: TimeoutError(110, 'Connection timed out')>\n\"\"\"",
            "\nThe above exception was the direct cause of the following exception:\n",
            "\u001b[0;31mURLError\u001b[0m                                  Traceback (most recent call last)",
            "\u001b[0;32m<ipython-input-6-447f7f5477e1>\u001b[0m in \u001b[0;36m<module>\u001b[0;34m()\u001b[0m\n\u001b[0;32m----> 1\u001b[0;31m \u001b[0mdownload_dbc\u001b[0m\u001b[0;34m(\u001b[0m\u001b[0mdbc_path\u001b[0m\u001b[0;34m,\u001b[0m \u001b[0mn_jobs\u001b[0m\u001b[0;34m=\u001b[0m\u001b[0;36m10\u001b[0m\u001b[0;34m,\u001b[0m \u001b[0myears\u001b[0m\u001b[0;34m=\u001b[0m\u001b[0;34m[\u001b[0m\u001b[0;36m2019\u001b[0m\u001b[0;34m]\u001b[0m\u001b[0;34m)\u001b[0m\u001b[0;34m\u001b[0m\u001b[0;34m\u001b[0m\u001b[0m\n\u001b[0m",
            "\u001b[0;32m/usr/local/lib/python3.7/dist-packages/ds4h/data/download_sinasc.py\u001b[0m in \u001b[0;36mdownload_dbc\u001b[0;34m(save_path, years, n_jobs)\u001b[0m\n\u001b[1;32m     31\u001b[0m     \u001b[0mstart\u001b[0m \u001b[0;34m=\u001b[0m \u001b[0mtime\u001b[0m\u001b[0;34m(\u001b[0m\u001b[0;34m)\u001b[0m\u001b[0;34m\u001b[0m\u001b[0;34m\u001b[0m\u001b[0m\n\u001b[1;32m     32\u001b[0m     \u001b[0;32mwith\u001b[0m \u001b[0mmp\u001b[0m\u001b[0;34m.\u001b[0m\u001b[0mPool\u001b[0m\u001b[0;34m(\u001b[0m\u001b[0mn_jobs\u001b[0m\u001b[0;34m)\u001b[0m \u001b[0;32mas\u001b[0m \u001b[0mpool\u001b[0m\u001b[0;34m:\u001b[0m\u001b[0;34m\u001b[0m\u001b[0;34m\u001b[0m\u001b[0m\n\u001b[0;32m---> 33\u001b[0;31m         \u001b[0mpool\u001b[0m\u001b[0;34m.\u001b[0m\u001b[0mstarmap\u001b[0m\u001b[0;34m(\u001b[0m\u001b[0mdownload_ftp\u001b[0m\u001b[0;34m,\u001b[0m \u001b[0margs\u001b[0m\u001b[0;34m)\u001b[0m\u001b[0;34m\u001b[0m\u001b[0;34m\u001b[0m\u001b[0m\n\u001b[0m\u001b[1;32m     34\u001b[0m     print(\n\u001b[1;32m     35\u001b[0m         \u001b[0;34m\"Download completed in {:.1f}s\"\u001b[0m\u001b[0;34m.\u001b[0m\u001b[0mformat\u001b[0m\u001b[0;34m(\u001b[0m\u001b[0mtime\u001b[0m\u001b[0;34m(\u001b[0m\u001b[0;34m)\u001b[0m \u001b[0;34m-\u001b[0m \u001b[0mstart\u001b[0m\u001b[0;34m)\u001b[0m\u001b[0;34m\u001b[0m\u001b[0;34m\u001b[0m\u001b[0m\n",
            "\u001b[0;32m/usr/lib/python3.7/multiprocessing/pool.py\u001b[0m in \u001b[0;36mstarmap\u001b[0;34m(self, func, iterable, chunksize)\u001b[0m\n\u001b[1;32m    274\u001b[0m         \u001b[0;31m`\u001b[0m\u001b[0mfunc\u001b[0m\u001b[0;31m`\u001b[0m \u001b[0;32mand\u001b[0m \u001b[0;34m(\u001b[0m\u001b[0ma\u001b[0m\u001b[0;34m,\u001b[0m \u001b[0mb\u001b[0m\u001b[0;34m)\u001b[0m \u001b[0mbecomes\u001b[0m \u001b[0mfunc\u001b[0m\u001b[0;34m(\u001b[0m\u001b[0ma\u001b[0m\u001b[0;34m,\u001b[0m \u001b[0mb\u001b[0m\u001b[0;34m)\u001b[0m\u001b[0;34m.\u001b[0m\u001b[0;34m\u001b[0m\u001b[0;34m\u001b[0m\u001b[0m\n\u001b[1;32m    275\u001b[0m         '''\n\u001b[0;32m--> 276\u001b[0;31m         \u001b[0;32mreturn\u001b[0m \u001b[0mself\u001b[0m\u001b[0;34m.\u001b[0m\u001b[0m_map_async\u001b[0m\u001b[0;34m(\u001b[0m\u001b[0mfunc\u001b[0m\u001b[0;34m,\u001b[0m \u001b[0miterable\u001b[0m\u001b[0;34m,\u001b[0m \u001b[0mstarmapstar\u001b[0m\u001b[0;34m,\u001b[0m \u001b[0mchunksize\u001b[0m\u001b[0;34m)\u001b[0m\u001b[0;34m.\u001b[0m\u001b[0mget\u001b[0m\u001b[0;34m(\u001b[0m\u001b[0;34m)\u001b[0m\u001b[0;34m\u001b[0m\u001b[0;34m\u001b[0m\u001b[0m\n\u001b[0m\u001b[1;32m    277\u001b[0m \u001b[0;34m\u001b[0m\u001b[0m\n\u001b[1;32m    278\u001b[0m     def starmap_async(self, func, iterable, chunksize=None, callback=None,\n",
            "\u001b[0;32m/usr/lib/python3.7/multiprocessing/pool.py\u001b[0m in \u001b[0;36mget\u001b[0;34m(self, timeout)\u001b[0m\n\u001b[1;32m    655\u001b[0m             \u001b[0;32mreturn\u001b[0m \u001b[0mself\u001b[0m\u001b[0;34m.\u001b[0m\u001b[0m_value\u001b[0m\u001b[0;34m\u001b[0m\u001b[0;34m\u001b[0m\u001b[0m\n\u001b[1;32m    656\u001b[0m         \u001b[0;32melse\u001b[0m\u001b[0;34m:\u001b[0m\u001b[0;34m\u001b[0m\u001b[0;34m\u001b[0m\u001b[0m\n\u001b[0;32m--> 657\u001b[0;31m             \u001b[0;32mraise\u001b[0m \u001b[0mself\u001b[0m\u001b[0;34m.\u001b[0m\u001b[0m_value\u001b[0m\u001b[0;34m\u001b[0m\u001b[0;34m\u001b[0m\u001b[0m\n\u001b[0m\u001b[1;32m    658\u001b[0m \u001b[0;34m\u001b[0m\u001b[0m\n\u001b[1;32m    659\u001b[0m     \u001b[0;32mdef\u001b[0m \u001b[0m_set\u001b[0m\u001b[0;34m(\u001b[0m\u001b[0mself\u001b[0m\u001b[0;34m,\u001b[0m \u001b[0mi\u001b[0m\u001b[0;34m,\u001b[0m \u001b[0mobj\u001b[0m\u001b[0;34m)\u001b[0m\u001b[0;34m:\u001b[0m\u001b[0;34m\u001b[0m\u001b[0;34m\u001b[0m\u001b[0m\n",
            "\u001b[0;31mURLError\u001b[0m: <urlopen error ftp error: TimeoutError(110, 'Connection timed out')>"
          ]
        }
      ]
    },
    {
      "cell_type": "code",
      "metadata": {
        "id": "MJ1YdoCWLU5q"
      },
      "source": [
        "csv_path = dataset_root / \"csv\"\n",
        "dbc_to_csv(dbc_path, csv_path);"
      ],
      "execution_count": null,
      "outputs": []
    },
    {
      "cell_type": "code",
      "metadata": {
        "id": "KxGGwjj3Q7pl"
      },
      "source": [
        "dbf_folder = dataset_root / \"dbf\"\n",
        "dbf_folder.mkdir(exist_ok=True)\n",
        "\n",
        "download_dbf_2020(dbf_folder)\n",
        "\n",
        "dbf_filepath = list(dbf_folder.glob(\"*.DBF\"))[0]\n",
        "dbf_to_csv(dbf_filepath, csv_path)"
      ],
      "execution_count": null,
      "outputs": []
    },
    {
      "cell_type": "code",
      "metadata": {
        "id": "Rxd-4Kf7Q7pl"
      },
      "source": [
        "union_df = join_sinasc_files(csv_path)\n",
        "union_df"
      ],
      "execution_count": null,
      "outputs": []
    },
    {
      "cell_type": "code",
      "metadata": {
        "id": "PCN1HbFfQ7pl"
      },
      "source": [
        "df = get_ranking_dataframe()\n",
        "cities_dict = get_top_cities_from_df(df)\n",
        "print(cities_dict)"
      ],
      "execution_count": null,
      "outputs": []
    },
    {
      "cell_type": "code",
      "metadata": {
        "id": "CHqPhqBUQ7pm"
      },
      "source": [
        "df = process_sinasc(union_df)"
      ],
      "execution_count": null,
      "outputs": []
    },
    {
      "cell_type": "code",
      "metadata": {
        "id": "B_HXaKQ2TZnN"
      },
      "source": [
        "import numpy as np\n",
        "def null_proportion(df):\n",
        "  def null_prop(series):\n",
        "    mp = np.isnan(series.values).mean()\n",
        "    return \"{:.1f}%\".format(mp * 100)\n",
        "  return df.apply(null_prop, axis=0)\n",
        "\n",
        "null_proportion(union_df)"
      ],
      "execution_count": null,
      "outputs": []
    },
    {
      "cell_type": "code",
      "metadata": {
        "id": "2BoGXpG8g6VC"
      },
      "source": [
        "union_df.head()"
      ],
      "execution_count": null,
      "outputs": []
    },
    {
      "cell_type": "code",
      "metadata": {
        "id": "lteVcBSHdlXT"
      },
      "source": [
        "raw_df = union_df"
      ],
      "execution_count": null,
      "outputs": []
    },
    {
      "cell_type": "code",
      "metadata": {
        "id": "VIz-z1lHq6u2"
      },
      "source": [
        "df[\"YEAR\"] = df.DTNASC.dt.year\n",
        "df[\"MONTH\"] = df.DTNASC.dt.month\n",
        "df[\"DAY\"] = df.DTNASC.dt.day\n",
        "df"
      ],
      "execution_count": null,
      "outputs": []
    },
    {
      "cell_type": "code",
      "metadata": {
        "id": "KwA4kTu9Dfrs"
      },
      "source": [
        "a,b = \"YEAR\", \"MUNNAME\"\n",
        "pc = (100 * df.groupby([a, b]).size() / df.groupby([a]).size()).reset_index().rename({0:'percent'}, axis=1)\n",
        "# df.groupby([\"MUNNAME\", \"ESCMAE\"]).size() / df.groupby([\"MUNNAME\"]).size()\n",
        "sns.barplot(data=pc, x=a, hue=b, y=\"percent\")"
      ],
      "execution_count": null,
      "outputs": []
    },
    {
      "cell_type": "code",
      "metadata": {
        "id": "zhJn0EBnrN5f"
      },
      "source": [
        "import seaborn as sns\n",
        "import matplotlib.pyplot as plt\n",
        "\n",
        "def pct_plot(df, x_col, group_col, percentage=True, y_logscale=False):\n",
        "  plt.figure(figsize=(14, 5))\n",
        "  ax = plt.gca()\n",
        "  ax.grid()\n",
        "  if percentage:\n",
        "    pct2 = (100 * df.groupby([x_col, group_col]).size() / df.groupby([x_col]).size()).reset_index().rename({0:'percent'}, axis=1)    \n",
        "    plot = sns.barplot(x=x_col, hue=group_col, y='percent', data=pct2, ax=ax)\n",
        "    ticks = ax.get_yticks()\n",
        "    if y_logscale:\n",
        "      ax.set_yscale(\"log\")\n",
        "    ax.set_yticklabels([f\"{x}%\" for x in ticks])\n",
        "  else:\n",
        "    plot = sns.countplot(data=df, x=x_col, hue=group_col, ax=ax)\n",
        "    if y_logscale:\n",
        "      ax.set_yscale(\"log\")\n",
        "\n",
        "  ax.legend(bbox_to_anchor=(1.0, 1), loc='upper left')\n",
        "  ax.set_xticklabels(ax.get_xticklabels(), rotation = 45)\n",
        "\n",
        "\n",
        "  plt.show()\n",
        "  plt.close()"
      ],
      "execution_count": null,
      "outputs": []
    },
    {
      "cell_type": "code",
      "metadata": {
        "id": "b7gE-Xxw88QM"
      },
      "source": [
        "sns.countplot(data=df, x=\"YEAR\")"
      ],
      "execution_count": null,
      "outputs": []
    },
    {
      "cell_type": "code",
      "metadata": {
        "id": "jVE82221B2rh"
      },
      "source": [
        "pct_plot(df, \"MUNNAME\", \"ESCMAE\", percentage=True)"
      ],
      "execution_count": null,
      "outputs": []
    },
    {
      "cell_type": "code",
      "metadata": {
        "id": "wgTJV_QfBHge"
      },
      "source": [
        "pct_plot(df, \"MUNNAME\", \"RACACOR\", percentage=True)"
      ],
      "execution_count": null,
      "outputs": []
    },
    {
      "cell_type": "code",
      "metadata": {
        "id": "zm7eNGKFA1iO"
      },
      "source": [
        "pct_plot(df, \"YEAR\", \"MUNNAME\", percentage=True, y_logscale=True)"
      ],
      "execution_count": null,
      "outputs": []
    },
    {
      "cell_type": "code",
      "metadata": {
        "id": "GClCw_CS7Qts"
      },
      "source": [
        "pct_plot(df, \"YEAR\", \"RACACOR\", percentage=True)"
      ],
      "execution_count": null,
      "outputs": []
    },
    {
      "cell_type": "code",
      "metadata": {
        "id": "Q6kavVM9u2q2"
      },
      "source": [
        "pct_plot(df, \"YEAR\", \"ESTCIVMAE\", percentage=True)"
      ],
      "execution_count": null,
      "outputs": []
    },
    {
      "cell_type": "code",
      "metadata": {
        "id": "WfvGe2fTxvzF"
      },
      "source": [
        "pct_plot(df, \"YEAR\", \"ESCMAE\", percentage=True)"
      ],
      "execution_count": null,
      "outputs": []
    },
    {
      "cell_type": "code",
      "metadata": {
        "id": "iQyrv7206fae"
      },
      "source": [
        "pct_plot(df, \"YEAR\", \"PARTO\", percentage=True)"
      ],
      "execution_count": null,
      "outputs": []
    },
    {
      "cell_type": "code",
      "metadata": {
        "id": "xXHg87T-AYW1"
      },
      "source": [
        "pct_plot(df, \"YEAR\", \"ESTCIVMAE\", percentage=True)"
      ],
      "execution_count": null,
      "outputs": []
    },
    {
      "cell_type": "code",
      "metadata": {
        "id": "MzSBlRd2KDiE"
      },
      "source": [
        "pct_plot(df, \"MONTH\", \"YEAR\", percentage=False)"
      ],
      "execution_count": null,
      "outputs": []
    },
    {
      "cell_type": "markdown",
      "metadata": {
        "id": "la8yHOlpIyLK"
      },
      "source": [
        "# 2020"
      ]
    },
    {
      "cell_type": "code",
      "metadata": {
        "id": "4QsNtCDSJFkq"
      },
      "source": [
        "df2020 = df[df.YEAR == 2020]"
      ],
      "execution_count": null,
      "outputs": []
    },
    {
      "cell_type": "code",
      "metadata": {
        "id": "RRq5tl9BIvrH"
      },
      "source": [
        "pct_plot(df2020, \"MONTH\", \"PARTO\", percentage=True)"
      ],
      "execution_count": null,
      "outputs": []
    },
    {
      "cell_type": "code",
      "metadata": {
        "id": "dxWJySlaJP3C"
      },
      "source": [
        "pct_plot(df2020, \"MONTH\", \"RACACOR\", percentage=False)"
      ],
      "execution_count": null,
      "outputs": []
    },
    {
      "cell_type": "code",
      "metadata": {
        "id": "6Mm74UttJi_f"
      },
      "source": [
        "pct_plot(df2020, \"MONTH\", \"ESCMAE\", percentage=False)"
      ],
      "execution_count": null,
      "outputs": []
    },
    {
      "cell_type": "code",
      "metadata": {
        "id": "zxv-6gouyDCm"
      },
      "source": [
        "import statsmodels.formula.api as smf\n",
        "import statsmodels.stats.multicomp as multi\n",
        "from statsmodels.formula.api import ols"
      ],
      "execution_count": null,
      "outputs": []
    },
    {
      "cell_type": "code",
      "metadata": {
        "id": "bDVyzeYWn05S"
      },
      "source": [
        "pearson_pairs = [\n",
        "  [\"IDADEMAE\"]\n",
        "]\n",
        "spearman_pairs = [\n",
        "  [\"IDADEMAE\", \"ESCMAE\"],\n",
        "  [\"IDADEMAE\", \"QTDFILVIVO\"],\n",
        "  [\"IDADEMAE\", \"QTDFILMORTO\"],\n",
        "  [\"IDADEMAE\", \"GESTACAO\"],\n",
        "]\n",
        "cat_num_pairs = [\n",
        "  \"DTNASC\"\n",
        "]\n",
        "cat_pairs = [\n",
        "  [\"PARTO\", \"YEAR\"],\n",
        "  [\"PARTO\", \"YEAR\"],\n",
        "  [\"PARTO\", \"YEAR\"],\n",
        "  \n",
        "]\n",
        "raw_df.corr().loc[\n",
        "  [\"DTNASC\", \"IDADEMAE\"]\n",
        "]"
      ],
      "execution_count": null,
      "outputs": []
    },
    {
      "cell_type": "code",
      "metadata": {
        "id": "jl8ZwhkUn6ri"
      },
      "source": [
        "union_df.groupby([\"DTNASC.dt.year\"]).count()[\"DTNASC\"]\n"
      ],
      "execution_count": null,
      "outputs": []
    },
    {
      "cell_type": "code",
      "metadata": {
        "id": "S-VI6bzcpWCz"
      },
      "source": [
        ""
      ],
      "execution_count": null,
      "outputs": []
    }
  ]
}