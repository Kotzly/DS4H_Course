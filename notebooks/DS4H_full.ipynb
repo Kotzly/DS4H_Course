{
 "cells": [
  {
   "cell_type": "code",
   "execution_count": 1,
   "metadata": {
    "colab": {
     "base_uri": "https://localhost:8080/",
     "height": 690
    },
    "id": "aaJYBP6O9EGh",
    "outputId": "aed1c118-6d8a-4635-f17c-cd9564596c6f"
   },
   "outputs": [],
   "source": [
    "# !git clone https://github.com/Kotzly/DS4H_Course.git\n",
    "# !pip install ./DS4H_Course"
   ]
  },
  {
   "cell_type": "code",
   "execution_count": 2,
   "metadata": {
    "colab": {
     "base_uri": "https://localhost:8080/",
     "height": 454
    },
    "id": "Ykd9xywa-Zqk",
    "outputId": "8e690c3c-e47c-481e-a10e-43a1b35cac51"
   },
   "outputs": [
    {
     "name": "stdout",
     "output_type": "stream",
     "text": [
      "PyTables is not installed. No support for HDF output.\n",
      "SQLalchemy is not installed. No support for SQL output.\n"
     ]
    }
   ],
   "source": [
    "import ds4h\n",
    "from ds4h.data.download_sinasc import download_dbc, download_dbf_2020\n",
    "from ds4h.processing.dbc import dbc_to_csv, dbf_to_csv\n",
    "from ds4h.processing.csv import join_sinasc_files\n",
    "from ds4h.processing.sinasc import process_sinasc\n",
    "\n",
    "from pathlib import Path\n",
    "from ds4h.data.city_ranking import get_ranking_dataframe, get_top_cities_from_df"
   ]
  },
  {
   "cell_type": "code",
   "execution_count": 3,
   "metadata": {},
   "outputs": [],
   "source": [
    "dataset_root = Path(\"/home/paulo/Documents/datasets/sinasc\")"
   ]
  },
  {
   "cell_type": "code",
   "execution_count": 4,
   "metadata": {
    "colab": {
     "base_uri": "https://localhost:8080/",
     "height": 279
    },
    "id": "947gyIjgLZQ8",
    "outputId": "c4a9553d-c399-4427-ae86-605cae090be7"
   },
   "outputs": [],
   "source": [
    "dbc_path = dataset_root / \"dbc\"\n",
    "\n",
    "dbc_path.mkdir(exist_ok=True, parents=True)"
   ]
  },
  {
   "cell_type": "code",
   "execution_count": 5,
   "metadata": {},
   "outputs": [
    {
     "name": "stdout",
     "output_type": "stream",
     "text": [
      "Downloading data from 10 years using 4 threadsDownload completed in 118.3s\n"
     ]
    }
   ],
   "source": [
    "download_dbc(dbc_path)"
   ]
  },
  {
   "cell_type": "code",
   "execution_count": 6,
   "metadata": {
    "id": "MJ1YdoCWLU5q"
   },
   "outputs": [
    {
     "name": "stdout",
     "output_type": "stream",
     "text": [
      "gcc -std=gnu99 -I\"/usr/share/R/include\" -DNDEBUG     -fpic  -g -O2 -fdebug-prefix-map=/build/r-base-jbaK_j/r-base-3.6.3=. -fstack-protector-strong -Wformat -Werror=format-security -Wdate-time -D_FORTIFY_SOURCE=2 -g  -c blast.c -o blast.o\n",
      "gcc -std=gnu99 -I\"/usr/share/R/include\" -DNDEBUG     -fpic  -g -O2 -fdebug-prefix-map=/build/r-base-jbaK_j/r-base-3.6.3=. -fstack-protector-strong -Wformat -Werror=format-security -Wdate-time -D_FORTIFY_SOURCE=2 -g  -c dbc2dbf.c -o dbc2dbf.o\n",
      "gcc -std=gnu99 -shared -L/usr/lib/R/lib -Wl,-Bsymbolic-functions -Wl,-z,relro -o read.dbc.so blast.o dbc2dbf.o -L/usr/lib/R/lib -lR\n",
      "[1] \"/home/paulo/Documents/datasets/sinasc/dbc//DNSP2010.dbc\"\n",
      "[1] \"/home/paulo/Documents/datasets/sinasc/dbc//DNSP2011.dbc\"\n",
      "[1] \"/home/paulo/Documents/datasets/sinasc/dbc//DNSP2012.dbc\"\n",
      "[1] \"/home/paulo/Documents/datasets/sinasc/dbc//DNSP2013.dbc\"\n",
      "[1] \"/home/paulo/Documents/datasets/sinasc/dbc//DNSP2014.dbc\"\n",
      "[1] \"/home/paulo/Documents/datasets/sinasc/dbc//DNSP2015.dbc\"\n",
      "[1] \"/home/paulo/Documents/datasets/sinasc/dbc//DNSP2016.dbc\"\n",
      "[1] \"/home/paulo/Documents/datasets/sinasc/dbc//DNSP2017.dbc\"\n",
      "[1] \"/home/paulo/Documents/datasets/sinasc/dbc//DNSP2018.dbc\"\n",
      "[1] \"/home/paulo/Documents/datasets/sinasc/dbc//DNSP2019.dbc\"\n",
      "\n",
      "trying URL 'https://cloud.r-project.org/src/contrib/read.dbc_1.0.5.tar.gz'\n",
      "Content type 'application/x-gzip' length 20988 bytes (20 KB)\n",
      "==================================================\n",
      "downloaded 20 KB\n",
      "\n",
      "* installing *source* package ‘read.dbc’ ...\n",
      "** package ‘read.dbc’ successfully unpacked and MD5 sums checked\n",
      "** using staged installation\n",
      "** libs\n",
      "installing to /home/paulo/Documents/GIT/DS4H_Course/notebooks/.Rlocal/00LOCK-read.dbc/00new/read.dbc/libs\n",
      "** R\n",
      "** inst\n",
      "** byte-compile and prepare package for lazy loading\n",
      "** help\n",
      "*** installing help indices\n",
      "** building package indices\n",
      "** testing if installed package can be loaded from temporary location\n",
      "** checking absolute paths in shared objects and dynamic libraries\n",
      "** testing if installed package can be loaded from final location\n",
      "** testing if installed package keeps a record of temporary installation path\n",
      "* DONE (read.dbc)\n",
      "\n",
      "The downloaded source packages are in\n",
      "\t‘/tmp/RtmpXZ6GyJ/downloaded_packages’\n",
      "\n"
     ]
    }
   ],
   "source": [
    "csv_path = dataset_root / \"csv\"\n",
    "dbc_to_csv(dbc_path, csv_path);"
   ]
  },
  {
   "cell_type": "code",
   "execution_count": 7,
   "metadata": {},
   "outputs": [],
   "source": [
    "dbf_folder = dataset_root / \"dbf\"\n",
    "dbf_folder.mkdir(exist_ok=True)\n",
    "\n",
    "download_dbf_2020(dbf_folder)\n",
    "\n",
    "dbf_filepath = list(dbf_folder.glob(\"*.DBF\"))[0]\n",
    "dbf_to_csv(dbf_filepath, csv_path)"
   ]
  },
  {
   "cell_type": "code",
   "execution_count": null,
   "metadata": {},
   "outputs": [
    {
     "name": "stdout",
     "output_type": "stream",
     "text": [
      "Loading DNBR20DA.csv\n"
     ]
    },
    {
     "name": "stderr",
     "output_type": "stream",
     "text": [
      "/home/paulo/anaconda3/envs/ds4h/lib/python3.6/site-packages/IPython/core/interactiveshell.py:3263: DtypeWarning: Columns (3,5,6,7,9,13,14,15,16,18,21,22,23) have mixed types.Specify dtype option on import or set low_memory=False.\n",
      "  if (await self.run_code(code, result,  async_=asy)):\n"
     ]
    }
   ],
   "source": [
    "union_df = join_sinasc_files(csv_path)\n",
    "union_df"
   ]
  },
  {
   "cell_type": "code",
   "execution_count": null,
   "metadata": {},
   "outputs": [],
   "source": [
    "df = get_ranking_dataframe()\n",
    "cities_dict = get_top_cities_from_df(df)\n",
    "print(cities_dict)"
   ]
  },
  {
   "cell_type": "code",
   "execution_count": null,
   "metadata": {},
   "outputs": [],
   "source": [
    "df = process_sinasc(union_df)"
   ]
  },
  {
   "cell_type": "code",
   "execution_count": null,
   "metadata": {},
   "outputs": [],
   "source": []
  }
 ],
 "metadata": {
  "colab": {
   "name": "DS4H_full",
   "provenance": []
  },
  "kernelspec": {
   "display_name": "Python 3",
   "language": "python",
   "name": "python3"
  },
  "language_info": {
   "codemirror_mode": {
    "name": "ipython",
    "version": 3
   },
   "file_extension": ".py",
   "mimetype": "text/x-python",
   "name": "python",
   "nbconvert_exporter": "python",
   "pygments_lexer": "ipython3",
   "version": "3.6.13"
  }
 },
 "nbformat": 4,
 "nbformat_minor": 1
}
