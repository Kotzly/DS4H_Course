{
  "nbformat": 4,
  "nbformat_minor": 0,
  "metadata": {
    "colab": {
      "name": "DS4H_full",
      "provenance": [],
      "include_colab_link": true
    },
    "kernelspec": {
      "display_name": "Python 3",
      "language": "python",
      "name": "python3"
    },
    "language_info": {
      "codemirror_mode": {
        "name": "ipython",
        "version": 3
      },
      "file_extension": ".py",
      "mimetype": "text/x-python",
      "name": "python",
      "nbconvert_exporter": "python",
      "pygments_lexer": "ipython3",
      "version": "3.6.13"
    }
  },
  "cells": [
    {
      "cell_type": "markdown",
      "metadata": {
        "id": "view-in-github",
        "colab_type": "text"
      },
      "source": [
        "<a href=\"https://colab.research.google.com/github/Kotzly/DS4H_Course/blob/entrega_final/notebooks/DS4H_full.ipynb\" target=\"_parent\"><img src=\"https://colab.research.google.com/assets/colab-badge.svg\" alt=\"Open In Colab\"/></a>"
      ]
    },
    {
      "cell_type": "markdown",
      "metadata": {
        "id": "tWCJpfcjNt97"
      },
      "source": [
        "\n",
        "#**Entrega 2**#\n",
        "\n",
        "## **Alunos**\n",
        "\n",
        "**Silvia Arantes Pereira Olivio, RA: 224932**<p>\n",
        "**Paulo Augusto Alves Luz Viana, RA: 263889**<p>\n",
        "**Débora Rocha Helfstein, RA: 234934**<p>\n",
        "**Charles M'poca Charles, RA: 163383** "
      ]
    },
    {
      "cell_type": "markdown",
      "metadata": {
        "id": "A3MtZFf5jCk7"
      },
      "source": [
        "# Configuração do ambiente\n",
        "\n",
        " - Instalação do pacote `ds4h`, que contém as dependências e funções do projeto"
      ]
    },
    {
      "cell_type": "code",
      "metadata": {
        "colab": {
          "base_uri": "https://localhost:8080/",
          "height": 1000
        },
        "id": "aaJYBP6O9EGh",
        "outputId": "9b6525f7-8dc7-41f6-cf29-998532d8f235"
      },
      "source": [
        "!git clone https://github.com/Kotzly/DS4H_Course.git -b entrega_final\n",
        "!pip install ./DS4H_Course/src"
      ],
      "execution_count": 1,
      "outputs": [
        {
          "output_type": "stream",
          "text": [
            "Cloning into 'DS4H_Course'...\n",
            "remote: Enumerating objects: 580, done.\u001b[K\n",
            "remote: Counting objects: 100% (39/39), done.\u001b[K\n",
            "remote: Compressing objects: 100% (39/39), done.\u001b[K\n",
            "remote: Total 580 (delta 22), reused 2 (delta 0), pack-reused 541\u001b[K\n",
            "Receiving objects: 100% (580/580), 4.01 MiB | 13.04 MiB/s, done.\n",
            "Resolving deltas: 100% (358/358), done.\n",
            "Processing ./DS4H_Course/src\n",
            "Collecting zipfile38==0.0.3\n",
            "  Downloading https://files.pythonhosted.org/packages/a9/f0/719ee5a005ccdf17a49eea4890a0623fa693bce041af54c7f43320aaedab/zipfile38-0.0.3.tar.gz\n",
            "Collecting pandas==1.1.3\n",
            "\u001b[?25l  Downloading https://files.pythonhosted.org/packages/25/47/22fc373440e144e2111363adaa07abb09ec1f03fbc071b6d9fc0bbf65f68/pandas-1.1.3-cp37-cp37m-manylinux1_x86_64.whl (9.5MB)\n",
            "\u001b[K     |████████████████████████████████| 9.5MB 5.9MB/s \n",
            "\u001b[?25hCollecting numpy==1.19.2\n",
            "\u001b[?25l  Downloading https://files.pythonhosted.org/packages/9b/04/c3846024ddc7514cde17087f62f0502abf85c53e8f69f6312c70db6d144e/numpy-1.19.2-cp37-cp37m-manylinux2010_x86_64.whl (14.5MB)\n",
            "\u001b[K     |████████████████████████████████| 14.5MB 206kB/s \n",
            "\u001b[?25hRequirement already satisfied: seaborn in /usr/local/lib/python3.7/dist-packages (from ds4h==1.0) (0.11.1)\n",
            "Requirement already satisfied: matplotlib in /usr/local/lib/python3.7/dist-packages (from ds4h==1.0) (3.2.2)\n",
            "Collecting simpledbf==0.2.6\n",
            "  Downloading https://files.pythonhosted.org/packages/8a/d3/e4c25cd8f739dd7ddd19c255cd5552e08cdd439ac51a36ae12640ce8a748/simpledbf-0.2.6.tar.gz\n",
            "Requirement already satisfied: jupyter in /usr/local/lib/python3.7/dist-packages (from ds4h==1.0) (1.0.0)\n",
            "Requirement already satisfied: python-dateutil>=2.7.3 in /usr/local/lib/python3.7/dist-packages (from pandas==1.1.3->ds4h==1.0) (2.8.1)\n",
            "Requirement already satisfied: pytz>=2017.2 in /usr/local/lib/python3.7/dist-packages (from pandas==1.1.3->ds4h==1.0) (2018.9)\n",
            "Requirement already satisfied: scipy>=1.0 in /usr/local/lib/python3.7/dist-packages (from seaborn->ds4h==1.0) (1.4.1)\n",
            "Requirement already satisfied: pyparsing!=2.0.4,!=2.1.2,!=2.1.6,>=2.0.1 in /usr/local/lib/python3.7/dist-packages (from matplotlib->ds4h==1.0) (2.4.7)\n",
            "Requirement already satisfied: kiwisolver>=1.0.1 in /usr/local/lib/python3.7/dist-packages (from matplotlib->ds4h==1.0) (1.3.1)\n",
            "Requirement already satisfied: cycler>=0.10 in /usr/local/lib/python3.7/dist-packages (from matplotlib->ds4h==1.0) (0.10.0)\n",
            "Requirement already satisfied: ipywidgets in /usr/local/lib/python3.7/dist-packages (from jupyter->ds4h==1.0) (7.6.3)\n",
            "Requirement already satisfied: qtconsole in /usr/local/lib/python3.7/dist-packages (from jupyter->ds4h==1.0) (5.1.0)\n",
            "Requirement already satisfied: nbconvert in /usr/local/lib/python3.7/dist-packages (from jupyter->ds4h==1.0) (5.6.1)\n",
            "Requirement already satisfied: jupyter-console in /usr/local/lib/python3.7/dist-packages (from jupyter->ds4h==1.0) (5.2.0)\n",
            "Requirement already satisfied: ipykernel in /usr/local/lib/python3.7/dist-packages (from jupyter->ds4h==1.0) (4.10.1)\n",
            "Requirement already satisfied: notebook in /usr/local/lib/python3.7/dist-packages (from jupyter->ds4h==1.0) (5.3.1)\n",
            "Requirement already satisfied: six>=1.5 in /usr/local/lib/python3.7/dist-packages (from python-dateutil>=2.7.3->pandas==1.1.3->ds4h==1.0) (1.15.0)\n",
            "Requirement already satisfied: nbformat>=4.2.0 in /usr/local/lib/python3.7/dist-packages (from ipywidgets->jupyter->ds4h==1.0) (5.1.3)\n",
            "Requirement already satisfied: jupyterlab-widgets>=1.0.0; python_version >= \"3.6\" in /usr/local/lib/python3.7/dist-packages (from ipywidgets->jupyter->ds4h==1.0) (1.0.0)\n",
            "Requirement already satisfied: widgetsnbextension~=3.5.0 in /usr/local/lib/python3.7/dist-packages (from ipywidgets->jupyter->ds4h==1.0) (3.5.1)\n",
            "Requirement already satisfied: traitlets>=4.3.1 in /usr/local/lib/python3.7/dist-packages (from ipywidgets->jupyter->ds4h==1.0) (5.0.5)\n",
            "Requirement already satisfied: ipython>=4.0.0; python_version >= \"3.3\" in /usr/local/lib/python3.7/dist-packages (from ipywidgets->jupyter->ds4h==1.0) (5.5.0)\n",
            "Requirement already satisfied: jupyter-client>=4.1 in /usr/local/lib/python3.7/dist-packages (from qtconsole->jupyter->ds4h==1.0) (5.3.5)\n",
            "Requirement already satisfied: pygments in /usr/local/lib/python3.7/dist-packages (from qtconsole->jupyter->ds4h==1.0) (2.6.1)\n",
            "Requirement already satisfied: ipython-genutils in /usr/local/lib/python3.7/dist-packages (from qtconsole->jupyter->ds4h==1.0) (0.2.0)\n",
            "Requirement already satisfied: qtpy in /usr/local/lib/python3.7/dist-packages (from qtconsole->jupyter->ds4h==1.0) (1.9.0)\n",
            "Requirement already satisfied: pyzmq>=17.1 in /usr/local/lib/python3.7/dist-packages (from qtconsole->jupyter->ds4h==1.0) (22.1.0)\n",
            "Requirement already satisfied: jupyter-core in /usr/local/lib/python3.7/dist-packages (from qtconsole->jupyter->ds4h==1.0) (4.7.1)\n",
            "Requirement already satisfied: jinja2>=2.4 in /usr/local/lib/python3.7/dist-packages (from nbconvert->jupyter->ds4h==1.0) (2.11.3)\n",
            "Requirement already satisfied: testpath in /usr/local/lib/python3.7/dist-packages (from nbconvert->jupyter->ds4h==1.0) (0.5.0)\n",
            "Requirement already satisfied: mistune<2,>=0.8.1 in /usr/local/lib/python3.7/dist-packages (from nbconvert->jupyter->ds4h==1.0) (0.8.4)\n",
            "Requirement already satisfied: entrypoints>=0.2.2 in /usr/local/lib/python3.7/dist-packages (from nbconvert->jupyter->ds4h==1.0) (0.3)\n",
            "Requirement already satisfied: pandocfilters>=1.4.1 in /usr/local/lib/python3.7/dist-packages (from nbconvert->jupyter->ds4h==1.0) (1.4.3)\n",
            "Requirement already satisfied: bleach in /usr/local/lib/python3.7/dist-packages (from nbconvert->jupyter->ds4h==1.0) (3.3.0)\n",
            "Requirement already satisfied: defusedxml in /usr/local/lib/python3.7/dist-packages (from nbconvert->jupyter->ds4h==1.0) (0.7.1)\n",
            "Requirement already satisfied: prompt-toolkit<2.0.0,>=1.0.0 in /usr/local/lib/python3.7/dist-packages (from jupyter-console->jupyter->ds4h==1.0) (1.0.18)\n",
            "Requirement already satisfied: tornado>=4.0 in /usr/local/lib/python3.7/dist-packages (from ipykernel->jupyter->ds4h==1.0) (5.1.1)\n",
            "Requirement already satisfied: terminado>=0.8.1 in /usr/local/lib/python3.7/dist-packages (from notebook->jupyter->ds4h==1.0) (0.10.1)\n",
            "Requirement already satisfied: Send2Trash in /usr/local/lib/python3.7/dist-packages (from notebook->jupyter->ds4h==1.0) (1.5.0)\n",
            "Requirement already satisfied: jsonschema!=2.5.0,>=2.4 in /usr/local/lib/python3.7/dist-packages (from nbformat>=4.2.0->ipywidgets->jupyter->ds4h==1.0) (2.6.0)\n",
            "Requirement already satisfied: simplegeneric>0.8 in /usr/local/lib/python3.7/dist-packages (from ipython>=4.0.0; python_version >= \"3.3\"->ipywidgets->jupyter->ds4h==1.0) (0.8.1)\n",
            "Requirement already satisfied: decorator in /usr/local/lib/python3.7/dist-packages (from ipython>=4.0.0; python_version >= \"3.3\"->ipywidgets->jupyter->ds4h==1.0) (4.4.2)\n",
            "Requirement already satisfied: setuptools>=18.5 in /usr/local/lib/python3.7/dist-packages (from ipython>=4.0.0; python_version >= \"3.3\"->ipywidgets->jupyter->ds4h==1.0) (57.0.0)\n",
            "Requirement already satisfied: pickleshare in /usr/local/lib/python3.7/dist-packages (from ipython>=4.0.0; python_version >= \"3.3\"->ipywidgets->jupyter->ds4h==1.0) (0.7.5)\n",
            "Requirement already satisfied: pexpect; sys_platform != \"win32\" in /usr/local/lib/python3.7/dist-packages (from ipython>=4.0.0; python_version >= \"3.3\"->ipywidgets->jupyter->ds4h==1.0) (4.8.0)\n",
            "Requirement already satisfied: MarkupSafe>=0.23 in /usr/local/lib/python3.7/dist-packages (from jinja2>=2.4->nbconvert->jupyter->ds4h==1.0) (2.0.1)\n",
            "Requirement already satisfied: webencodings in /usr/local/lib/python3.7/dist-packages (from bleach->nbconvert->jupyter->ds4h==1.0) (0.5.1)\n",
            "Requirement already satisfied: packaging in /usr/local/lib/python3.7/dist-packages (from bleach->nbconvert->jupyter->ds4h==1.0) (20.9)\n",
            "Requirement already satisfied: wcwidth in /usr/local/lib/python3.7/dist-packages (from prompt-toolkit<2.0.0,>=1.0.0->jupyter-console->jupyter->ds4h==1.0) (0.2.5)\n",
            "Requirement already satisfied: ptyprocess; os_name != \"nt\" in /usr/local/lib/python3.7/dist-packages (from terminado>=0.8.1->notebook->jupyter->ds4h==1.0) (0.7.0)\n",
            "Building wheels for collected packages: ds4h, zipfile38, simpledbf\n",
            "  Building wheel for ds4h (setup.py) ... \u001b[?25l\u001b[?25hdone\n",
            "  Created wheel for ds4h: filename=ds4h-1.0-cp37-none-any.whl size=10488 sha256=83abe3d939bbc7742141608f98698b13e46af29933c524ff464afd98f8e6f822\n",
            "  Stored in directory: /tmp/pip-ephem-wheel-cache-9zpkmy9z/wheels/be/17/83/657eff07833ce82f22e68094086dc3e4c7931d4acea7f32a7e\n",
            "  Building wheel for zipfile38 (setup.py) ... \u001b[?25l\u001b[?25hdone\n",
            "  Created wheel for zipfile38: filename=zipfile38-0.0.3-cp37-none-any.whl size=22757 sha256=731609b7d71173cec285c9c337d11f4e8fbe4b41b40c28a61c04d59522d22b86\n",
            "  Stored in directory: /root/.cache/pip/wheels/15/7a/ec/508d28bf3894e050aef4d0205cdf27a346e6e0891e979345d4\n",
            "  Building wheel for simpledbf (setup.py) ... \u001b[?25l\u001b[?25hdone\n",
            "  Created wheel for simpledbf: filename=simpledbf-0.2.6-cp37-none-any.whl size=13804 sha256=f1ce4ffcec68db56cd2d2f18fde2af63f08c3f6b7ec8c069a21df82716f97a20\n",
            "  Stored in directory: /root/.cache/pip/wheels/72/dd/df/cdfb970a508ef9750ebb4b6e035a3410c3d62b5a6a91d2aafc\n",
            "Successfully built ds4h zipfile38 simpledbf\n",
            "\u001b[31mERROR: datascience 0.10.6 has requirement folium==0.2.1, but you'll have folium 0.8.3 which is incompatible.\u001b[0m\n",
            "\u001b[31mERROR: albumentations 0.1.12 has requirement imgaug<0.2.7,>=0.2.5, but you'll have imgaug 0.2.9 which is incompatible.\u001b[0m\n",
            "Installing collected packages: zipfile38, numpy, pandas, simpledbf, ds4h\n",
            "  Found existing installation: numpy 1.19.5\n",
            "    Uninstalling numpy-1.19.5:\n",
            "      Successfully uninstalled numpy-1.19.5\n",
            "  Found existing installation: pandas 1.1.5\n",
            "    Uninstalling pandas-1.1.5:\n",
            "      Successfully uninstalled pandas-1.1.5\n",
            "Successfully installed ds4h-1.0 numpy-1.19.2 pandas-1.1.3 simpledbf-0.2.6 zipfile38-0.0.3\n"
          ],
          "name": "stdout"
        },
        {
          "output_type": "display_data",
          "data": {
            "application/vnd.colab-display-data+json": {
              "pip_warning": {
                "packages": [
                  "numpy",
                  "pandas"
                ]
              }
            }
          },
          "metadata": {
            "tags": []
          }
        }
      ]
    },
    {
      "cell_type": "code",
      "metadata": {
        "id": "a_uNl0qnhpyG",
        "colab": {
          "base_uri": "https://localhost:8080/"
        },
        "outputId": "75bdcfe9-a4bc-45f8-fa94-78db5c6c7038"
      },
      "source": [
        "!cat DS4H_Course/src/requirements.txt"
      ],
      "execution_count": 2,
      "outputs": [
        {
          "output_type": "stream",
          "text": [
            "zipfile38==0.0.3\n",
            "pandas==1.1.3\n",
            "numpy==1.19.2\n",
            "seaborn\n",
            "matplotlib\n",
            "simpledbf==0.2.6\n",
            "jupyter\n"
          ],
          "name": "stdout"
        }
      ]
    },
    {
      "cell_type": "code",
      "metadata": {
        "id": "Ykd9xywa-Zqk"
      },
      "source": [
        "import ds4h\n",
        "from ds4h.data.download_sinasc import download_dbc, download_dbf_2020\n",
        "from ds4h.processing.dbc import dbc_to_csv, dbf_to_csv\n",
        "from ds4h.processing.csv import join_sinasc_files\n",
        "from ds4h.processing.sinasc import process_sinasc\n",
        "from ds4h.data.city_ranking import get_ranking_dataframe, get_top_cities_from_df\n",
        "from ds4h.processing.sinasc import code_to_str\n",
        "from ds4h.visualization.sinasc import pct_lineplot, pct_plot\n",
        "\n",
        "from pathlib import Path\n",
        "\n",
        "import seaborn as sns\n",
        "import matplotlib.pyplot as plt\n",
        "from ds4h.processing.sinasc import SINASC_TRANSLATE_DICT\n",
        "import pandas as pd\n"
      ],
      "execution_count": 3,
      "outputs": []
    },
    {
      "cell_type": "markdown",
      "metadata": {
        "id": "3Mo8gpwhklgd"
      },
      "source": [
        "Criação dos diretórios onde serão salvos os arquivos baixados e processados."
      ]
    },
    {
      "cell_type": "code",
      "metadata": {
        "id": "_jo232PqQ7pi"
      },
      "source": [
        "dataset_root = Path(\"/datasets/sinasc\")\n",
        "dbc_path = dataset_root / \"dbc\"\n",
        "csv_path = dataset_root / \"csv\"\n",
        "dbf_folder = dataset_root / \"dbf\"\n",
        "\n",
        "dbf_folder.mkdir(exist_ok=True, parents=True)\n",
        "csv_path.mkdir(exist_ok=True, parents=True)\n",
        "dbc_path.mkdir(exist_ok=True, parents=True)"
      ],
      "execution_count": 4,
      "outputs": []
    },
    {
      "cell_type": "markdown",
      "metadata": {
        "id": "zYR6l2DNlVBV"
      },
      "source": [
        "Download dos arquivos DBC, oriundos do DATASUS, dos anos de 2010 até 2019."
      ]
    },
    {
      "cell_type": "code",
      "metadata": {
        "id": "aU0Cbw2uQ7pj",
        "colab": {
          "base_uri": "https://localhost:8080/"
        },
        "outputId": "0016d68a-94bb-4a43-87bb-a393b7f06314"
      },
      "source": [
        "download_dbc(dbc_path, years=range(2005, 2019 + 1), n_jobs=8)"
      ],
      "execution_count": 5,
      "outputs": [
        {
          "output_type": "stream",
          "text": [
            "Downloading data from 15 years using 4 threadsDownload completed in 143.3s\n"
          ],
          "name": "stdout"
        }
      ]
    },
    {
      "cell_type": "markdown",
      "metadata": {
        "id": "0ihkB4gzlmBV"
      },
      "source": [
        "Utilização do script `dbc_to_csv.r` para transformação dos arquivos DBC para CSV. O script utiliza a função `read.dbc` para isso, disponível no CRAN."
      ]
    },
    {
      "cell_type": "code",
      "metadata": {
        "id": "MJ1YdoCWLU5q",
        "colab": {
          "base_uri": "https://localhost:8080/"
        },
        "outputId": "b8183b88-e496-4094-fdee-7b916ddb69b9"
      },
      "source": [
        "dbc_to_csv(dbc_path, csv_path);"
      ],
      "execution_count": 6,
      "outputs": [
        {
          "output_type": "stream",
          "text": [
            "gcc -std=gnu99 -I\"/usr/share/R/include\" -DNDEBUG      -fpic  -g -O2 -fdebug-prefix-map=/build/r-base-vB4ZXq/r-base-4.1.0=. -fstack-protector-strong -Wformat -Werror=format-security -Wdate-time -D_FORTIFY_SOURCE=2 -g  -c blast.c -o blast.o\n",
            "gcc -std=gnu99 -I\"/usr/share/R/include\" -DNDEBUG      -fpic  -g -O2 -fdebug-prefix-map=/build/r-base-vB4ZXq/r-base-4.1.0=. -fstack-protector-strong -Wformat -Werror=format-security -Wdate-time -D_FORTIFY_SOURCE=2 -g  -c dbc2dbf.c -o dbc2dbf.o\n",
            "gcc -std=gnu99 -shared -L/usr/lib/R/lib -Wl,-Bsymbolic-functions -Wl,-z,relro -o read.dbc.so blast.o dbc2dbf.o -L/usr/lib/R/lib -lR\n",
            "[1] \"/datasets/sinasc/dbc//DNSP2005.dbc\"\n",
            "[1] \"/datasets/sinasc/dbc//DNSP2006.dbc\"\n",
            "[1] \"/datasets/sinasc/dbc//DNSP2007.dbc\"\n",
            "[1] \"/datasets/sinasc/dbc//DNSP2008.dbc\"\n",
            "[1] \"/datasets/sinasc/dbc//DNSP2009.dbc\"\n",
            "[1] \"/datasets/sinasc/dbc//DNSP2010.dbc\"\n",
            "[1] \"/datasets/sinasc/dbc//DNSP2011.dbc\"\n",
            "[1] \"/datasets/sinasc/dbc//DNSP2012.dbc\"\n",
            "[1] \"/datasets/sinasc/dbc//DNSP2013.dbc\"\n",
            "[1] \"/datasets/sinasc/dbc//DNSP2014.dbc\"\n",
            "[1] \"/datasets/sinasc/dbc//DNSP2015.dbc\"\n",
            "[1] \"/datasets/sinasc/dbc//DNSP2016.dbc\"\n",
            "[1] \"/datasets/sinasc/dbc//DNSP2017.dbc\"\n",
            "[1] \"/datasets/sinasc/dbc//DNSP2018.dbc\"\n",
            "[1] \"/datasets/sinasc/dbc//DNSP2019.dbc\"\n",
            "\n",
            "trying URL 'https://cran.rstudio.com/src/contrib/read.dbc_1.0.5.tar.gz'\n",
            "Content type 'application/x-gzip' length 20988 bytes (20 KB)\n",
            "==================================================\n",
            "downloaded 20 KB\n",
            "\n",
            "* installing *source* package ‘read.dbc’ ...\n",
            "** package ‘read.dbc’ successfully unpacked and MD5 sums checked\n",
            "** using staged installation\n",
            "** libs\n",
            "installing to /content/.Rlocal/00LOCK-read.dbc/00new/read.dbc/libs\n",
            "** R\n",
            "** inst\n",
            "** byte-compile and prepare package for lazy loading\n",
            "** help\n",
            "*** installing help indices\n",
            "** building package indices\n",
            "** testing if installed package can be loaded from temporary location\n",
            "** checking absolute paths in shared objects and dynamic libraries\n",
            "** testing if installed package can be loaded from final location\n",
            "** testing if installed package keeps a record of temporary installation path\n",
            "* DONE (read.dbc)\n",
            "\n",
            "The downloaded source packages are in\n",
            "\t‘/tmp/RtmpEM3v0C/downloaded_packages’\n",
            "\n"
          ],
          "name": "stdout"
        }
      ]
    },
    {
      "cell_type": "markdown",
      "metadata": {
        "id": "VCP4H5D3mR8R"
      },
      "source": [
        "Aqui o dataset com os dados de 2020 é baixado. Ele é baixado separadamente pois não está no mesmo repositório que os outros anos. Adicionalmente, o arquivo está no formato DBF, que pode ser transformado para a extensão CSV utilizando a biblioteca `simpledbf`."
      ]
    },
    {
      "cell_type": "code",
      "metadata": {
        "id": "KxGGwjj3Q7pl"
      },
      "source": [
        "download_dbf_2020(dbf_folder)\n",
        "\n",
        "dbf_filepath = list(dbf_folder.glob(\"*.DBF\"))[0]\n",
        "dbf_to_csv(dbf_filepath, csv_path)"
      ],
      "execution_count": 7,
      "outputs": []
    },
    {
      "cell_type": "markdown",
      "metadata": {
        "id": "i2yYrAtmmrQS"
      },
      "source": [
        "Aquios arquivos CSV são unidos em um único Dataframe."
      ]
    },
    {
      "cell_type": "code",
      "metadata": {
        "id": "Rxd-4Kf7Q7pl",
        "colab": {
          "base_uri": "https://localhost:8080/"
        },
        "outputId": "bbb4143b-fcbf-4477-acd0-4fb60921fdf7"
      },
      "source": [
        "union_df = join_sinasc_files(csv_path)\n",
        "union_df"
      ],
      "execution_count": null,
      "outputs": [
        {
          "output_type": "stream",
          "text": [
            "Loading DNSP2014.csv\n",
            "Loading DNSP2019.csv\n",
            "Loading DNSP2005.csv\n"
          ],
          "name": "stdout"
        }
      ]
    },
    {
      "cell_type": "markdown",
      "metadata": {
        "id": "-TjOAgLxoIWu"
      },
      "source": [
        "# Seleção da amostra (municípios)\n",
        "\n",
        "A seleção dos municípios para avaliação do indicador de saúde materna, foi baseado no método PROMETHEE.  O Promethee é um método de apoio a decisão baseada em multicritérios. Para a análise do impacto da pandemia da COVID-19 no número de nascidos vivos no estado de São Paulo e seus municípios, foram definidos os seguintes critérios (indicadores) para a construção do ranking Promethee:\n",
        "⦁\tTaxa de Incidência da COVID-19;\n",
        "⦁\tTaxa de prevalência da COVID-19;\n",
        "⦁\tTaxa de letalidade por COVID-19.\n",
        "\n",
        "Os municípios foram comparados um para um (todos com todos) em cada um dos indicadores acima descrito, recebendo melhor pontuação (1) o município com pior desempenho do indicador sob avaliação. As regras definidas foram:\n",
        "\n",
        "![image.png](data:image/png;base64,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)\n",
        "\n",
        "Onde `R1` é o indicador de um município e `R2` é o indicador do outro. A pontuação final de um município é a soma de todos as pontuações. Por exemplo, se houve 100 municíos no total \\{M1, M2, ..., M100\\}, a pontuação máxima de um município será 3 * 99 (dos três indicadores e da sua comparação com os outros 99 municípios). O código para este método está em `ds4h.data.city_ranking`.\n",
        "\n",
        "Após o estabelecimento do ranking, foram selecionados, incialmente, dez municípios com pior classificação e com número de habitantes igual ou superior a 30000. Adicionalmente, foi incluído a este grupo a capital do estado de São Paulo, o município de São Paulo, para avaliação mais detalhada dos indicadores de saúde materna. \n"
      ]
    },
    {
      "cell_type": "code",
      "metadata": {
        "id": "PCN1HbFfQ7pl"
      },
      "source": [
        "df = get_ranking_dataframe()\n",
        "cities_dict = get_top_cities_from_df(df)\n",
        "print(cities_dict)"
      ],
      "execution_count": null,
      "outputs": []
    },
    {
      "cell_type": "markdown",
      "metadata": {
        "id": "FSlghHgH33Y0"
      },
      "source": [
        "\n",
        "É possível ver que para cada coluna existem valores que não são esperados, ou que são equivalentes a valores faltantes. Por exemplo, para a coluna `ESCMAE` o valor 9 representa um valor ignorado, que não foi preenchido. Para a coluna `IDADEMAE`, o valor de 99 parece ser um erro, já que antes dele o maior valor de idade foi 65. Para a coluna `QTDFILVIVO` (quantidade de filhos vivos), apesar do número 30 também parecer absurdo, o número 99 também parece ser um erro.\n",
        "\n"
      ]
    },
    {
      "cell_type": "code",
      "metadata": {
        "id": "GwR2H5rcbxKA"
      },
      "source": [
        "union_df.columns"
      ],
      "execution_count": null,
      "outputs": []
    },
    {
      "cell_type": "code",
      "metadata": {
        "id": "M2zfqRjf33j3"
      },
      "source": [
        "for col in [\"ESCMAE\", \"IDADEMAE\", \"QTDFILVIVO\"]:\n",
        "  print(\"Valores distintos da colunas \" + col)\n",
        "  unique = sorted(union_df[col].unique())\n",
        "  unique = [str(u) for u in unique]\n",
        "  print(\", \".join(unique), end=\"\\n\\n\")"
      ],
      "execution_count": null,
      "outputs": []
    },
    {
      "cell_type": "markdown",
      "metadata": {
        "id": "Er6aYI9MobG8"
      },
      "source": [
        "\n",
        "Outro tratamento realizado nos dados, foi em relação a data. Os valores plotados estavam sem separação, por exemplo a data 24/05/2020 estava com o valor 24052020 no dataset, ou ainda a data 08/02/2020 estava plotada como 8022020. Para resolver esse caso criamos uma função em Python que transforma os valores para a formatação correta. As funções str_to_datetime, nullify criadas no módulo sinasc.py trata deste caso.\n",
        "\n",
        "Aqui o Dataframe com todos os dados são processados. O processamento realizado é:\n",
        " - A coluna `DTNASC` é processada, pois os dados originais não estão conforme o dicionário de dados fornecido, e a data está no formato de string.\n",
        " - A coluna `MUNNAME` é criada, com os nomes das cidades, ao invés do código do munícipio que está originalmente presente.\n",
        " - A coluna `AGEGROUP` é criada, e tem os valores:\n",
        "    - 'A1', se IDADEMAE < 20;\n",
        "    - 'A2', se 20 <= IDADEMAE < 35;\n",
        "    - 'A3', se IDADEMAE >= 35.\n",
        " - As colunas `YEAR`, `MONTH` e `DAY` são criadas, baseando-se na colunas `DTNASC`.\n",
        " - O dicionário de dados prevê a existência de valores que foram ignorados, provavelmente não preenchidos. Estes valores foram substituídos por NULL, bem como certo valores estranhos, como o valor de 99 na colunas `IDADEMAE` (idade da mãe). Para as colunas categóricas, as categorias foram codificadas de 1 até N, sendo N o número de categorias. Desta maneira Valores maiores que N foram transformados em NULL, para que depois pudessem ser descartados durante as análises.\n",
        "    - `QTDFILVIVO`: valores maiores que 30.\n",
        "    - `QTDFILMORT`: valores maiores que 30.\n",
        "    - `IDADEMAE`: valores maiores que 65.\n",
        "    - `ESTCIVMAE`: valores maiores que 5.\n",
        "    - `PARTO`: valores maiores que 2.\n",
        "    - `IDANOMAL`: valores maiores que 2.\n",
        "    - `GESTACAO`: valores maiores que 6.\n",
        "    - `RACACOR`: valores maiores que 5.\n",
        "    - `RACACORMAE`: valores maiores que 5.\n",
        "    - `ESCMAE`: valores maiores que 5.\n",
        "\n",
        "Em resumo, observamos um dataset bastante consistente em dados, e com porcentagens muito baixas de erro.\n",
        "\n"
      ]
    },
    {
      "cell_type": "code",
      "metadata": {
        "id": "CHqPhqBUQ7pm"
      },
      "source": [
        "df = process_sinasc(union_df, city_code_dict=cities_dict)\n",
        "df = code_to_str(df)"
      ],
      "execution_count": null,
      "outputs": []
    },
    {
      "cell_type": "code",
      "metadata": {
        "id": "B_HXaKQ2TZnN"
      },
      "source": [
        "import numpy as np\n",
        "def null_proportion(df):\n",
        "  def null_prop(x):\n",
        "    return \"{:.2f}%\".format(x * 100)\n",
        "  return df.isna().mean(axis=0).apply(null_prop)"
      ],
      "execution_count": null,
      "outputs": []
    },
    {
      "cell_type": "markdown",
      "metadata": {
        "id": "6vLtAywl50m6"
      },
      "source": [
        "Durante o processo de observação das variáveis do dataset, percebemos poucos dados faltantes na base de dados. Ao realizar o cálculo de porcentagem de dados faltantes para cada variável, o maior valor observado estava na variável RACACORMAE que tinha 14% dos dados faltantes, as demais variáveis estavam entre 3 e 0%.\n",
        "Inicialmente optamos por utilizar o método complete-case analysis, que indica dropar os dados faltantes da base.  Porém quando começamos a realizar a análise da qualidade dos dados, de afim validar possíveis discrepâncias e inconsistências, percebemos variáveis com valores 9 e 99, que segundo a descrição do dicionário de dados são valores ignorados, por isso substituímos estes valores por nulos.\n",
        "\n",
        "Para que as demais varáveis não fossem comprometidas, decidimos manter os registros com valores nulos no dataset uma vez que a maioria dos métodos estatísticos em python já desconsideram estes valores."
      ]
    },
    {
      "cell_type": "code",
      "metadata": {
        "id": "Bqwkp4YwB9oR"
      },
      "source": [
        "null_proportion(union_df)"
      ],
      "execution_count": null,
      "outputs": []
    },
    {
      "cell_type": "markdown",
      "metadata": {
        "id": "KL9pWyvj561i"
      },
      "source": [
        "Ao recalcular a porcentagem em perda de valores nulos após essa substituição, a variável RACACORMAE chegou a 17%, enquanto as demais variáveis não passavam de 3%. "
      ]
    },
    {
      "cell_type": "code",
      "metadata": {
        "id": "2-9oIrXrB-vG"
      },
      "source": [
        "null_proportion(df)"
      ],
      "execution_count": null,
      "outputs": []
    },
    {
      "cell_type": "markdown",
      "metadata": {
        "id": "qd95xrfPDp9f"
      },
      "source": [
        "Abaixo pode-se ver a distribuição dos dados que tem a coluna de `RACACORMAE` faltante durante os anos. É possível a partir de meados de 2011 que a coluna começou a ser preenchida. Tal fato foi confirmado ao se constatar que o modelo de DN (declaração de nascido) não contava com a informação de raça/cor da mãe até esta data.\n",
        "\n",
        "Como a falta da informação `RACACORMAE` está ligada ao ano de preenchimento do DN, este caso de dado faltante pode se classificado como *Missing at Random*."
      ]
    },
    {
      "cell_type": "code",
      "metadata": {
        "id": "Xp08qvuK9bgk"
      },
      "source": [
        "filled = df.fillna(\"NULL\")\n",
        "filled = filled[filled.RACACORMAE == \"NULL\"]\n",
        "\n",
        "print(\"Distribuição dos dados de RACACORMAE faltantes durante os anos\")\n",
        "pct_plot(filled, \"YEAR\", \"MONTH\", percentage=False);"
      ],
      "execution_count": null,
      "outputs": []
    },
    {
      "cell_type": "markdown",
      "metadata": {
        "id": "pKHrlV387T-k"
      },
      "source": [
        ""
      ]
    },
    {
      "cell_type": "code",
      "metadata": {
        "id": "X8oA0wKH7T2l"
      },
      "source": [
        "perc = 100 * (1 - (len(df) / len(union_df)))\n",
        "print(\"Porcentagem do dataset que foi retirado no processamento: {:.2f}%\".format(perc))"
      ],
      "execution_count": null,
      "outputs": []
    },
    {
      "cell_type": "code",
      "metadata": {
        "id": "b7gE-Xxw88QM"
      },
      "source": [
        "df.columns"
      ],
      "execution_count": null,
      "outputs": []
    },
    {
      "cell_type": "markdown",
      "metadata": {
        "id": "pVIlzNnESXZY"
      },
      "source": [
        "Nos plots abaixo podemos ver a progressão do número de nascidos vivos para cada cidade, dos anos de 2010 à 2020. Pode-se verificar, em algumas cidades, uma queda nos anos de 2016/2017. Essa queda pode ter se dado devido à pandemia do Zika vírus, durante a qual houve extensa propaganda para que as mães postergassem a gravidez, entretanto existem cidades em que esse comportamento não é observado. Ao mesmo tempo pode-se ver que tal comportamento não existe para 2020, pelo menos não para o balanço geral do ano, como é mostrado abaixo.\n",
        "\n",
        "Como a pandemia se iniciou por volta de março, caso haja alguma diferença no número de nascidos vivos, esperar-se-ia que ela aparecesse em novembro/dezembro. Ainda assim é necessário levar em consideração o mês do ano, já que certa sazonalidade no número de nascidos vivos."
      ]
    },
    {
      "cell_type": "code",
      "metadata": {
        "id": "mwaLIboGI4Pc"
      },
      "source": [
        "for mun in df.MUNNAME.unique():\n",
        "  pct_lineplot(df[df.MUNNAME == mun], \"YEAR\", \"MUNNAME\", percentage=False, y_logscale=False, figsize=(12, 3));"
      ],
      "execution_count": null,
      "outputs": []
    },
    {
      "cell_type": "markdown",
      "metadata": {
        "id": "d5xBnfsHDo4U"
      },
      "source": [
        "O arquivos ./assets/AnalysisPrism.pdf mostra os mesmos plots, mas também as tabelas com os números absolutos e médios de nascidos vivos para cada mês, para cada ano. Ele também conta com as barras de desvio padrão para se avaliar a variabilidade destes valores, cidade por cidade."
      ]
    },
    {
      "cell_type": "markdown",
      "metadata": {
        "id": "s78cBpS0XZPC"
      },
      "source": [
        "Os gráficos a seguir mostram os números de nascidos vivos agregados por 2 variáveis categóricas do dataset, descrito no título de cada plot."
      ]
    },
    {
      "cell_type": "markdown",
      "metadata": {
        "id": "tzHFZhTDXpXm"
      },
      "source": [
        "Percebe-se que proporcionalmente, a mulheres que tiveram entre 8 e 11 anos de escolaridade são maioria, seguidas das que tiveram 12 ou mais."
      ]
    },
    {
      "cell_type": "code",
      "metadata": {
        "id": "jVE82221B2rh"
      },
      "source": [
        "pct_plot(df, \"MUNNAME\", \"ESCMAE\", percentage=True);"
      ],
      "execution_count": null,
      "outputs": []
    },
    {
      "cell_type": "markdown",
      "metadata": {
        "id": "F_JslW3TX581"
      },
      "source": [
        "Observa-se que para todas as cidades avaliadas, exceto Barueri, a maiorio dos bebês tem raça/cor registrada como Branca, seguido pelo pardo."
      ]
    },
    {
      "cell_type": "code",
      "metadata": {
        "id": "wgTJV_QfBHge"
      },
      "source": [
        "pct_plot(df, \"MUNNAME\", \"RACACOR\", percentage=True);"
      ],
      "execution_count": null,
      "outputs": []
    },
    {
      "cell_type": "markdown",
      "metadata": {
        "id": "iikvk1ypYPZN"
      },
      "source": [
        "Aqui pode-se ver a diferença entre os números de nascidos vivos, entre as cidades. São Paulo esta pelo menos 1 ordem de grandeza acima das demais cidades. Para algumas cidades já é possível ver certa tendência de crescimento ou decrescimento no número."
      ]
    },
    {
      "cell_type": "code",
      "metadata": {
        "id": "zm7eNGKFA1iO"
      },
      "source": [
        "pct_plot(df, \"MUNNAME\", \"YEAR\", percentage=False, y_logscale=True);"
      ],
      "execution_count": null,
      "outputs": []
    },
    {
      "cell_type": "markdown",
      "metadata": {
        "id": "naQ-R2WEYgph"
      },
      "source": [
        "Neste gráfico pode-se ver que a cada ano que passa a proporção de bebês registrados como brancos diminui, enquanto a de pardos e negros/pretos aumenta. O número de bebês registrados como brancos caiu 20 pontos percentuais no período."
      ]
    },
    {
      "cell_type": "code",
      "metadata": {
        "id": "GClCw_CS7Qts"
      },
      "source": [
        "pct_plot(df, \"YEAR\", \"RACACOR\", percentage=True);"
      ],
      "execution_count": null,
      "outputs": []
    },
    {
      "cell_type": "markdown",
      "metadata": {
        "id": "U8F_Fb6kY0ed"
      },
      "source": [
        "Este gráfico mostra que o número de mães solteiras é muito próximo do número de mae que são casas, tendências que vem desde 2012. De 2017 para 2020 o número de mães registradas como estando em união estável pareceu aumentar."
      ]
    },
    {
      "cell_type": "code",
      "metadata": {
        "id": "Q6kavVM9u2q2"
      },
      "source": [
        "pct_plot(df, \"YEAR\", \"ESTCIVMAE\", percentage=True);"
      ],
      "execution_count": null,
      "outputs": []
    },
    {
      "cell_type": "markdown",
      "metadata": {
        "id": "JTJygoCwZRfz"
      },
      "source": [
        "Aqui verifica-se que o percentual de mães com mais de 12 anos de escolaridade vem aumentando aos poucos durante o período."
      ]
    },
    {
      "cell_type": "code",
      "metadata": {
        "id": "WfvGe2fTxvzF"
      },
      "source": [
        "pct_plot(df, \"YEAR\", \"ESCMAE\", percentage=True);"
      ],
      "execution_count": null,
      "outputs": []
    },
    {
      "cell_type": "markdown",
      "metadata": {
        "id": "HfwN8jXkZfm2"
      },
      "source": [
        "Este gráfico mostra que a proporção de partos que são feitos por cesárea é consistentemente similar à proporção de partos \"normais\"."
      ]
    },
    {
      "cell_type": "code",
      "metadata": {
        "id": "iQyrv7206fae"
      },
      "source": [
        "pct_plot(df, \"YEAR\", \"PARTO\", percentage=True);"
      ],
      "execution_count": null,
      "outputs": []
    },
    {
      "cell_type": "markdown",
      "metadata": {
        "id": "XBcEmynqZt9x"
      },
      "source": [
        "Aqui verifica-se o número de nascidos vivos por ano e por mês. Pode-se ver que o número de nascidos vivos em 2020 chega a ser 10% menor que o mesmo mês no ano anterior. Existe certa dúvida de se esse número seria o esperado para o período, dada a tendência dos anos, ou se esse número possa ser um resultado da pandemia de COVID-19. Esta dúvida é exatamente um dos questionamentos do projeto."
      ]
    },
    {
      "cell_type": "code",
      "metadata": {
        "id": "MzSBlRd2KDiE"
      },
      "source": [
        "pct_plot(df, \"MONTH\", \"YEAR\", percentage=False, y_logscale=True);"
      ],
      "execution_count": null,
      "outputs": []
    },
    {
      "cell_type": "markdown",
      "metadata": {
        "id": "AsLomJi5ayyY"
      },
      "source": [
        "Neste gráfico de barras pode-se observar certos aspectos da sazonalidade do número de nascidos."
      ]
    },
    {
      "cell_type": "code",
      "metadata": {
        "id": "hs5Sls9xaa29"
      },
      "source": [
        "pct_plot(df, \"YEAR\", \"MONTH\", percentage=False, y_logscale=True);"
      ],
      "execution_count": null,
      "outputs": []
    },
    {
      "cell_type": "markdown",
      "metadata": {
        "id": "SqGYVucKb_X7"
      },
      "source": [
        "Neste gráfico verifica-se que a raça/cor amarela (asiática) é a que mais tem mães acima de 35 anos, enquanto a indígena é a que mais tem mães abaixo de 20 anos."
      ]
    },
    {
      "cell_type": "code",
      "metadata": {
        "id": "ZYJcy0VGb-n-"
      },
      "source": [
        "pct_plot(df, \"RACACOR\", \"AGEGROUP\", percentage=True);"
      ],
      "execution_count": null,
      "outputs": []
    },
    {
      "cell_type": "markdown",
      "metadata": {
        "id": "la8yHOlpIyLK"
      },
      "source": [
        "# Ano de 2020\n",
        "\n",
        "Para observamos se houve mudança no comportamento do número de nascidos nos meses de novembro e dezembro de 2020, podemos plotar alguns destes gráficos apenas para o ano de 2020.\n",
        "\n",
        "Visualmente parece não haver diferença significativa. Posteriormente no projeto utilizaremos métodos estatísticos e testes de hipótese para tal avaliação."
      ]
    },
    {
      "cell_type": "code",
      "metadata": {
        "id": "4QsNtCDSJFkq"
      },
      "source": [
        "df2020 = df[df.YEAR == 2020]"
      ],
      "execution_count": null,
      "outputs": []
    },
    {
      "cell_type": "code",
      "metadata": {
        "id": "RRq5tl9BIvrH"
      },
      "source": [
        "pct_plot(df2020, \"MONTH\", \"PARTO\", percentage=True);"
      ],
      "execution_count": null,
      "outputs": []
    },
    {
      "cell_type": "code",
      "metadata": {
        "id": "dxWJySlaJP3C"
      },
      "source": [
        "pct_plot(df2020, \"MONTH\", \"RACACOR\", percentage=False);"
      ],
      "execution_count": null,
      "outputs": []
    },
    {
      "cell_type": "code",
      "metadata": {
        "id": "6Mm74UttJi_f"
      },
      "source": [
        "pct_plot(df2020, \"MONTH\", \"ESCMAE\", percentage=True);"
      ],
      "execution_count": null,
      "outputs": []
    },
    {
      "cell_type": "code",
      "metadata": {
        "id": "7iRwX56jliSJ"
      },
      "source": [
        "pct_plot(df2020, \"MONTH\", \"ESTCIVMAE\", percentage=True);"
      ],
      "execution_count": null,
      "outputs": []
    },
    {
      "cell_type": "markdown",
      "metadata": {
        "id": "LOGyakcibe4Z"
      },
      "source": [
        "Podemos, a fim de análise, verificar se há correlação entre a idade das mães e o número de filhos que ela já teve, vivos ou mortos. Verifica-se uma correlação fraca entre a idade e a quantidade de filhos vivos, e não há correlação entre as demais combinações de variáveis."
      ]
    },
    {
      "cell_type": "code",
      "metadata": {
        "id": "clHSoqPNjUO0"
      },
      "source": [
        "df[[\"IDADEMAE\", \"QTDFILVIVO\", \"QTDFILMORT\"]].corr(method=\"spearman\")"
      ],
      "execution_count": null,
      "outputs": []
    },
    {
      "cell_type": "code",
      "metadata": {
        "id": "oXpkiif6J1f-"
      },
      "source": [
        "df[np.bitwise_and(df.MUNNAME == 'São Paulo', df.MONTH == 'April')].groupby([\"YEAR\", \"MONTH\"]).count().sort_values(by=[\"YEAR\", \"MONTH\"]).DTNASC"
      ],
      "execution_count": null,
      "outputs": []
    },
    {
      "cell_type": "code",
      "metadata": {
        "id": "GV8PFLvGMuts"
      },
      "source": [
        "dt.strptime(\"2019-02-02\", \"%Y-%m-%d\").year"
      ],
      "execution_count": null,
      "outputs": []
    },
    {
      "cell_type": "code",
      "metadata": {
        "id": "E64Wvqlw0dIp"
      },
      "source": [
        "from datetime import datetime as dt\n",
        "\n",
        "pd.set_option('display.max_rows', 1000)\n",
        "\n",
        "\n",
        "month_dict = {\n",
        "    \"January\"\n",
        "}\n",
        "\n",
        "def create_fold(df, start, end, n_months=3):\n",
        "  df = df.copy()\n",
        "  \n",
        "  start_date = dt.strptime(start, \"%Y-%m-%d\")\n",
        "  end_date = dt.strptime(end, \"%Y-%m-%d\")\n",
        "\n",
        "  df = df[df.MUNNAME == 'São Paulo']\n",
        "  df = df[np.bitwise_and(df.DTNASC >= start, df.DTNASC <= end)]\n",
        "  df.MONTH = df.MONTH.apply(lambda d: dt.strptime(d, \"%B\").month)\n",
        "  df = df.groupby([\"YEAR\", \"MONTH\"]).count().sort_values(by=[\"YEAR\", \"MONTH\"]).reset_index()\n",
        "\n",
        "  X, Y = list(), list()\n",
        "  for i in range(n_months, len(df)):\n",
        "    year, month, cnt = df[[\"YEAR\", \"MONTH\", \"DTNASC\"]].values[i]\n",
        "    date = dt(year, month, 1)\n",
        "    cond = (date >= start_date) and (date <= end_date)\n",
        "    if not cond:\n",
        "      continue\n",
        "    X.append(\n",
        "        list(df.DTNASC.values[i - n_months:i]) \n",
        "    )\n",
        "    Y.append(\n",
        "        df.DTNASC.values[i]\n",
        "    )\n",
        "  X, Y = np.stack(X), np.array(Y)\n",
        "  return X, Y\n"
      ],
      "execution_count": null,
      "outputs": []
    },
    {
      "cell_type": "code",
      "metadata": {
        "id": "z4jPSB4-0j1M"
      },
      "source": [
        "from sklearn.linear_model import LinearRegression\n",
        "from sklearn.preprocessing import StandardScaler\n",
        "from sklearn.metrics import r2_score, mean_squared_error, mean_absolute_error\n",
        "\n",
        "def evaluate(y_true, y_pred):\n",
        "  metrics = {\n",
        "      \"R2\": r2_score(y_true, y_pred),\n",
        "      \"MAE\": mean_absolute_error(y_true, y_pred),\n",
        "      \"MSE\": mean_squared_error(y_true, y_pred),\n",
        "  }\n",
        "  return metrics\n",
        "\n",
        "N = 4\n",
        "x_train, y_train = create_fold(df, \"2009-01-01\", \"2015-12-31\", n_months=N)\n",
        "x_test, y_test = create_fold(df, \"2018-01-01\", \"2019-12-31\", n_months=N)\n",
        "\n",
        "scaler = StandardScaler()\n",
        "\n",
        "# x_train, x_test = scaler.fit_transform(x_train), scaler.transform(x_test)\n",
        "\n",
        "model = LinearRegression()\n",
        "model.fit(x_train, y_train)\n",
        "evaluate(y_test, model.predict(x_test)), evaluate(y_train, model.predict(x_train))\n"
      ],
      "execution_count": null,
      "outputs": []
    },
    {
      "cell_type": "code",
      "metadata": {
        "id": "T9o6qoFUuvQg"
      },
      "source": [
        "model.intercept_, model.coef_"
      ],
      "execution_count": null,
      "outputs": []
    },
    {
      "cell_type": "code",
      "metadata": {
        "id": "4uEy7BQcLpIc"
      },
      "source": [
        "plt.plot(y_test)\n",
        "plt.plot(model.predict(x_test))\n"
      ],
      "execution_count": null,
      "outputs": []
    },
    {
      "cell_type": "code",
      "metadata": {
        "id": "LMKIKoDPESHB"
      },
      "source": [
        "from datetime import datetime as dt\n",
        "\n",
        "pd.set_option('display.max_rows', 1000)\n",
        "\n",
        "month_dict = {\n",
        "    \"January\"\n",
        "}\n",
        "\n",
        "def create_fold(df, start, end, n_months=3):\n",
        "  df = df.copy()\n",
        "  \n",
        "  start_date = dt.strptime(start, \"%Y-%m-%d\")\n",
        "  end_date = dt.strptime(end, \"%Y-%m-%d\")\n",
        "\n",
        "  df = df[df.MUNNAME == 'São Paulo']\n",
        "  df.MONTH = df.MONTH.apply(lambda d: dt.strptime(d, \"%B\").month)\n",
        "  df = df.groupby([\"YEAR\", \"MONTH\"]).count().sort_values(by=[\"YEAR\", \"MONTH\"]).reset_index()\n",
        "\n",
        "  X, Y = list(), list()\n",
        "  for month in df.MONTH.unique():\n",
        "    df_ = df[df.MONTH == month]\n",
        "    for i in range(n_months, len(df_)):\n",
        "      year, month, cnt = df_[[\"YEAR\", \"MONTH\", \"DTNASC\"]].values[i]\n",
        "      date = dt(year, month, 1)\n",
        "      cond = (date >= start_date) and (date <= end_date)\n",
        "      if not cond:\n",
        "        continue\n",
        "      X.append(\n",
        "          list(df_.DTNASC.values[i - n_months:i])\n",
        "      )\n",
        "      Y.append(\n",
        "          df_.DTNASC.values[i]\n",
        "      )\n",
        "  X, Y = np.stack(X), np.array(Y)\n",
        "  return X, Y\n",
        "\n",
        "x, y = create_fold(df, \"2009-01-01\", \"2016-12-31\", n_months=N)\n",
        "print(x.shape, y.shape)"
      ],
      "execution_count": null,
      "outputs": []
    },
    {
      "cell_type": "code",
      "metadata": {
        "id": "ETPqbGlBHmF5"
      },
      "source": [
        "N = 2\n",
        "x_train, y_train = create_fold(df, \"2009-01-01\", \"2015-12-31\", n_months=N)\n",
        "x_test, y_test = create_fold(df, \"2018-01-01\", \"2019-12-31\", n_months=N)\n",
        "print(x_train.shape, x_test.shape)\n",
        "\n",
        "scaler = StandardScaler()\n",
        "\n",
        "# x_train, x_test = scaler.fit_transform(x_train), scaler.transform(x_test)\n",
        "\n",
        "model = LinearRegression()\n",
        "model.fit(x_train, y_train)\n",
        "evaluate(y_test, model.predict(x_test)), evaluate(y_train, model.predict(x_train))"
      ],
      "execution_count": null,
      "outputs": []
    },
    {
      "cell_type": "code",
      "metadata": {
        "id": "u1KriZT6uqZi"
      },
      "source": [
        "model.intercept_, model.coef_"
      ],
      "execution_count": null,
      "outputs": []
    },
    {
      "cell_type": "code",
      "metadata": {
        "id": "DtJ1FvQP5LyE"
      },
      "source": [
        "plt.plot(y_train)\n",
        "plt.plot(model.predict(x_train))\n"
      ],
      "execution_count": null,
      "outputs": []
    },
    {
      "cell_type": "code",
      "metadata": {
        "id": "Jdud3zLY-0uw"
      },
      "source": [
        "y_train"
      ],
      "execution_count": null,
      "outputs": []
    },
    {
      "cell_type": "code",
      "metadata": {
        "id": "kU8tl3zoBRet"
      },
      "source": [
        "x_train"
      ],
      "execution_count": null,
      "outputs": []
    },
    {
      "cell_type": "code",
      "metadata": {
        "id": "bygTlEzaBjgT"
      },
      "source": [
        ""
      ],
      "execution_count": null,
      "outputs": []
    }
  ]
}