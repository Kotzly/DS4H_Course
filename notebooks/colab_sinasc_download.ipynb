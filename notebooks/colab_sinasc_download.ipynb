{
  "nbformat": 4,
  "nbformat_minor": 5,
  "metadata": {
    "kernelspec": {
      "display_name": "Python 3",
      "language": "python",
      "name": "python3"
    },
    "language_info": {
      "codemirror_mode": {
        "name": "ipython",
        "version": 3
      },
      "file_extension": ".py",
      "mimetype": "text/x-python",
      "name": "python",
      "nbconvert_exporter": "python",
      "pygments_lexer": "ipython3",
      "version": "3.8.5"
    },
    "colab": {
      "name": "sinasc_download.ipynb",
      "provenance": []
    }
  },
  "cells": [
    {
      "cell_type": "code",
      "metadata": {
        "id": "wrhbqcV-Dp8n",
        "outputId": "30cfb105-1495-4c30-92ce-943a22bb1933",
        "colab": {
          "base_uri": "https://localhost:8080/"
        }
      },
      "source": [
        "!pip install simpledbf"
      ],
      "id": "wrhbqcV-Dp8n",
      "execution_count": 1,
      "outputs": [
        {
          "output_type": "stream",
          "text": [
            "Requirement already satisfied: simpledbf in /usr/local/lib/python3.7/dist-packages (0.2.6)\n"
          ],
          "name": "stdout"
        }
      ]
    },
    {
      "cell_type": "code",
      "metadata": {
        "id": "7ShGotOt9xf7"
      },
      "source": [
        "import shutil\n",
        "import urllib.request as request\n",
        "from contextlib import closing\n",
        "import zipfile\n",
        "import shutil\n",
        "import sys\n",
        "import os\n",
        "from pathlib import Path\n",
        "import pandas as pd\n",
        "from simpledbf import Dbf5\n",
        "import platform\n",
        "\n",
        "def download(url, save_filepath):\n",
        "    with requests.get(url, stream=True) as r:\n",
        "        r.raise_for_status()\n",
        "        with open(save_filepath, 'wb') as f:\n",
        "            for chunk in r.iter_content(chunk_size=8192): \n",
        "                # If you have chunk encoded response uncomment if\n",
        "                # and set chunk_size parameter to None.\n",
        "                #if chunk: \n",
        "                f.write(chunk)\n",
        "\n",
        "def download_ftp(url, savepath):\n",
        "    with closing(request.urlopen(url)) as r:\n",
        "        with open(savepath, 'wb') as f:\n",
        "            shutil.copyfileobj(r, f)\n",
        "\n",
        "root = Path(\".\")"
      ],
      "id": "7ShGotOt9xf7",
      "execution_count": 2,
      "outputs": []
    },
    {
      "cell_type": "code",
      "metadata": {
        "id": "VnoIvGBO9xgB"
      },
      "source": [
        "dbc_save_folder = root / \"SINASC_DBC\"\n",
        "dbf_save_folder = root / \"SINASC_DBF\"\n",
        "csv_save_folder = root / \"SINASC_CSV\"\n",
        "\n",
        "dbc_save_folder.mkdir(exist_ok=True)\n",
        "dbf_save_folder.mkdir(exist_ok=True)\n",
        "csv_save_folder.mkdir(exist_ok=True)\n"
      ],
      "id": "VnoIvGBO9xgB",
      "execution_count": 3,
      "outputs": []
    },
    {
      "cell_type": "code",
      "metadata": {
        "id": "Z2EpgNZu9xgC",
        "outputId": "bb276e20-b2b2-4ff5-e086-0a38a43a2e33",
        "colab": {
          "base_uri": "https://localhost:8080/"
        }
      },
      "source": [
        "SINASC_URLS = [\n",
        "    f\"ftp://ftp.datasus.gov.br/dissemin/publicos/SINASC/1996_/Dados/DNRES/DNSP{year}.dbc\"\n",
        "    for year in range(2010, 2019 + 1)\n",
        "]\n",
        "\n",
        "\n",
        "\n",
        "for url in SINASC_URLS:\n",
        "    print(\"Downloading\", url.split(\"/\")[-1])\n",
        "    save_path = dbc_save_folder / url.split(\"/\")[-1]\n",
        "    download_ftp(url, save_path)"
      ],
      "id": "Z2EpgNZu9xgC",
      "execution_count": 4,
      "outputs": [
        {
          "output_type": "stream",
          "text": [
            "Downloading DNSP2010.dbc\n",
            "Downloading DNSP2011.dbc\n",
            "Downloading DNSP2012.dbc\n",
            "Downloading DNSP2013.dbc\n",
            "Downloading DNSP2014.dbc\n",
            "Downloading DNSP2015.dbc\n",
            "Downloading DNSP2016.dbc\n",
            "Downloading DNSP2017.dbc\n",
            "Downloading DNSP2018.dbc\n",
            "Downloading DNSP2019.dbc\n"
          ],
          "name": "stdout"
        }
      ]
    },
    {
      "cell_type": "code",
      "metadata": {
        "id": "whWXpLVzFYnP"
      },
      "source": [
        "%load_ext rpy2.ipython"
      ],
      "id": "whWXpLVzFYnP",
      "execution_count": 5,
      "outputs": []
    },
    {
      "cell_type": "code",
      "metadata": {
        "id": "un_pBWn7F3Dr",
        "outputId": "82da34b2-a0df-43bf-d53d-6251c7790304",
        "colab": {
          "base_uri": "https://localhost:8080/"
        }
      },
      "source": [
        "%%R\n",
        "# Using read.dbc package\n",
        "# https://pt.linkedin.com/pulse/datasus-conhe%C3%A7a-nova-ferramenta-para-ler-arquivos-dbc-petruzalek\n",
        "\n",
        "install.packages(\"read.dbc\")\n",
        "library(\"read.dbc\")\n"
      ],
      "id": "un_pBWn7F3Dr",
      "execution_count": 6,
      "outputs": [
        {
          "output_type": "stream",
          "text": [
            "R[write to console]: Installing package into ‘/usr/local/lib/R/site-library’\n",
            "(as ‘lib’ is unspecified)\n",
            "\n",
            "R[write to console]: trying URL 'https://cran.rstudio.com/src/contrib/read.dbc_1.0.5.tar.gz'\n",
            "\n",
            "R[write to console]: Content type 'application/x-gzip'\n",
            "R[write to console]:  length 20988 bytes (20 KB)\n",
            "\n",
            "R[write to console]: =\n",
            "R[write to console]: =\n",
            "R[write to console]: =\n",
            "R[write to console]: =\n",
            "R[write to console]: =\n",
            "R[write to console]: =\n",
            "R[write to console]: =\n",
            "R[write to console]: =\n",
            "R[write to console]: =\n",
            "R[write to console]: =\n",
            "R[write to console]: =\n",
            "R[write to console]: =\n",
            "R[write to console]: =\n",
            "R[write to console]: =\n",
            "R[write to console]: =\n",
            "R[write to console]: =\n",
            "R[write to console]: =\n",
            "R[write to console]: =\n",
            "R[write to console]: =\n",
            "R[write to console]: =\n",
            "R[write to console]: =\n",
            "R[write to console]: =\n",
            "R[write to console]: =\n",
            "R[write to console]: =\n",
            "R[write to console]: =\n",
            "R[write to console]: =\n",
            "R[write to console]: =\n",
            "R[write to console]: =\n",
            "R[write to console]: =\n",
            "R[write to console]: =\n",
            "R[write to console]: =\n",
            "R[write to console]: =\n",
            "R[write to console]: =\n",
            "R[write to console]: =\n",
            "R[write to console]: =\n",
            "R[write to console]: =\n",
            "R[write to console]: =\n",
            "R[write to console]: =\n",
            "R[write to console]: =\n",
            "R[write to console]: =\n",
            "R[write to console]: =\n",
            "R[write to console]: =\n",
            "R[write to console]: =\n",
            "R[write to console]: =\n",
            "R[write to console]: =\n",
            "R[write to console]: =\n",
            "R[write to console]: =\n",
            "R[write to console]: =\n",
            "R[write to console]: =\n",
            "R[write to console]: =\n",
            "R[write to console]: \n",
            "\n",
            "R[write to console]: downloaded 20 KB\n",
            "\n",
            "\n",
            "R[write to console]: \n",
            "\n",
            "R[write to console]: \n",
            "R[write to console]: The downloaded source packages are in\n",
            "\t‘/tmp/RtmpL5Qcqc/downloaded_packages’\n",
            "R[write to console]: \n",
            "R[write to console]: \n",
            "\n"
          ],
          "name": "stderr"
        }
      ]
    },
    {
      "cell_type": "code",
      "metadata": {
        "id": "S9IFq3KYK0YV",
        "outputId": "3d334e69-cbf8-41ec-d548-9099c945af07",
        "colab": {
          "base_uri": "https://localhost:8080/"
        }
      },
      "source": [
        "!ls SINASC_CSV"
      ],
      "id": "S9IFq3KYK0YV",
      "execution_count": 7,
      "outputs": [
        {
          "output_type": "stream",
          "text": [
            "DNSP2010.csv  DNSP2012.csv  DNSP2014.csv  DNSP2016.csv\n",
            "DNSP2011.csv  DNSP2013.csv  DNSP2015.csv\n"
          ],
          "name": "stdout"
        }
      ]
    },
    {
      "cell_type": "code",
      "metadata": {
        "id": "GPSxZANrHBGT",
        "outputId": "9231502e-8251-4b29-fe96-0e776b20f3ba",
        "colab": {
          "base_uri": "https://localhost:8080/"
        }
      },
      "source": [
        "%%R\n",
        "files = list.files(\"SINASC_DBC\")\n",
        "for (file in files){\n",
        "    \n",
        "    print(file)\n",
        "\n",
        "    filename = strsplit(file, \".dbc\")[1]\n",
        "    \n",
        "    dbc_filepath = paste(\"./SINASC_DBC/\", file, sep=\"\")\n",
        "\n",
        "    csv_filepath = paste(\"./SINASC_CSV/\", filename, \".csv\", sep=\"\")\n",
        "    \n",
        "    df <- read.dbc(dbc_filepath)\n",
        "\n",
        "    write.csv(df, csv_filepath)\n",
        "}"
      ],
      "id": "GPSxZANrHBGT",
      "execution_count": 8,
      "outputs": [
        {
          "output_type": "stream",
          "text": [
            "[1] \"DNSP2010.dbc\"\n",
            "[1] \"DNSP2011.dbc\"\n",
            "[1] \"DNSP2012.dbc\"\n",
            "[1] \"DNSP2013.dbc\"\n",
            "[1] \"DNSP2014.dbc\"\n",
            "[1] \"DNSP2015.dbc\"\n",
            "[1] \"DNSP2016.dbc\"\n",
            "[1] \"DNSP2017.dbc\"\n",
            "[1] \"DNSP2018.dbc\"\n",
            "[1] \"DNSP2019.dbc\"\n"
          ],
          "name": "stdout"
        }
      ]
    },
    {
      "cell_type": "code",
      "metadata": {
        "scrolled": true,
        "id": "WgbL2yLu9xgG",
        "outputId": "025021da-dab9-439e-88bf-8492f1e6dee3",
        "colab": {
          "base_uri": "https://localhost:8080/"
        }
      },
      "source": [
        "union_df = None\n",
        "dfs = []\n",
        "cols = [\"DTNASC\", \"QTDFILVIVO\", \"SEXO\", \"IDADEMAE\", \"PESO\", \"GRAVIDEZ\", \"CONSULTAS\", \"RACACOR\", \"CODMUNNASC\", \"ESTCIVMAE\", \"ESCMAE\", \"PARTO\", \"IDANOMAL\"]\n",
        "union_csv_filename = \"union.csv\"\n",
        "for csv_filepath in csv_save_folder.glob(\"*.csv\"):\n",
        "    if csv_filepath.name == union_csv_filename:\n",
        "        continue\n",
        "    df = pd.read_csv(csv_filepath, usecols=cols)\n",
        "    print(csv_filepath, len(df.columns))\n",
        "    sorted_cols = list(sorted(df.columns))\n",
        "    df = df[cols]\n",
        "    dfs += [df]\n",
        "    if union_df is None:\n",
        "        union_df = df\n",
        "    else:\n",
        "        union_df = pd.concat([union_df, df])\n",
        "union_df.to_csv(csv_save_folder / union_csv_filename)"
      ],
      "id": "WgbL2yLu9xgG",
      "execution_count": 10,
      "outputs": [
        {
          "output_type": "stream",
          "text": [
            "SINASC_CSV/DNSP2013.csv 13\n",
            "SINASC_CSV/DNSP2010.csv 13\n",
            "SINASC_CSV/DNSP2014.csv 13\n",
            "SINASC_CSV/DNSP2016.csv 13\n",
            "SINASC_CSV/DNSP2018.csv 13\n",
            "SINASC_CSV/DNSP2017.csv 13\n",
            "SINASC_CSV/DNSP2015.csv 13\n",
            "SINASC_CSV/DNSP2012.csv 13\n",
            "SINASC_CSV/DNSP2011.csv 13\n",
            "SINASC_CSV/DNSP2019.csv 13\n"
          ],
          "name": "stdout"
        }
      ]
    },
    {
      "cell_type": "code",
      "metadata": {
        "id": "e6GwCGtO9xgH",
        "outputId": "96a4aa65-96f0-4b85-fbe6-261dd081243b",
        "colab": {
          "base_uri": "https://localhost:8080/",
          "height": 453
        }
      },
      "source": [
        "import pandas as pd\n",
        "\n",
        "pd.read_csv(csv_save_folder / \"union.csv\")"
      ],
      "id": "e6GwCGtO9xgH",
      "execution_count": 12,
      "outputs": [
        {
          "output_type": "stream",
          "text": [
            "/usr/local/lib/python3.7/dist-packages/IPython/core/interactiveshell.py:2718: DtypeWarning: Columns (3) have mixed types.Specify dtype option on import or set low_memory=False.\n",
            "  interactivity=interactivity, compiler=compiler, result=result)\n"
          ],
          "name": "stderr"
        },
        {
          "output_type": "execute_result",
          "data": {
            "text/html": [
              "<div>\n",
              "<style scoped>\n",
              "    .dataframe tbody tr th:only-of-type {\n",
              "        vertical-align: middle;\n",
              "    }\n",
              "\n",
              "    .dataframe tbody tr th {\n",
              "        vertical-align: top;\n",
              "    }\n",
              "\n",
              "    .dataframe thead th {\n",
              "        text-align: right;\n",
              "    }\n",
              "</style>\n",
              "<table border=\"1\" class=\"dataframe\">\n",
              "  <thead>\n",
              "    <tr style=\"text-align: right;\">\n",
              "      <th></th>\n",
              "      <th>Unnamed: 0</th>\n",
              "      <th>DTNASC</th>\n",
              "      <th>QTDFILVIVO</th>\n",
              "      <th>SEXO</th>\n",
              "      <th>IDADEMAE</th>\n",
              "      <th>PESO</th>\n",
              "      <th>GRAVIDEZ</th>\n",
              "      <th>CONSULTAS</th>\n",
              "      <th>RACACOR</th>\n",
              "      <th>CODMUNNASC</th>\n",
              "      <th>ESTCIVMAE</th>\n",
              "      <th>ESCMAE</th>\n",
              "      <th>PARTO</th>\n",
              "      <th>IDANOMAL</th>\n",
              "    </tr>\n",
              "  </thead>\n",
              "  <tbody>\n",
              "    <tr>\n",
              "      <th>0</th>\n",
              "      <td>0</td>\n",
              "      <td>28102013</td>\n",
              "      <td>99.0</td>\n",
              "      <td>1</td>\n",
              "      <td>22.0</td>\n",
              "      <td>9999.0</td>\n",
              "      <td>1.0</td>\n",
              "      <td>9.0</td>\n",
              "      <td>NaN</td>\n",
              "      <td>355030</td>\n",
              "      <td>9.0</td>\n",
              "      <td>1.0</td>\n",
              "      <td>9.0</td>\n",
              "      <td>9.0</td>\n",
              "    </tr>\n",
              "    <tr>\n",
              "      <th>1</th>\n",
              "      <td>1</td>\n",
              "      <td>31052013</td>\n",
              "      <td>99.0</td>\n",
              "      <td>2</td>\n",
              "      <td>99.0</td>\n",
              "      <td>9999.0</td>\n",
              "      <td>1.0</td>\n",
              "      <td>9.0</td>\n",
              "      <td>NaN</td>\n",
              "      <td>355030</td>\n",
              "      <td>9.0</td>\n",
              "      <td>9.0</td>\n",
              "      <td>9.0</td>\n",
              "      <td>9.0</td>\n",
              "    </tr>\n",
              "    <tr>\n",
              "      <th>2</th>\n",
              "      <td>2</td>\n",
              "      <td>21092013</td>\n",
              "      <td>0.0</td>\n",
              "      <td>1</td>\n",
              "      <td>37.0</td>\n",
              "      <td>3200.0</td>\n",
              "      <td>1.0</td>\n",
              "      <td>9.0</td>\n",
              "      <td>NaN</td>\n",
              "      <td>353070</td>\n",
              "      <td>NaN</td>\n",
              "      <td>5.0</td>\n",
              "      <td>1.0</td>\n",
              "      <td>9.0</td>\n",
              "    </tr>\n",
              "    <tr>\n",
              "      <th>3</th>\n",
              "      <td>3</td>\n",
              "      <td>13122013</td>\n",
              "      <td>0.0</td>\n",
              "      <td>1</td>\n",
              "      <td>32.0</td>\n",
              "      <td>2740.0</td>\n",
              "      <td>1.0</td>\n",
              "      <td>4.0</td>\n",
              "      <td>NaN</td>\n",
              "      <td>355620</td>\n",
              "      <td>2.0</td>\n",
              "      <td>5.0</td>\n",
              "      <td>1.0</td>\n",
              "      <td>2.0</td>\n",
              "    </tr>\n",
              "    <tr>\n",
              "      <th>4</th>\n",
              "      <td>4</td>\n",
              "      <td>20022013</td>\n",
              "      <td>1.0</td>\n",
              "      <td>1</td>\n",
              "      <td>27.0</td>\n",
              "      <td>3075.0</td>\n",
              "      <td>NaN</td>\n",
              "      <td>NaN</td>\n",
              "      <td>NaN</td>\n",
              "      <td>354410</td>\n",
              "      <td>9.0</td>\n",
              "      <td>3.0</td>\n",
              "      <td>NaN</td>\n",
              "      <td>9.0</td>\n",
              "    </tr>\n",
              "    <tr>\n",
              "      <th>...</th>\n",
              "      <td>...</td>\n",
              "      <td>...</td>\n",
              "      <td>...</td>\n",
              "      <td>...</td>\n",
              "      <td>...</td>\n",
              "      <td>...</td>\n",
              "      <td>...</td>\n",
              "      <td>...</td>\n",
              "      <td>...</td>\n",
              "      <td>...</td>\n",
              "      <td>...</td>\n",
              "      <td>...</td>\n",
              "      <td>...</td>\n",
              "      <td>...</td>\n",
              "    </tr>\n",
              "    <tr>\n",
              "      <th>6101363</th>\n",
              "      <td>583186</td>\n",
              "      <td>5122019</td>\n",
              "      <td>2.0</td>\n",
              "      <td>2</td>\n",
              "      <td>27.0</td>\n",
              "      <td>3040.0</td>\n",
              "      <td>1.0</td>\n",
              "      <td>4.0</td>\n",
              "      <td>4.0</td>\n",
              "      <td>520870</td>\n",
              "      <td>1.0</td>\n",
              "      <td>4.0</td>\n",
              "      <td>2.0</td>\n",
              "      <td>2.0</td>\n",
              "    </tr>\n",
              "    <tr>\n",
              "      <th>6101364</th>\n",
              "      <td>583187</td>\n",
              "      <td>1082019</td>\n",
              "      <td>0.0</td>\n",
              "      <td>2</td>\n",
              "      <td>31.0</td>\n",
              "      <td>3480.0</td>\n",
              "      <td>1.0</td>\n",
              "      <td>4.0</td>\n",
              "      <td>1.0</td>\n",
              "      <td>530010</td>\n",
              "      <td>5.0</td>\n",
              "      <td>5.0</td>\n",
              "      <td>1.0</td>\n",
              "      <td>2.0</td>\n",
              "    </tr>\n",
              "    <tr>\n",
              "      <th>6101365</th>\n",
              "      <td>583188</td>\n",
              "      <td>17092019</td>\n",
              "      <td>1.0</td>\n",
              "      <td>1</td>\n",
              "      <td>33.0</td>\n",
              "      <td>2940.0</td>\n",
              "      <td>1.0</td>\n",
              "      <td>3.0</td>\n",
              "      <td>2.0</td>\n",
              "      <td>530010</td>\n",
              "      <td>1.0</td>\n",
              "      <td>5.0</td>\n",
              "      <td>2.0</td>\n",
              "      <td>2.0</td>\n",
              "    </tr>\n",
              "    <tr>\n",
              "      <th>6101366</th>\n",
              "      <td>583189</td>\n",
              "      <td>22112019</td>\n",
              "      <td>1.0</td>\n",
              "      <td>2</td>\n",
              "      <td>33.0</td>\n",
              "      <td>2770.0</td>\n",
              "      <td>1.0</td>\n",
              "      <td>4.0</td>\n",
              "      <td>4.0</td>\n",
              "      <td>530010</td>\n",
              "      <td>2.0</td>\n",
              "      <td>5.0</td>\n",
              "      <td>2.0</td>\n",
              "      <td>2.0</td>\n",
              "    </tr>\n",
              "    <tr>\n",
              "      <th>6101367</th>\n",
              "      <td>583190</td>\n",
              "      <td>23112019</td>\n",
              "      <td>0.0</td>\n",
              "      <td>1</td>\n",
              "      <td>31.0</td>\n",
              "      <td>3055.0</td>\n",
              "      <td>1.0</td>\n",
              "      <td>4.0</td>\n",
              "      <td>1.0</td>\n",
              "      <td>530010</td>\n",
              "      <td>2.0</td>\n",
              "      <td>5.0</td>\n",
              "      <td>2.0</td>\n",
              "      <td>2.0</td>\n",
              "    </tr>\n",
              "  </tbody>\n",
              "</table>\n",
              "<p>6101368 rows × 14 columns</p>\n",
              "</div>"
            ],
            "text/plain": [
              "         Unnamed: 0    DTNASC  QTDFILVIVO  ... ESCMAE  PARTO  IDANOMAL\n",
              "0                 0  28102013        99.0  ...    1.0    9.0       9.0\n",
              "1                 1  31052013        99.0  ...    9.0    9.0       9.0\n",
              "2                 2  21092013         0.0  ...    5.0    1.0       9.0\n",
              "3                 3  13122013         0.0  ...    5.0    1.0       2.0\n",
              "4                 4  20022013         1.0  ...    3.0    NaN       9.0\n",
              "...             ...       ...         ...  ...    ...    ...       ...\n",
              "6101363      583186   5122019         2.0  ...    4.0    2.0       2.0\n",
              "6101364      583187   1082019         0.0  ...    5.0    1.0       2.0\n",
              "6101365      583188  17092019         1.0  ...    5.0    2.0       2.0\n",
              "6101366      583189  22112019         1.0  ...    5.0    2.0       2.0\n",
              "6101367      583190  23112019         0.0  ...    5.0    2.0       2.0\n",
              "\n",
              "[6101368 rows x 14 columns]"
            ]
          },
          "metadata": {
            "tags": []
          },
          "execution_count": 12
        }
      ]
    }
  ]
}